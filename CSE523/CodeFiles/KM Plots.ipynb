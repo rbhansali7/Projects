{
 "cells": [
  {
   "cell_type": "code",
   "execution_count": 85,
   "metadata": {
    "collapsed": true
   },
   "outputs": [],
   "source": [
    "import pandas as pd\n",
    "import numpy as np\n",
    "import seaborn as sns\n",
    "import matplotlib.pyplot as plt\n",
    "from numpy import loadtxt\n",
    "from random import *\n",
    "from sklearn.metrics import accuracy_score\n",
    "from sklearn import datasets, linear_model\n",
    "from sklearn.model_selection import cross_val_predict\n",
    "from sklearn.metrics import mean_squared_error, r2_score\n",
    "from sklearn.model_selection import train_test_split\n",
    "from sklearn.naive_bayes import GaussianNB\n",
    "from sklearn import svm\n",
    "from sklearn.svm import LinearSVC\n",
    "from sklearn.svm import SVC\n",
    "from collections import Counter\n",
    "from sklearn.metrics import confusion_matrix\n",
    "from sklearn.neighbors import KNeighborsClassifier\n",
    "from sklearn.tree import DecisionTreeClassifier\n",
    "from sklearn.ensemble import RandomForestClassifier\n",
    "#from imblearn.over_sampling import SMOTE\n",
    "#from imblearn.over_sampling import ADASYN\n",
    "%matplotlib inline\n",
    "import plotly.plotly as py\n",
    "#import cufflinks as cf\n",
    "from lifelines import KaplanMeierFitter\n",
    "from lifelines.statistics import logrank_test\n",
    "\n",
    "\n",
    "from keras.models import Sequential\n",
    "from keras.layers import Dense\n",
    "from keras.wrappers.scikit_learn import KerasClassifier\n",
    "from keras.utils import np_utils\n",
    "from sklearn.model_selection import cross_val_score\n",
    "from sklearn.model_selection import KFold\n",
    "from sklearn.preprocessing import LabelEncoder\n",
    "from sklearn.pipeline import Pipeline"
   ]
  },
  {
   "cell_type": "code",
   "execution_count": 86,
   "metadata": {
    "collapsed": true
   },
   "outputs": [],
   "source": [
    "#KM Plots\n",
    "ClinicalDF = pd.read_csv('all_clinical.txt', sep='\\t')"
   ]
  },
  {
   "cell_type": "code",
   "execution_count": 87,
   "metadata": {},
   "outputs": [
    {
     "data": {
      "text/html": [
       "<div>\n",
       "<style>\n",
       "    .dataframe thead tr:only-child th {\n",
       "        text-align: right;\n",
       "    }\n",
       "\n",
       "    .dataframe thead th {\n",
       "        text-align: left;\n",
       "    }\n",
       "\n",
       "    .dataframe tbody tr th {\n",
       "        vertical-align: top;\n",
       "    }\n",
       "</style>\n",
       "<table border=\"1\" class=\"dataframe\">\n",
       "  <thead>\n",
       "    <tr style=\"text-align: right;\">\n",
       "      <th></th>\n",
       "      <th>Unnamed: 0</th>\n",
       "      <th>CASE_ID</th>\n",
       "      <th>AGE</th>\n",
       "      <th>AJCC_METASTASIS_PATHOLOGIC_PM</th>\n",
       "      <th>AJCC_NODES_PATHOLOGIC_PN</th>\n",
       "      <th>AJCC_PATHOLOGIC_TUMOR_STAGE</th>\n",
       "      <th>AJCC_STAGING_EDITION</th>\n",
       "      <th>AJCC_TUMOR_PATHOLOGIC_PT</th>\n",
       "      <th>BRACHYTHERAPY_TOTAL_DOSE_POINT_A</th>\n",
       "      <th>CANCER_TYPE</th>\n",
       "      <th>...</th>\n",
       "      <th>STAGING_SYSTEM</th>\n",
       "      <th>STAGING_SYSTEM_OTHER</th>\n",
       "      <th>SURGERY_FOR_POSITIVE_MARGINS</th>\n",
       "      <th>SURGERY_FOR_POSITIVE_MARGINS_OTHER</th>\n",
       "      <th>SURGICAL_PROCEDURE_FIRST</th>\n",
       "      <th>TISSUE_SOURCE_SITE</th>\n",
       "      <th>TUMOR_STATUS</th>\n",
       "      <th>TUMOR_TISSUE_SITE</th>\n",
       "      <th>VIAL_NUMBER</th>\n",
       "      <th>VITAL_STATUS</th>\n",
       "    </tr>\n",
       "  </thead>\n",
       "  <tbody>\n",
       "    <tr>\n",
       "      <th>0</th>\n",
       "      <td>0</td>\n",
       "      <td>TCGA-A7-A3J0</td>\n",
       "      <td>62.0</td>\n",
       "      <td>M0</td>\n",
       "      <td>N0</td>\n",
       "      <td>Stage IIA</td>\n",
       "      <td>7th</td>\n",
       "      <td>T2</td>\n",
       "      <td>NaN</td>\n",
       "      <td>Breast Cancer</td>\n",
       "      <td>...</td>\n",
       "      <td>Sentinel node biopsy alone</td>\n",
       "      <td>NaN</td>\n",
       "      <td>NaN</td>\n",
       "      <td>NaN</td>\n",
       "      <td>Lumpectomy</td>\n",
       "      <td>A7</td>\n",
       "      <td>TUMOR FREE</td>\n",
       "      <td>Breast</td>\n",
       "      <td>A</td>\n",
       "      <td>Alive</td>\n",
       "    </tr>\n",
       "    <tr>\n",
       "      <th>1</th>\n",
       "      <td>1</td>\n",
       "      <td>TCGA-OL-A66N</td>\n",
       "      <td>59.0</td>\n",
       "      <td>MX</td>\n",
       "      <td>N3</td>\n",
       "      <td>Stage IIIC</td>\n",
       "      <td>7th</td>\n",
       "      <td>T3</td>\n",
       "      <td>NaN</td>\n",
       "      <td>Breast Cancer</td>\n",
       "      <td>...</td>\n",
       "      <td>Sentinel node biopsy alone</td>\n",
       "      <td>NaN</td>\n",
       "      <td>NaN</td>\n",
       "      <td>NaN</td>\n",
       "      <td>Modified Radical Mastectomy</td>\n",
       "      <td>OL</td>\n",
       "      <td>TUMOR FREE</td>\n",
       "      <td>Breast</td>\n",
       "      <td>A</td>\n",
       "      <td>Alive</td>\n",
       "    </tr>\n",
       "    <tr>\n",
       "      <th>2</th>\n",
       "      <td>2</td>\n",
       "      <td>TCGA-AQ-A0Y5</td>\n",
       "      <td>70.0</td>\n",
       "      <td>MX</td>\n",
       "      <td>N2a</td>\n",
       "      <td>Stage IIIA</td>\n",
       "      <td>7th</td>\n",
       "      <td>T2</td>\n",
       "      <td>NaN</td>\n",
       "      <td>Breast Cancer</td>\n",
       "      <td>...</td>\n",
       "      <td>Sentinel lymph node biopsy plus axillary disse...</td>\n",
       "      <td>NaN</td>\n",
       "      <td>NaN</td>\n",
       "      <td>NaN</td>\n",
       "      <td>Modified Radical Mastectomy</td>\n",
       "      <td>AQ</td>\n",
       "      <td>TUMOR FREE</td>\n",
       "      <td>Breast</td>\n",
       "      <td>A</td>\n",
       "      <td>Dead</td>\n",
       "    </tr>\n",
       "    <tr>\n",
       "      <th>3</th>\n",
       "      <td>3</td>\n",
       "      <td>TCGA-E9-A22H</td>\n",
       "      <td>42.0</td>\n",
       "      <td>M0</td>\n",
       "      <td>N1</td>\n",
       "      <td>Stage IIB</td>\n",
       "      <td>7th</td>\n",
       "      <td>T2</td>\n",
       "      <td>NaN</td>\n",
       "      <td>Breast Cancer</td>\n",
       "      <td>...</td>\n",
       "      <td>Axillary lymph node dissection alone</td>\n",
       "      <td>NaN</td>\n",
       "      <td>NaN</td>\n",
       "      <td>NaN</td>\n",
       "      <td>Modified Radical Mastectomy</td>\n",
       "      <td>E9</td>\n",
       "      <td>TUMOR FREE</td>\n",
       "      <td>Breast</td>\n",
       "      <td>A</td>\n",
       "      <td>Alive</td>\n",
       "    </tr>\n",
       "    <tr>\n",
       "      <th>4</th>\n",
       "      <td>4</td>\n",
       "      <td>TCGA-BH-A0EB</td>\n",
       "      <td>69.0</td>\n",
       "      <td>M0</td>\n",
       "      <td>N0 (i-)</td>\n",
       "      <td>Stage IA</td>\n",
       "      <td>NaN</td>\n",
       "      <td>T1c</td>\n",
       "      <td>H-SCORE 300</td>\n",
       "      <td>Breast Cancer</td>\n",
       "      <td>...</td>\n",
       "      <td>Sentinel lymph node biopsy plus axillary disse...</td>\n",
       "      <td>NaN</td>\n",
       "      <td>NaN</td>\n",
       "      <td>NaN</td>\n",
       "      <td>Other</td>\n",
       "      <td>BH</td>\n",
       "      <td>TUMOR FREE</td>\n",
       "      <td>Breast</td>\n",
       "      <td>A</td>\n",
       "      <td>Alive</td>\n",
       "    </tr>\n",
       "  </tbody>\n",
       "</table>\n",
       "<p>5 rows × 109 columns</p>\n",
       "</div>"
      ],
      "text/plain": [
       "   Unnamed: 0       CASE_ID   AGE AJCC_METASTASIS_PATHOLOGIC_PM  \\\n",
       "0           0  TCGA-A7-A3J0  62.0                            M0   \n",
       "1           1  TCGA-OL-A66N  59.0                            MX   \n",
       "2           2  TCGA-AQ-A0Y5  70.0                            MX   \n",
       "3           3  TCGA-E9-A22H  42.0                            M0   \n",
       "4           4  TCGA-BH-A0EB  69.0                            M0   \n",
       "\n",
       "  AJCC_NODES_PATHOLOGIC_PN AJCC_PATHOLOGIC_TUMOR_STAGE AJCC_STAGING_EDITION  \\\n",
       "0                       N0                   Stage IIA                  7th   \n",
       "1                       N3                  Stage IIIC                  7th   \n",
       "2                      N2a                  Stage IIIA                  7th   \n",
       "3                       N1                   Stage IIB                  7th   \n",
       "4                  N0 (i-)                    Stage IA                  NaN   \n",
       "\n",
       "  AJCC_TUMOR_PATHOLOGIC_PT BRACHYTHERAPY_TOTAL_DOSE_POINT_A    CANCER_TYPE  \\\n",
       "0                       T2                              NaN  Breast Cancer   \n",
       "1                       T3                              NaN  Breast Cancer   \n",
       "2                       T2                              NaN  Breast Cancer   \n",
       "3                       T2                              NaN  Breast Cancer   \n",
       "4                      T1c                      H-SCORE 300  Breast Cancer   \n",
       "\n",
       "      ...                                          STAGING_SYSTEM  \\\n",
       "0     ...                              Sentinel node biopsy alone   \n",
       "1     ...                              Sentinel node biopsy alone   \n",
       "2     ...       Sentinel lymph node biopsy plus axillary disse...   \n",
       "3     ...                    Axillary lymph node dissection alone   \n",
       "4     ...       Sentinel lymph node biopsy plus axillary disse...   \n",
       "\n",
       "  STAGING_SYSTEM_OTHER  SURGERY_FOR_POSITIVE_MARGINS  \\\n",
       "0                  NaN                           NaN   \n",
       "1                  NaN                           NaN   \n",
       "2                  NaN                           NaN   \n",
       "3                  NaN                           NaN   \n",
       "4                  NaN                           NaN   \n",
       "\n",
       "   SURGERY_FOR_POSITIVE_MARGINS_OTHER     SURGICAL_PROCEDURE_FIRST  \\\n",
       "0                                 NaN                   Lumpectomy   \n",
       "1                                 NaN  Modified Radical Mastectomy   \n",
       "2                                 NaN  Modified Radical Mastectomy   \n",
       "3                                 NaN  Modified Radical Mastectomy   \n",
       "4                                 NaN                        Other   \n",
       "\n",
       "   TISSUE_SOURCE_SITE  TUMOR_STATUS  TUMOR_TISSUE_SITE VIAL_NUMBER  \\\n",
       "0                  A7    TUMOR FREE             Breast           A   \n",
       "1                  OL    TUMOR FREE             Breast           A   \n",
       "2                  AQ    TUMOR FREE             Breast           A   \n",
       "3                  E9    TUMOR FREE             Breast           A   \n",
       "4                  BH    TUMOR FREE             Breast           A   \n",
       "\n",
       "  VITAL_STATUS  \n",
       "0        Alive  \n",
       "1        Alive  \n",
       "2         Dead  \n",
       "3        Alive  \n",
       "4        Alive  \n",
       "\n",
       "[5 rows x 109 columns]"
      ]
     },
     "execution_count": 87,
     "metadata": {},
     "output_type": "execute_result"
    }
   ],
   "source": [
    "ClinicalDF.head()"
   ]
  },
  {
   "cell_type": "code",
   "execution_count": 88,
   "metadata": {
    "collapsed": true
   },
   "outputs": [],
   "source": [
    "ClinicalDF.dropna(subset=['AJCC_PATHOLOGIC_TUMOR_STAGE'], inplace=True)"
   ]
  },
  {
   "cell_type": "code",
   "execution_count": 89,
   "metadata": {},
   "outputs": [
    {
     "data": {
      "text/html": [
       "<div>\n",
       "<style>\n",
       "    .dataframe thead tr:only-child th {\n",
       "        text-align: right;\n",
       "    }\n",
       "\n",
       "    .dataframe thead th {\n",
       "        text-align: left;\n",
       "    }\n",
       "\n",
       "    .dataframe tbody tr th {\n",
       "        vertical-align: top;\n",
       "    }\n",
       "</style>\n",
       "<table border=\"1\" class=\"dataframe\">\n",
       "  <thead>\n",
       "    <tr style=\"text-align: right;\">\n",
       "      <th></th>\n",
       "      <th>Unnamed: 0</th>\n",
       "      <th>CASE_ID</th>\n",
       "      <th>AGE</th>\n",
       "      <th>AJCC_METASTASIS_PATHOLOGIC_PM</th>\n",
       "      <th>AJCC_NODES_PATHOLOGIC_PN</th>\n",
       "      <th>AJCC_PATHOLOGIC_TUMOR_STAGE</th>\n",
       "      <th>AJCC_STAGING_EDITION</th>\n",
       "      <th>AJCC_TUMOR_PATHOLOGIC_PT</th>\n",
       "      <th>BRACHYTHERAPY_TOTAL_DOSE_POINT_A</th>\n",
       "      <th>CANCER_TYPE</th>\n",
       "      <th>...</th>\n",
       "      <th>STAGING_SYSTEM</th>\n",
       "      <th>STAGING_SYSTEM_OTHER</th>\n",
       "      <th>SURGERY_FOR_POSITIVE_MARGINS</th>\n",
       "      <th>SURGERY_FOR_POSITIVE_MARGINS_OTHER</th>\n",
       "      <th>SURGICAL_PROCEDURE_FIRST</th>\n",
       "      <th>TISSUE_SOURCE_SITE</th>\n",
       "      <th>TUMOR_STATUS</th>\n",
       "      <th>TUMOR_TISSUE_SITE</th>\n",
       "      <th>VIAL_NUMBER</th>\n",
       "      <th>VITAL_STATUS</th>\n",
       "    </tr>\n",
       "  </thead>\n",
       "  <tbody>\n",
       "    <tr>\n",
       "      <th>0</th>\n",
       "      <td>0</td>\n",
       "      <td>TCGA-A7-A3J0</td>\n",
       "      <td>62.0</td>\n",
       "      <td>M0</td>\n",
       "      <td>N0</td>\n",
       "      <td>Stage IIA</td>\n",
       "      <td>7th</td>\n",
       "      <td>T2</td>\n",
       "      <td>NaN</td>\n",
       "      <td>Breast Cancer</td>\n",
       "      <td>...</td>\n",
       "      <td>Sentinel node biopsy alone</td>\n",
       "      <td>NaN</td>\n",
       "      <td>NaN</td>\n",
       "      <td>NaN</td>\n",
       "      <td>Lumpectomy</td>\n",
       "      <td>A7</td>\n",
       "      <td>TUMOR FREE</td>\n",
       "      <td>Breast</td>\n",
       "      <td>A</td>\n",
       "      <td>Alive</td>\n",
       "    </tr>\n",
       "    <tr>\n",
       "      <th>1</th>\n",
       "      <td>1</td>\n",
       "      <td>TCGA-OL-A66N</td>\n",
       "      <td>59.0</td>\n",
       "      <td>MX</td>\n",
       "      <td>N3</td>\n",
       "      <td>Stage IIIC</td>\n",
       "      <td>7th</td>\n",
       "      <td>T3</td>\n",
       "      <td>NaN</td>\n",
       "      <td>Breast Cancer</td>\n",
       "      <td>...</td>\n",
       "      <td>Sentinel node biopsy alone</td>\n",
       "      <td>NaN</td>\n",
       "      <td>NaN</td>\n",
       "      <td>NaN</td>\n",
       "      <td>Modified Radical Mastectomy</td>\n",
       "      <td>OL</td>\n",
       "      <td>TUMOR FREE</td>\n",
       "      <td>Breast</td>\n",
       "      <td>A</td>\n",
       "      <td>Alive</td>\n",
       "    </tr>\n",
       "    <tr>\n",
       "      <th>2</th>\n",
       "      <td>2</td>\n",
       "      <td>TCGA-AQ-A0Y5</td>\n",
       "      <td>70.0</td>\n",
       "      <td>MX</td>\n",
       "      <td>N2a</td>\n",
       "      <td>Stage IIIA</td>\n",
       "      <td>7th</td>\n",
       "      <td>T2</td>\n",
       "      <td>NaN</td>\n",
       "      <td>Breast Cancer</td>\n",
       "      <td>...</td>\n",
       "      <td>Sentinel lymph node biopsy plus axillary disse...</td>\n",
       "      <td>NaN</td>\n",
       "      <td>NaN</td>\n",
       "      <td>NaN</td>\n",
       "      <td>Modified Radical Mastectomy</td>\n",
       "      <td>AQ</td>\n",
       "      <td>TUMOR FREE</td>\n",
       "      <td>Breast</td>\n",
       "      <td>A</td>\n",
       "      <td>Dead</td>\n",
       "    </tr>\n",
       "    <tr>\n",
       "      <th>3</th>\n",
       "      <td>3</td>\n",
       "      <td>TCGA-E9-A22H</td>\n",
       "      <td>42.0</td>\n",
       "      <td>M0</td>\n",
       "      <td>N1</td>\n",
       "      <td>Stage IIB</td>\n",
       "      <td>7th</td>\n",
       "      <td>T2</td>\n",
       "      <td>NaN</td>\n",
       "      <td>Breast Cancer</td>\n",
       "      <td>...</td>\n",
       "      <td>Axillary lymph node dissection alone</td>\n",
       "      <td>NaN</td>\n",
       "      <td>NaN</td>\n",
       "      <td>NaN</td>\n",
       "      <td>Modified Radical Mastectomy</td>\n",
       "      <td>E9</td>\n",
       "      <td>TUMOR FREE</td>\n",
       "      <td>Breast</td>\n",
       "      <td>A</td>\n",
       "      <td>Alive</td>\n",
       "    </tr>\n",
       "    <tr>\n",
       "      <th>4</th>\n",
       "      <td>4</td>\n",
       "      <td>TCGA-BH-A0EB</td>\n",
       "      <td>69.0</td>\n",
       "      <td>M0</td>\n",
       "      <td>N0 (i-)</td>\n",
       "      <td>Stage IA</td>\n",
       "      <td>NaN</td>\n",
       "      <td>T1c</td>\n",
       "      <td>H-SCORE 300</td>\n",
       "      <td>Breast Cancer</td>\n",
       "      <td>...</td>\n",
       "      <td>Sentinel lymph node biopsy plus axillary disse...</td>\n",
       "      <td>NaN</td>\n",
       "      <td>NaN</td>\n",
       "      <td>NaN</td>\n",
       "      <td>Other</td>\n",
       "      <td>BH</td>\n",
       "      <td>TUMOR FREE</td>\n",
       "      <td>Breast</td>\n",
       "      <td>A</td>\n",
       "      <td>Alive</td>\n",
       "    </tr>\n",
       "  </tbody>\n",
       "</table>\n",
       "<p>5 rows × 109 columns</p>\n",
       "</div>"
      ],
      "text/plain": [
       "   Unnamed: 0       CASE_ID   AGE AJCC_METASTASIS_PATHOLOGIC_PM  \\\n",
       "0           0  TCGA-A7-A3J0  62.0                            M0   \n",
       "1           1  TCGA-OL-A66N  59.0                            MX   \n",
       "2           2  TCGA-AQ-A0Y5  70.0                            MX   \n",
       "3           3  TCGA-E9-A22H  42.0                            M0   \n",
       "4           4  TCGA-BH-A0EB  69.0                            M0   \n",
       "\n",
       "  AJCC_NODES_PATHOLOGIC_PN AJCC_PATHOLOGIC_TUMOR_STAGE AJCC_STAGING_EDITION  \\\n",
       "0                       N0                   Stage IIA                  7th   \n",
       "1                       N3                  Stage IIIC                  7th   \n",
       "2                      N2a                  Stage IIIA                  7th   \n",
       "3                       N1                   Stage IIB                  7th   \n",
       "4                  N0 (i-)                    Stage IA                  NaN   \n",
       "\n",
       "  AJCC_TUMOR_PATHOLOGIC_PT BRACHYTHERAPY_TOTAL_DOSE_POINT_A    CANCER_TYPE  \\\n",
       "0                       T2                              NaN  Breast Cancer   \n",
       "1                       T3                              NaN  Breast Cancer   \n",
       "2                       T2                              NaN  Breast Cancer   \n",
       "3                       T2                              NaN  Breast Cancer   \n",
       "4                      T1c                      H-SCORE 300  Breast Cancer   \n",
       "\n",
       "      ...                                          STAGING_SYSTEM  \\\n",
       "0     ...                              Sentinel node biopsy alone   \n",
       "1     ...                              Sentinel node biopsy alone   \n",
       "2     ...       Sentinel lymph node biopsy plus axillary disse...   \n",
       "3     ...                    Axillary lymph node dissection alone   \n",
       "4     ...       Sentinel lymph node biopsy plus axillary disse...   \n",
       "\n",
       "  STAGING_SYSTEM_OTHER  SURGERY_FOR_POSITIVE_MARGINS  \\\n",
       "0                  NaN                           NaN   \n",
       "1                  NaN                           NaN   \n",
       "2                  NaN                           NaN   \n",
       "3                  NaN                           NaN   \n",
       "4                  NaN                           NaN   \n",
       "\n",
       "   SURGERY_FOR_POSITIVE_MARGINS_OTHER     SURGICAL_PROCEDURE_FIRST  \\\n",
       "0                                 NaN                   Lumpectomy   \n",
       "1                                 NaN  Modified Radical Mastectomy   \n",
       "2                                 NaN  Modified Radical Mastectomy   \n",
       "3                                 NaN  Modified Radical Mastectomy   \n",
       "4                                 NaN                        Other   \n",
       "\n",
       "   TISSUE_SOURCE_SITE  TUMOR_STATUS  TUMOR_TISSUE_SITE VIAL_NUMBER  \\\n",
       "0                  A7    TUMOR FREE             Breast           A   \n",
       "1                  OL    TUMOR FREE             Breast           A   \n",
       "2                  AQ    TUMOR FREE             Breast           A   \n",
       "3                  E9    TUMOR FREE             Breast           A   \n",
       "4                  BH    TUMOR FREE             Breast           A   \n",
       "\n",
       "  VITAL_STATUS  \n",
       "0        Alive  \n",
       "1        Alive  \n",
       "2         Dead  \n",
       "3        Alive  \n",
       "4        Alive  \n",
       "\n",
       "[5 rows x 109 columns]"
      ]
     },
     "execution_count": 89,
     "metadata": {},
     "output_type": "execute_result"
    }
   ],
   "source": [
    "ClinicalDF.head()"
   ]
  },
  {
   "cell_type": "code",
   "execution_count": 90,
   "metadata": {
    "collapsed": true
   },
   "outputs": [],
   "source": [
    "#Commented out\n",
    "#CibersortDF = pd.read_csv('CIBERSORT.Output_Job30.csv', sep=',')\n",
    "#CibersortDF = CibersortDF.rename(index=str, columns={\"Input Sample\": \"CASE_ID\"})\n",
    "#joined_df = ClinicalDF.merge(CibersortDF, on='CASE_ID', how='inner')\n",
    "#ClinicalDF = joined_df.loc[:,'CASE_ID':'VITAL_STATUS']"
   ]
  },
  {
   "cell_type": "code",
   "execution_count": 91,
   "metadata": {
    "collapsed": true
   },
   "outputs": [],
   "source": [
    "reqDF = ClinicalDF[['CASE_ID','AJCC_PATHOLOGIC_TUMOR_STAGE','DAYS_TO_DEATH','VITAL_STATUS']]"
   ]
  },
  {
   "cell_type": "code",
   "execution_count": 92,
   "metadata": {},
   "outputs": [
    {
     "data": {
      "text/html": [
       "<div>\n",
       "<style>\n",
       "    .dataframe thead tr:only-child th {\n",
       "        text-align: right;\n",
       "    }\n",
       "\n",
       "    .dataframe thead th {\n",
       "        text-align: left;\n",
       "    }\n",
       "\n",
       "    .dataframe tbody tr th {\n",
       "        vertical-align: top;\n",
       "    }\n",
       "</style>\n",
       "<table border=\"1\" class=\"dataframe\">\n",
       "  <thead>\n",
       "    <tr style=\"text-align: right;\">\n",
       "      <th></th>\n",
       "      <th>CASE_ID</th>\n",
       "      <th>AJCC_PATHOLOGIC_TUMOR_STAGE</th>\n",
       "      <th>DAYS_TO_DEATH</th>\n",
       "      <th>VITAL_STATUS</th>\n",
       "    </tr>\n",
       "  </thead>\n",
       "  <tbody>\n",
       "    <tr>\n",
       "      <th>0</th>\n",
       "      <td>TCGA-A7-A3J0</td>\n",
       "      <td>Stage IIA</td>\n",
       "      <td>NaN</td>\n",
       "      <td>Alive</td>\n",
       "    </tr>\n",
       "    <tr>\n",
       "      <th>1</th>\n",
       "      <td>TCGA-OL-A66N</td>\n",
       "      <td>Stage IIIC</td>\n",
       "      <td>NaN</td>\n",
       "      <td>Alive</td>\n",
       "    </tr>\n",
       "    <tr>\n",
       "      <th>2</th>\n",
       "      <td>TCGA-AQ-A0Y5</td>\n",
       "      <td>Stage IIIA</td>\n",
       "      <td>172.0</td>\n",
       "      <td>Dead</td>\n",
       "    </tr>\n",
       "    <tr>\n",
       "      <th>3</th>\n",
       "      <td>TCGA-E9-A22H</td>\n",
       "      <td>Stage IIB</td>\n",
       "      <td>NaN</td>\n",
       "      <td>Alive</td>\n",
       "    </tr>\n",
       "    <tr>\n",
       "      <th>4</th>\n",
       "      <td>TCGA-BH-A0EB</td>\n",
       "      <td>Stage IA</td>\n",
       "      <td>NaN</td>\n",
       "      <td>Alive</td>\n",
       "    </tr>\n",
       "  </tbody>\n",
       "</table>\n",
       "</div>"
      ],
      "text/plain": [
       "        CASE_ID AJCC_PATHOLOGIC_TUMOR_STAGE  DAYS_TO_DEATH VITAL_STATUS\n",
       "0  TCGA-A7-A3J0                   Stage IIA            NaN        Alive\n",
       "1  TCGA-OL-A66N                  Stage IIIC            NaN        Alive\n",
       "2  TCGA-AQ-A0Y5                  Stage IIIA          172.0         Dead\n",
       "3  TCGA-E9-A22H                   Stage IIB            NaN        Alive\n",
       "4  TCGA-BH-A0EB                    Stage IA            NaN        Alive"
      ]
     },
     "execution_count": 92,
     "metadata": {},
     "output_type": "execute_result"
    }
   ],
   "source": [
    "reqDF.head()"
   ]
  },
  {
   "cell_type": "code",
   "execution_count": 93,
   "metadata": {},
   "outputs": [
    {
     "name": "stderr",
     "output_type": "stream",
     "text": [
      "/Users/rahulbhansali1/anaconda/lib/python3.6/site-packages/ipykernel_launcher.py:1: SettingWithCopyWarning:\n",
      "\n",
      "\n",
      "A value is trying to be set on a copy of a slice from a DataFrame\n",
      "\n",
      "See the caveats in the documentation: http://pandas.pydata.org/pandas-docs/stable/indexing.html#indexing-view-versus-copy\n",
      "\n"
     ]
    }
   ],
   "source": [
    "reqDF.dropna(subset=['DAYS_TO_DEATH'], inplace=True)"
   ]
  },
  {
   "cell_type": "code",
   "execution_count": 94,
   "metadata": {},
   "outputs": [
    {
     "data": {
      "text/html": [
       "<div>\n",
       "<style>\n",
       "    .dataframe thead tr:only-child th {\n",
       "        text-align: right;\n",
       "    }\n",
       "\n",
       "    .dataframe thead th {\n",
       "        text-align: left;\n",
       "    }\n",
       "\n",
       "    .dataframe tbody tr th {\n",
       "        vertical-align: top;\n",
       "    }\n",
       "</style>\n",
       "<table border=\"1\" class=\"dataframe\">\n",
       "  <thead>\n",
       "    <tr style=\"text-align: right;\">\n",
       "      <th></th>\n",
       "      <th>CASE_ID</th>\n",
       "      <th>AJCC_PATHOLOGIC_TUMOR_STAGE</th>\n",
       "      <th>DAYS_TO_DEATH</th>\n",
       "      <th>VITAL_STATUS</th>\n",
       "    </tr>\n",
       "  </thead>\n",
       "  <tbody>\n",
       "    <tr>\n",
       "      <th>2</th>\n",
       "      <td>TCGA-AQ-A0Y5</td>\n",
       "      <td>Stage IIIA</td>\n",
       "      <td>172.0</td>\n",
       "      <td>Dead</td>\n",
       "    </tr>\n",
       "    <tr>\n",
       "      <th>21</th>\n",
       "      <td>TCGA-BH-A203</td>\n",
       "      <td>Stage IIB</td>\n",
       "      <td>1174.0</td>\n",
       "      <td>Dead</td>\n",
       "    </tr>\n",
       "    <tr>\n",
       "      <th>23</th>\n",
       "      <td>TCGA-B6-A0I6</td>\n",
       "      <td>Stage IIA</td>\n",
       "      <td>991.0</td>\n",
       "      <td>Dead</td>\n",
       "    </tr>\n",
       "    <tr>\n",
       "      <th>32</th>\n",
       "      <td>TCGA-AR-A0U2</td>\n",
       "      <td>Stage IIIA</td>\n",
       "      <td>2551.0</td>\n",
       "      <td>Dead</td>\n",
       "    </tr>\n",
       "    <tr>\n",
       "      <th>44</th>\n",
       "      <td>TCGA-BH-A1EO</td>\n",
       "      <td>Stage IIA</td>\n",
       "      <td>2798.0</td>\n",
       "      <td>Dead</td>\n",
       "    </tr>\n",
       "  </tbody>\n",
       "</table>\n",
       "</div>"
      ],
      "text/plain": [
       "         CASE_ID AJCC_PATHOLOGIC_TUMOR_STAGE  DAYS_TO_DEATH VITAL_STATUS\n",
       "2   TCGA-AQ-A0Y5                  Stage IIIA          172.0         Dead\n",
       "21  TCGA-BH-A203                   Stage IIB         1174.0         Dead\n",
       "23  TCGA-B6-A0I6                   Stage IIA          991.0         Dead\n",
       "32  TCGA-AR-A0U2                  Stage IIIA         2551.0         Dead\n",
       "44  TCGA-BH-A1EO                   Stage IIA         2798.0         Dead"
      ]
     },
     "execution_count": 94,
     "metadata": {},
     "output_type": "execute_result"
    }
   ],
   "source": [
    "reqDF.head()"
   ]
  },
  {
   "cell_type": "code",
   "execution_count": 95,
   "metadata": {
    "collapsed": true
   },
   "outputs": [],
   "source": [
    "mapping = {'Stage I': 1, 'Stage IA': 1, 'Stage IB': 1, 'Stage II': 2, 'Stage IIA':2, 'Stage IIB':2, 'Stage III':3, 'Stage IIIA':3, 'Stage IIIB':3, 'Stage IIIC':3,'Stage IV':3,  'Stage X':3}"
   ]
  },
  {
   "cell_type": "code",
   "execution_count": 96,
   "metadata": {
    "collapsed": true
   },
   "outputs": [],
   "source": [
    "reqDF = reqDF.replace({'AJCC_PATHOLOGIC_TUMOR_STAGE': mapping})"
   ]
  },
  {
   "cell_type": "code",
   "execution_count": 97,
   "metadata": {},
   "outputs": [
    {
     "data": {
      "text/html": [
       "<div>\n",
       "<style>\n",
       "    .dataframe thead tr:only-child th {\n",
       "        text-align: right;\n",
       "    }\n",
       "\n",
       "    .dataframe thead th {\n",
       "        text-align: left;\n",
       "    }\n",
       "\n",
       "    .dataframe tbody tr th {\n",
       "        vertical-align: top;\n",
       "    }\n",
       "</style>\n",
       "<table border=\"1\" class=\"dataframe\">\n",
       "  <thead>\n",
       "    <tr style=\"text-align: right;\">\n",
       "      <th></th>\n",
       "      <th>CASE_ID</th>\n",
       "      <th>AJCC_PATHOLOGIC_TUMOR_STAGE</th>\n",
       "      <th>DAYS_TO_DEATH</th>\n",
       "      <th>VITAL_STATUS</th>\n",
       "    </tr>\n",
       "  </thead>\n",
       "  <tbody>\n",
       "    <tr>\n",
       "      <th>2</th>\n",
       "      <td>TCGA-AQ-A0Y5</td>\n",
       "      <td>3</td>\n",
       "      <td>172.0</td>\n",
       "      <td>Dead</td>\n",
       "    </tr>\n",
       "    <tr>\n",
       "      <th>21</th>\n",
       "      <td>TCGA-BH-A203</td>\n",
       "      <td>2</td>\n",
       "      <td>1174.0</td>\n",
       "      <td>Dead</td>\n",
       "    </tr>\n",
       "    <tr>\n",
       "      <th>23</th>\n",
       "      <td>TCGA-B6-A0I6</td>\n",
       "      <td>2</td>\n",
       "      <td>991.0</td>\n",
       "      <td>Dead</td>\n",
       "    </tr>\n",
       "    <tr>\n",
       "      <th>32</th>\n",
       "      <td>TCGA-AR-A0U2</td>\n",
       "      <td>3</td>\n",
       "      <td>2551.0</td>\n",
       "      <td>Dead</td>\n",
       "    </tr>\n",
       "    <tr>\n",
       "      <th>44</th>\n",
       "      <td>TCGA-BH-A1EO</td>\n",
       "      <td>2</td>\n",
       "      <td>2798.0</td>\n",
       "      <td>Dead</td>\n",
       "    </tr>\n",
       "  </tbody>\n",
       "</table>\n",
       "</div>"
      ],
      "text/plain": [
       "         CASE_ID  AJCC_PATHOLOGIC_TUMOR_STAGE  DAYS_TO_DEATH VITAL_STATUS\n",
       "2   TCGA-AQ-A0Y5                            3          172.0         Dead\n",
       "21  TCGA-BH-A203                            2         1174.0         Dead\n",
       "23  TCGA-B6-A0I6                            2          991.0         Dead\n",
       "32  TCGA-AR-A0U2                            3         2551.0         Dead\n",
       "44  TCGA-BH-A1EO                            2         2798.0         Dead"
      ]
     },
     "execution_count": 97,
     "metadata": {},
     "output_type": "execute_result"
    }
   ],
   "source": [
    "reqDF.head()"
   ]
  },
  {
   "cell_type": "code",
   "execution_count": 98,
   "metadata": {
    "collapsed": true
   },
   "outputs": [],
   "source": [
    "vitalStatus_mapping = {'Alive': 0, 'Dead': 1}"
   ]
  },
  {
   "cell_type": "code",
   "execution_count": 99,
   "metadata": {
    "collapsed": true
   },
   "outputs": [],
   "source": [
    "reqDF = reqDF.replace({'VITAL_STATUS': vitalStatus_mapping})"
   ]
  },
  {
   "cell_type": "code",
   "execution_count": 100,
   "metadata": {},
   "outputs": [
    {
     "data": {
      "text/html": [
       "<div>\n",
       "<style>\n",
       "    .dataframe thead tr:only-child th {\n",
       "        text-align: right;\n",
       "    }\n",
       "\n",
       "    .dataframe thead th {\n",
       "        text-align: left;\n",
       "    }\n",
       "\n",
       "    .dataframe tbody tr th {\n",
       "        vertical-align: top;\n",
       "    }\n",
       "</style>\n",
       "<table border=\"1\" class=\"dataframe\">\n",
       "  <thead>\n",
       "    <tr style=\"text-align: right;\">\n",
       "      <th></th>\n",
       "      <th>CASE_ID</th>\n",
       "      <th>AJCC_PATHOLOGIC_TUMOR_STAGE</th>\n",
       "      <th>DAYS_TO_DEATH</th>\n",
       "      <th>VITAL_STATUS</th>\n",
       "    </tr>\n",
       "  </thead>\n",
       "  <tbody>\n",
       "    <tr>\n",
       "      <th>2</th>\n",
       "      <td>TCGA-AQ-A0Y5</td>\n",
       "      <td>3</td>\n",
       "      <td>172.0</td>\n",
       "      <td>1</td>\n",
       "    </tr>\n",
       "    <tr>\n",
       "      <th>21</th>\n",
       "      <td>TCGA-BH-A203</td>\n",
       "      <td>2</td>\n",
       "      <td>1174.0</td>\n",
       "      <td>1</td>\n",
       "    </tr>\n",
       "    <tr>\n",
       "      <th>23</th>\n",
       "      <td>TCGA-B6-A0I6</td>\n",
       "      <td>2</td>\n",
       "      <td>991.0</td>\n",
       "      <td>1</td>\n",
       "    </tr>\n",
       "    <tr>\n",
       "      <th>32</th>\n",
       "      <td>TCGA-AR-A0U2</td>\n",
       "      <td>3</td>\n",
       "      <td>2551.0</td>\n",
       "      <td>1</td>\n",
       "    </tr>\n",
       "    <tr>\n",
       "      <th>44</th>\n",
       "      <td>TCGA-BH-A1EO</td>\n",
       "      <td>2</td>\n",
       "      <td>2798.0</td>\n",
       "      <td>1</td>\n",
       "    </tr>\n",
       "  </tbody>\n",
       "</table>\n",
       "</div>"
      ],
      "text/plain": [
       "         CASE_ID  AJCC_PATHOLOGIC_TUMOR_STAGE  DAYS_TO_DEATH  VITAL_STATUS\n",
       "2   TCGA-AQ-A0Y5                            3          172.0             1\n",
       "21  TCGA-BH-A203                            2         1174.0             1\n",
       "23  TCGA-B6-A0I6                            2          991.0             1\n",
       "32  TCGA-AR-A0U2                            3         2551.0             1\n",
       "44  TCGA-BH-A1EO                            2         2798.0             1"
      ]
     },
     "execution_count": 100,
     "metadata": {},
     "output_type": "execute_result"
    }
   ],
   "source": [
    "reqDF.head()"
   ]
  },
  {
   "cell_type": "code",
   "execution_count": 101,
   "metadata": {
    "collapsed": true
   },
   "outputs": [],
   "source": [
    "kmf = KaplanMeierFitter()"
   ]
  },
  {
   "cell_type": "code",
   "execution_count": 102,
   "metadata": {},
   "outputs": [
    {
     "data": {
      "text/plain": [
       "<lifelines.KaplanMeierFitter: fitted with 105 observations, 0 censored>"
      ]
     },
     "execution_count": 102,
     "metadata": {},
     "output_type": "execute_result"
    }
   ],
   "source": [
    "T = reqDF[\"DAYS_TO_DEATH\"]\n",
    "E = reqDF[\"VITAL_STATUS\"]\n",
    "\n",
    "kmf.fit(T, event_observed=E,\n",
    "                      timeline=None, entry=None, label='KM_estimate',\n",
    "                      alpha=None, left_censorship=False, ci_labels=None)\n",
    "\n",
    "\n",
    "#kmf.fit(T, event_observed=E)"
   ]
  },
  {
   "cell_type": "code",
   "execution_count": 103,
   "metadata": {
    "collapsed": true
   },
   "outputs": [],
   "source": [
    "#b=df.iloc[:,1:].values"
   ]
  },
  {
   "cell_type": "code",
   "execution_count": 104,
   "metadata": {},
   "outputs": [
    {
     "data": {
      "image/png": "[encoded data removed]",
      "text/plain": [
       "<matplotlib.figure.Figure at 0x1246f72e8>"
      ]
     },
     "metadata": {},
     "output_type": "display_data"
    }
   ],
   "source": [
    "kmf.survival_function_.plot()\n",
    "plt.title('Survival Plot of Breast Cancer Patients');"
   ]
  },
  {
   "cell_type": "code",
   "execution_count": 105,
   "metadata": {},
   "outputs": [
    {
     "data": {
      "text/plain": [
       "<matplotlib.axes._subplots.AxesSubplot at 0x12461ec88>"
      ]
     },
     "execution_count": 105,
     "metadata": {},
     "output_type": "execute_result"
    },
    {
     "data": {
      "image/png": "[encoded data removed]",
      "text/plain": [
       "<matplotlib.figure.Figure at 0x12441be48>"
      ]
     },
     "metadata": {},
     "output_type": "display_data"
    }
   ],
   "source": [
    "kmf.plot()"
   ]
  },
  {
   "cell_type": "code",
   "execution_count": 84,
   "metadata": {},
   "outputs": [
    {
     "name": "stdout",
     "output_type": "stream",
     "text": [
      "Median survival time of Stage 1 Cancer Cluster: 1812.0\n",
      "Median survival time of Stage 2 Cancer Cluster: 1694.0\n",
      "Median survival time of Stage 3 Cancer Cluster: 825.0\n"
     ]
    },
    {
     "data": {
      "image/png": "[encoded data removed]",
      "text/plain": [
       "<matplotlib.figure.Figure at 0x12440f550>"
      ]
     },
     "metadata": {},
     "output_type": "display_data"
    }
   ],
   "source": [
    "ax = plt.subplot(111)\n",
    "\n",
    "dem1 = (reqDF[\"AJCC_PATHOLOGIC_TUMOR_STAGE\"] == 1)\n",
    "kmf.fit(T[dem1], event_observed=E[dem1], label=\"Stage 1 Cancer Cluster\")\n",
    "kmf.plot(ax=ax, ci_force_lines=True)\n",
    "print(\"Median survival time of Stage 1 Cancer Cluster:\", kmf.median_)\n",
    "\n",
    "\n",
    "dem2 = (reqDF[\"AJCC_PATHOLOGIC_TUMOR_STAGE\"] == 2)\n",
    "kmf.fit(T[dem2], event_observed=E[dem2], label=\"Stage 2 Cancer Cluster\")\n",
    "kmf.plot(ax=ax, ci_force_lines=True)\n",
    "print(\"Median survival time of Stage 2 Cancer Cluster:\", kmf.median_)\n",
    "\n",
    "dem3 = (reqDF[\"AJCC_PATHOLOGIC_TUMOR_STAGE\"] == 3)\n",
    "kmf.fit(T[dem3], event_observed=E[dem3], label=\"Stage 3 Cancer Cluster\")\n",
    "kmf.plot(ax=ax, ci_force_lines=True)\n",
    "print(\"Median survival time of Stage 3 Cancer Cluster:\", kmf.median_)\n",
    "\n",
    "plt.ylim(0, 1);\n",
    "plt.title(\"Lifespans of different Breast Cancer Stages\");"
   ]
  },
  {
   "cell_type": "code",
   "execution_count": 111,
   "metadata": {},
   "outputs": [
    {
     "name": "stdout",
     "output_type": "stream",
     "text": [
      "\n",
      "t_0=-1, alpha=0.99, null_distribution=chi squared, df=1\n",
      "\n",
      "test_statistic      p   \n",
      "        0.5986 0.4391\n",
      "---\n",
      "Signif. codes:  0 '***' 0.001 '**' 0.01 '*' 0.05 '.' 0.1 ' ' 1 \n"
     ]
    }
   ],
   "source": [
    "results = logrank_test(T[dem1], T[dem2], E[dem1], E[dem2], alpha=.99)\n",
    "\n",
    "results.print_summary()"
   ]
  },
  {
   "cell_type": "code",
   "execution_count": 112,
   "metadata": {},
   "outputs": [
    {
     "name": "stdout",
     "output_type": "stream",
     "text": [
      "\n",
      "t_0=-1, alpha=0.99, null_distribution=chi squared, df=1\n",
      "\n",
      "test_statistic      p    \n",
      "        7.9418 0.0048  **\n",
      "---\n",
      "Signif. codes:  0 '***' 0.001 '**' 0.01 '*' 0.05 '.' 0.1 ' ' 1 \n"
     ]
    }
   ],
   "source": [
    "results = logrank_test(T[dem2], T[dem3], E[dem2], E[dem3], alpha=.99)\n",
    "\n",
    "results.print_summary()"
   ]
  },
  {
   "cell_type": "code",
   "execution_count": 113,
   "metadata": {},
   "outputs": [
    {
     "name": "stdout",
     "output_type": "stream",
     "text": [
      "\n",
      "t_0=-1, alpha=0.99, null_distribution=chi squared, df=1\n",
      "\n",
      "test_statistic      p    \n",
      "        6.6978 0.0097  **\n",
      "---\n",
      "Signif. codes:  0 '***' 0.001 '**' 0.01 '*' 0.05 '.' 0.1 ' ' 1 \n"
     ]
    }
   ],
   "source": [
    "results = logrank_test(T[dem3], T[dem1], E[dem3], E[dem1], alpha=.99)\n",
    "\n",
    "results.print_summary()"
   ]
  },
  {
   "cell_type": "code",
   "execution_count": 118,
   "metadata": {},
   "outputs": [
    {
     "data": {
      "text/html": [
       "<div>\n",
       "<style>\n",
       "    .dataframe thead tr:only-child th {\n",
       "        text-align: right;\n",
       "    }\n",
       "\n",
       "    .dataframe thead th {\n",
       "        text-align: left;\n",
       "    }\n",
       "\n",
       "    .dataframe tbody tr th {\n",
       "        vertical-align: top;\n",
       "    }\n",
       "</style>\n",
       "<table border=\"1\" class=\"dataframe\">\n",
       "  <thead>\n",
       "    <tr style=\"text-align: right;\">\n",
       "      <th></th>\n",
       "      <th>CASE_ID</th>\n",
       "      <th>AJCC_PATHOLOGIC_TUMOR_STAGE</th>\n",
       "      <th>DAYS_TO_DEATH</th>\n",
       "      <th>VITAL_STATUS</th>\n",
       "    </tr>\n",
       "  </thead>\n",
       "  <tbody>\n",
       "    <tr>\n",
       "      <th>2</th>\n",
       "      <td>TCGA-AQ-A0Y5</td>\n",
       "      <td>3</td>\n",
       "      <td>172.0</td>\n",
       "      <td>1</td>\n",
       "    </tr>\n",
       "    <tr>\n",
       "      <th>21</th>\n",
       "      <td>TCGA-BH-A203</td>\n",
       "      <td>2</td>\n",
       "      <td>1174.0</td>\n",
       "      <td>1</td>\n",
       "    </tr>\n",
       "    <tr>\n",
       "      <th>23</th>\n",
       "      <td>TCGA-B6-A0I6</td>\n",
       "      <td>2</td>\n",
       "      <td>991.0</td>\n",
       "      <td>1</td>\n",
       "    </tr>\n",
       "    <tr>\n",
       "      <th>32</th>\n",
       "      <td>TCGA-AR-A0U2</td>\n",
       "      <td>3</td>\n",
       "      <td>2551.0</td>\n",
       "      <td>1</td>\n",
       "    </tr>\n",
       "    <tr>\n",
       "      <th>44</th>\n",
       "      <td>TCGA-BH-A1EO</td>\n",
       "      <td>2</td>\n",
       "      <td>2798.0</td>\n",
       "      <td>1</td>\n",
       "    </tr>\n",
       "  </tbody>\n",
       "</table>\n",
       "</div>"
      ],
      "text/plain": [
       "         CASE_ID  AJCC_PATHOLOGIC_TUMOR_STAGE  DAYS_TO_DEATH  VITAL_STATUS\n",
       "2   TCGA-AQ-A0Y5                            3          172.0             1\n",
       "21  TCGA-BH-A203                            2         1174.0             1\n",
       "23  TCGA-B6-A0I6                            2          991.0             1\n",
       "32  TCGA-AR-A0U2                            3         2551.0             1\n",
       "44  TCGA-BH-A1EO                            2         2798.0             1"
      ]
     },
     "execution_count": 118,
     "metadata": {},
     "output_type": "execute_result"
    }
   ],
   "source": [
    "reqDF.head()"
   ]
  },
  {
   "cell_type": "code",
   "execution_count": 122,
   "metadata": {},
   "outputs": [
    {
     "name": "stdout",
     "output_type": "stream",
     "text": [
      "Median survival time of Stage 1 Cancer Cluster: 1812.0\n",
      "Median survival time of Stage 2 Cancer Cluster: 1694.0\n"
     ]
    },
    {
     "data": {
      "image/png": "[encoded data removed]",
      "text/plain": [
       "<matplotlib.figure.Figure at 0x1247682e8>"
      ]
     },
     "metadata": {},
     "output_type": "display_data"
    }
   ],
   "source": [
    "ax = plt.subplot(111)\n",
    "\n",
    "dem1 = (reqDF[\"AJCC_PATHOLOGIC_TUMOR_STAGE\"] == 1)\n",
    "kmf.fit(T[dem1], event_observed=E[dem1], label=\"Stage 1 Cancer Cluster\")\n",
    "kmf.plot(ax=ax, ci_force_lines=False)\n",
    "print(\"Median survival time of Stage 1 Cancer Cluster:\", kmf.median_)\n",
    "\n",
    "\n",
    "dem2 = (reqDF[\"AJCC_PATHOLOGIC_TUMOR_STAGE\"] == 2)\n",
    "kmf.fit(T[dem2], event_observed=E[dem2], label=\"Stage 2 Cancer Cluster\")\n",
    "kmf.plot(ax=ax, ci_force_lines=False)\n",
    "print(\"Median survival time of Stage 2 Cancer Cluster:\", kmf.median_)\n",
    "\n",
    "plt.ylim(0, 1);\n",
    "plt.title(\"Stage 1 v/s Stage 2 Comparison\");"
   ]
  },
  {
   "cell_type": "code",
   "execution_count": 124,
   "metadata": {},
   "outputs": [
    {
     "name": "stdout",
     "output_type": "stream",
     "text": [
      "Median survival time of Stage 2 Cancer Cluster: 1694.0\n",
      "Median survival time of Stage 3 Cancer Cluster: 825.0\n"
     ]
    },
    {
     "data": {
      "image/png": "[encoded data removed]",
      "text/plain": [
       "<matplotlib.figure.Figure at 0x12564dac8>"
      ]
     },
     "metadata": {},
     "output_type": "display_data"
    }
   ],
   "source": [
    "ax = plt.subplot(111)\n",
    "\n",
    "dem1 = (reqDF[\"AJCC_PATHOLOGIC_TUMOR_STAGE\"] == 2)\n",
    "kmf.fit(T[dem1], event_observed=E[dem1], label=\"Stage 2 Cancer Cluster\")\n",
    "kmf.plot(ax=ax, ci_force_lines=False)\n",
    "print(\"Median survival time of Stage 2 Cancer Cluster:\", kmf.median_)\n",
    "\n",
    "\n",
    "dem2 = (reqDF[\"AJCC_PATHOLOGIC_TUMOR_STAGE\"] == 3)\n",
    "kmf.fit(T[dem2], event_observed=E[dem2], label=\"Stage 3 Cancer Cluster\")\n",
    "kmf.plot(ax=ax, ci_force_lines=False)\n",
    "print(\"Median survival time of Stage 3 Cancer Cluster:\", kmf.median_)\n",
    "\n",
    "plt.ylim(0, 1);\n",
    "plt.title(\"Stage 2 v/s Stage 3 Comparison\");"
   ]
  },
  {
   "cell_type": "code",
   "execution_count": null,
   "metadata": {
    "collapsed": true
   },
   "outputs": [],
   "source": [
    "ax = plt.subplot(111)\n",
    "\n",
    "dem1 = (reqDF[\"AJCC_PATHOLOGIC_TUMOR_STAGE\"] == 3)\n",
    "kmf.fit(T[dem1], event_observed=E[dem1], label=\"Stage 2 Cancer Cluster\")\n",
    "kmf.plot(ax=ax, ci_force_lines=False)\n",
    "print(\"Median survival time of Stage 2 Cancer Cluster:\", kmf.median_)\n",
    "\n",
    "\n",
    "dem2 = (reqDF[\"AJCC_PATHOLOGIC_TUMOR_STAGE\"] == 1)\n",
    "kmf.fit(T[dem2], event_observed=E[dem2], label=\"Stage 3 Cancer Cluster\")\n",
    "kmf.plot(ax=ax, ci_force_lines=False)\n",
    "print(\"Median survival time of Stage 3 Cancer Cluster:\", kmf.median_)\n",
    "\n",
    "plt.ylim(0, 1);\n",
    "plt.title(\"Stage 2 v/s Stage 3 Comparison\");"
   ]
  }
 ],
 "metadata": {
  "kernelspec": {
   "display_name": "Python 3",
   "language": "python",
   "name": "python3"
  },
  "language_info": {
   "codemirror_mode": {
    "name": "ipython",
    "version": 3
   },
   "file_extension": ".py",
   "mimetype": "text/x-python",
   "name": "python",
   "nbconvert_exporter": "python",
   "pygments_lexer": "ipython3",
   "version": "3.6.1"
  }
 },
 "nbformat": 4,
 "nbformat_minor": 2
}
