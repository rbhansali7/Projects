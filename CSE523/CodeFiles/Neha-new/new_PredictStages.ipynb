{
 "cells": [
  {
   "cell_type": "code",
   "execution_count": 1,
   "metadata": {},
   "outputs": [
    {
     "name": "stderr",
     "output_type": "stream",
     "text": [
      "C:\\Users\\Neha Mane\\Anaconda3\\lib\\site-packages\\h5py\\__init__.py:36: FutureWarning:\n",
      "\n",
      "Conversion of the second argument of issubdtype from `float` to `np.floating` is deprecated. In future, it will be treated as `np.float64 == np.dtype(float).type`.\n",
      "\n",
      "Using TensorFlow backend.\n"
     ]
    }
   ],
   "source": [
    "import pandas as pd\n",
    "import numpy as np\n",
    "import seaborn as sns\n",
    "import matplotlib.pyplot as plt\n",
    "from numpy import loadtxt\n",
    "from random import *\n",
    "from sklearn.metrics import accuracy_score\n",
    "from sklearn import datasets, linear_model\n",
    "from sklearn.model_selection import cross_val_predict\n",
    "from sklearn.metrics import mean_squared_error, r2_score\n",
    "from sklearn.model_selection import train_test_split\n",
    "from sklearn.naive_bayes import GaussianNB\n",
    "from sklearn import svm\n",
    "from sklearn.svm import LinearSVC\n",
    "from sklearn.svm import SVC\n",
    "from collections import Counter\n",
    "from sklearn.metrics import confusion_matrix\n",
    "from sklearn.neighbors import KNeighborsClassifier\n",
    "from sklearn.tree import DecisionTreeClassifier\n",
    "from sklearn.ensemble import RandomForestClassifier\n",
    "from imblearn.over_sampling import SMOTE\n",
    "from imblearn.over_sampling import ADASYN\n",
    "%matplotlib inline\n",
    "import plotly.plotly as py\n",
    "import cufflinks as cf\n",
    "\n",
    "from keras.models import Sequential\n",
    "from keras.layers import Dense\n",
    "from keras.wrappers.scikit_learn import KerasClassifier\n",
    "from keras.utils import np_utils\n",
    "from sklearn.model_selection import cross_val_score\n",
    "from sklearn.model_selection import KFold\n",
    "from sklearn.preprocessing import LabelEncoder\n",
    "from sklearn.pipeline import Pipeline"
   ]
  },
  {
   "cell_type": "code",
   "execution_count": 4,
   "metadata": {},
   "outputs": [],
   "source": [
    "ClinicalDF = pd.read_csv('all_clinical.txt', sep='\\t')"
   ]
  },
  {
   "cell_type": "code",
   "execution_count": 5,
   "metadata": {},
   "outputs": [],
   "source": [
    "CibersortDF = pd.read_csv('CIBERSORT.Output_Job31.csv', sep=',')"
   ]
  },
  {
   "cell_type": "code",
   "execution_count": 6,
   "metadata": {},
   "outputs": [
    {
     "data": {
      "text/html": [
       "<div>\n",
       "<style scoped>\n",
       "    .dataframe tbody tr th:only-of-type {\n",
       "        vertical-align: middle;\n",
       "    }\n",
       "\n",
       "    .dataframe tbody tr th {\n",
       "        vertical-align: top;\n",
       "    }\n",
       "\n",
       "    .dataframe thead th {\n",
       "        text-align: right;\n",
       "    }\n",
       "</style>\n",
       "<table border=\"1\" class=\"dataframe\">\n",
       "  <thead>\n",
       "    <tr style=\"text-align: right;\">\n",
       "      <th></th>\n",
       "      <th>Unnamed: 0</th>\n",
       "      <th>CASE_ID</th>\n",
       "      <th>AGE</th>\n",
       "      <th>AJCC_METASTASIS_PATHOLOGIC_PM</th>\n",
       "      <th>AJCC_NODES_PATHOLOGIC_PN</th>\n",
       "      <th>AJCC_PATHOLOGIC_TUMOR_STAGE</th>\n",
       "      <th>AJCC_STAGING_EDITION</th>\n",
       "      <th>AJCC_TUMOR_PATHOLOGIC_PT</th>\n",
       "      <th>BRACHYTHERAPY_TOTAL_DOSE_POINT_A</th>\n",
       "      <th>CANCER_TYPE</th>\n",
       "      <th>...</th>\n",
       "      <th>STAGING_SYSTEM</th>\n",
       "      <th>STAGING_SYSTEM_OTHER</th>\n",
       "      <th>SURGERY_FOR_POSITIVE_MARGINS</th>\n",
       "      <th>SURGERY_FOR_POSITIVE_MARGINS_OTHER</th>\n",
       "      <th>SURGICAL_PROCEDURE_FIRST</th>\n",
       "      <th>TISSUE_SOURCE_SITE</th>\n",
       "      <th>TUMOR_STATUS</th>\n",
       "      <th>TUMOR_TISSUE_SITE</th>\n",
       "      <th>VIAL_NUMBER</th>\n",
       "      <th>VITAL_STATUS</th>\n",
       "    </tr>\n",
       "  </thead>\n",
       "  <tbody>\n",
       "    <tr>\n",
       "      <th>0</th>\n",
       "      <td>0</td>\n",
       "      <td>TCGA-A7-A3J0</td>\n",
       "      <td>62.0</td>\n",
       "      <td>M0</td>\n",
       "      <td>N0</td>\n",
       "      <td>Stage IIA</td>\n",
       "      <td>7th</td>\n",
       "      <td>T2</td>\n",
       "      <td>NaN</td>\n",
       "      <td>Breast Cancer</td>\n",
       "      <td>...</td>\n",
       "      <td>Sentinel node biopsy alone</td>\n",
       "      <td>NaN</td>\n",
       "      <td>NaN</td>\n",
       "      <td>NaN</td>\n",
       "      <td>Lumpectomy</td>\n",
       "      <td>A7</td>\n",
       "      <td>TUMOR FREE</td>\n",
       "      <td>Breast</td>\n",
       "      <td>A</td>\n",
       "      <td>Alive</td>\n",
       "    </tr>\n",
       "    <tr>\n",
       "      <th>1</th>\n",
       "      <td>1</td>\n",
       "      <td>TCGA-OL-A66N</td>\n",
       "      <td>59.0</td>\n",
       "      <td>MX</td>\n",
       "      <td>N3</td>\n",
       "      <td>Stage IIIC</td>\n",
       "      <td>7th</td>\n",
       "      <td>T3</td>\n",
       "      <td>NaN</td>\n",
       "      <td>Breast Cancer</td>\n",
       "      <td>...</td>\n",
       "      <td>Sentinel node biopsy alone</td>\n",
       "      <td>NaN</td>\n",
       "      <td>NaN</td>\n",
       "      <td>NaN</td>\n",
       "      <td>Modified Radical Mastectomy</td>\n",
       "      <td>OL</td>\n",
       "      <td>TUMOR FREE</td>\n",
       "      <td>Breast</td>\n",
       "      <td>A</td>\n",
       "      <td>Alive</td>\n",
       "    </tr>\n",
       "    <tr>\n",
       "      <th>2</th>\n",
       "      <td>2</td>\n",
       "      <td>TCGA-AQ-A0Y5</td>\n",
       "      <td>70.0</td>\n",
       "      <td>MX</td>\n",
       "      <td>N2a</td>\n",
       "      <td>Stage IIIA</td>\n",
       "      <td>7th</td>\n",
       "      <td>T2</td>\n",
       "      <td>NaN</td>\n",
       "      <td>Breast Cancer</td>\n",
       "      <td>...</td>\n",
       "      <td>Sentinel lymph node biopsy plus axillary disse...</td>\n",
       "      <td>NaN</td>\n",
       "      <td>NaN</td>\n",
       "      <td>NaN</td>\n",
       "      <td>Modified Radical Mastectomy</td>\n",
       "      <td>AQ</td>\n",
       "      <td>TUMOR FREE</td>\n",
       "      <td>Breast</td>\n",
       "      <td>A</td>\n",
       "      <td>Dead</td>\n",
       "    </tr>\n",
       "    <tr>\n",
       "      <th>3</th>\n",
       "      <td>3</td>\n",
       "      <td>TCGA-E9-A22H</td>\n",
       "      <td>42.0</td>\n",
       "      <td>M0</td>\n",
       "      <td>N1</td>\n",
       "      <td>Stage IIB</td>\n",
       "      <td>7th</td>\n",
       "      <td>T2</td>\n",
       "      <td>NaN</td>\n",
       "      <td>Breast Cancer</td>\n",
       "      <td>...</td>\n",
       "      <td>Axillary lymph node dissection alone</td>\n",
       "      <td>NaN</td>\n",
       "      <td>NaN</td>\n",
       "      <td>NaN</td>\n",
       "      <td>Modified Radical Mastectomy</td>\n",
       "      <td>E9</td>\n",
       "      <td>TUMOR FREE</td>\n",
       "      <td>Breast</td>\n",
       "      <td>A</td>\n",
       "      <td>Alive</td>\n",
       "    </tr>\n",
       "    <tr>\n",
       "      <th>4</th>\n",
       "      <td>4</td>\n",
       "      <td>TCGA-BH-A0EB</td>\n",
       "      <td>69.0</td>\n",
       "      <td>M0</td>\n",
       "      <td>N0 (i-)</td>\n",
       "      <td>Stage IA</td>\n",
       "      <td>NaN</td>\n",
       "      <td>T1c</td>\n",
       "      <td>H-SCORE 300</td>\n",
       "      <td>Breast Cancer</td>\n",
       "      <td>...</td>\n",
       "      <td>Sentinel lymph node biopsy plus axillary disse...</td>\n",
       "      <td>NaN</td>\n",
       "      <td>NaN</td>\n",
       "      <td>NaN</td>\n",
       "      <td>Other</td>\n",
       "      <td>BH</td>\n",
       "      <td>TUMOR FREE</td>\n",
       "      <td>Breast</td>\n",
       "      <td>A</td>\n",
       "      <td>Alive</td>\n",
       "    </tr>\n",
       "  </tbody>\n",
       "</table>\n",
       "<p>5 rows × 109 columns</p>\n",
       "</div>"
      ],
      "text/plain": [
       "   Unnamed: 0       CASE_ID   AGE AJCC_METASTASIS_PATHOLOGIC_PM  \\\n",
       "0           0  TCGA-A7-A3J0  62.0                            M0   \n",
       "1           1  TCGA-OL-A66N  59.0                            MX   \n",
       "2           2  TCGA-AQ-A0Y5  70.0                            MX   \n",
       "3           3  TCGA-E9-A22H  42.0                            M0   \n",
       "4           4  TCGA-BH-A0EB  69.0                            M0   \n",
       "\n",
       "  AJCC_NODES_PATHOLOGIC_PN AJCC_PATHOLOGIC_TUMOR_STAGE AJCC_STAGING_EDITION  \\\n",
       "0                       N0                   Stage IIA                  7th   \n",
       "1                       N3                  Stage IIIC                  7th   \n",
       "2                      N2a                  Stage IIIA                  7th   \n",
       "3                       N1                   Stage IIB                  7th   \n",
       "4                  N0 (i-)                    Stage IA                  NaN   \n",
       "\n",
       "  AJCC_TUMOR_PATHOLOGIC_PT BRACHYTHERAPY_TOTAL_DOSE_POINT_A    CANCER_TYPE  \\\n",
       "0                       T2                              NaN  Breast Cancer   \n",
       "1                       T3                              NaN  Breast Cancer   \n",
       "2                       T2                              NaN  Breast Cancer   \n",
       "3                       T2                              NaN  Breast Cancer   \n",
       "4                      T1c                      H-SCORE 300  Breast Cancer   \n",
       "\n",
       "      ...                                          STAGING_SYSTEM  \\\n",
       "0     ...                              Sentinel node biopsy alone   \n",
       "1     ...                              Sentinel node biopsy alone   \n",
       "2     ...       Sentinel lymph node biopsy plus axillary disse...   \n",
       "3     ...                    Axillary lymph node dissection alone   \n",
       "4     ...       Sentinel lymph node biopsy plus axillary disse...   \n",
       "\n",
       "  STAGING_SYSTEM_OTHER  SURGERY_FOR_POSITIVE_MARGINS  \\\n",
       "0                  NaN                           NaN   \n",
       "1                  NaN                           NaN   \n",
       "2                  NaN                           NaN   \n",
       "3                  NaN                           NaN   \n",
       "4                  NaN                           NaN   \n",
       "\n",
       "   SURGERY_FOR_POSITIVE_MARGINS_OTHER     SURGICAL_PROCEDURE_FIRST  \\\n",
       "0                                 NaN                   Lumpectomy   \n",
       "1                                 NaN  Modified Radical Mastectomy   \n",
       "2                                 NaN  Modified Radical Mastectomy   \n",
       "3                                 NaN  Modified Radical Mastectomy   \n",
       "4                                 NaN                        Other   \n",
       "\n",
       "   TISSUE_SOURCE_SITE  TUMOR_STATUS  TUMOR_TISSUE_SITE VIAL_NUMBER  \\\n",
       "0                  A7    TUMOR FREE             Breast           A   \n",
       "1                  OL    TUMOR FREE             Breast           A   \n",
       "2                  AQ    TUMOR FREE             Breast           A   \n",
       "3                  E9    TUMOR FREE             Breast           A   \n",
       "4                  BH    TUMOR FREE             Breast           A   \n",
       "\n",
       "  VITAL_STATUS  \n",
       "0        Alive  \n",
       "1        Alive  \n",
       "2         Dead  \n",
       "3        Alive  \n",
       "4        Alive  \n",
       "\n",
       "[5 rows x 109 columns]"
      ]
     },
     "execution_count": 6,
     "metadata": {},
     "output_type": "execute_result"
    }
   ],
   "source": [
    "ClinicalDF.head()"
   ]
  },
  {
   "cell_type": "code",
   "execution_count": 7,
   "metadata": {},
   "outputs": [
    {
     "data": {
      "text/html": [
       "<div>\n",
       "<style scoped>\n",
       "    .dataframe tbody tr th:only-of-type {\n",
       "        vertical-align: middle;\n",
       "    }\n",
       "\n",
       "    .dataframe tbody tr th {\n",
       "        vertical-align: top;\n",
       "    }\n",
       "\n",
       "    .dataframe thead th {\n",
       "        text-align: right;\n",
       "    }\n",
       "</style>\n",
       "<table border=\"1\" class=\"dataframe\">\n",
       "  <thead>\n",
       "    <tr style=\"text-align: right;\">\n",
       "      <th></th>\n",
       "      <th>Input Sample</th>\n",
       "      <th>0</th>\n",
       "      <th>1</th>\n",
       "      <th>2</th>\n",
       "      <th>3</th>\n",
       "      <th>4</th>\n",
       "      <th>5</th>\n",
       "      <th>6</th>\n",
       "      <th>7</th>\n",
       "      <th>8</th>\n",
       "      <th>P-value</th>\n",
       "      <th>Pearson Correlation</th>\n",
       "      <th>RMSE</th>\n",
       "    </tr>\n",
       "  </thead>\n",
       "  <tbody>\n",
       "    <tr>\n",
       "      <th>0</th>\n",
       "      <td>TCGA-3C-AAAU</td>\n",
       "      <td>0.000000</td>\n",
       "      <td>0.203059</td>\n",
       "      <td>0.000000</td>\n",
       "      <td>0.555870</td>\n",
       "      <td>0.127736</td>\n",
       "      <td>0.000000</td>\n",
       "      <td>0.000000</td>\n",
       "      <td>0.000000</td>\n",
       "      <td>0.113335</td>\n",
       "      <td>0.00</td>\n",
       "      <td>0.196128</td>\n",
       "      <td>1.180062</td>\n",
       "    </tr>\n",
       "    <tr>\n",
       "      <th>1</th>\n",
       "      <td>TCGA-3C-AALI</td>\n",
       "      <td>0.000000</td>\n",
       "      <td>0.000000</td>\n",
       "      <td>0.000000</td>\n",
       "      <td>0.000000</td>\n",
       "      <td>0.000000</td>\n",
       "      <td>0.244985</td>\n",
       "      <td>0.314795</td>\n",
       "      <td>0.000000</td>\n",
       "      <td>0.440220</td>\n",
       "      <td>0.00</td>\n",
       "      <td>0.159135</td>\n",
       "      <td>1.175190</td>\n",
       "    </tr>\n",
       "    <tr>\n",
       "      <th>2</th>\n",
       "      <td>TCGA-3C-AALJ</td>\n",
       "      <td>0.045657</td>\n",
       "      <td>0.000000</td>\n",
       "      <td>0.000000</td>\n",
       "      <td>0.000000</td>\n",
       "      <td>0.018868</td>\n",
       "      <td>0.140649</td>\n",
       "      <td>0.329228</td>\n",
       "      <td>0.159412</td>\n",
       "      <td>0.306186</td>\n",
       "      <td>0.17</td>\n",
       "      <td>0.071365</td>\n",
       "      <td>1.216707</td>\n",
       "    </tr>\n",
       "    <tr>\n",
       "      <th>3</th>\n",
       "      <td>TCGA-3C-AALK</td>\n",
       "      <td>0.000000</td>\n",
       "      <td>0.000000</td>\n",
       "      <td>0.145354</td>\n",
       "      <td>0.033669</td>\n",
       "      <td>0.279429</td>\n",
       "      <td>0.146970</td>\n",
       "      <td>0.306368</td>\n",
       "      <td>0.000000</td>\n",
       "      <td>0.088209</td>\n",
       "      <td>0.17</td>\n",
       "      <td>0.069145</td>\n",
       "      <td>1.214726</td>\n",
       "    </tr>\n",
       "    <tr>\n",
       "      <th>4</th>\n",
       "      <td>TCGA-4H-AAAK</td>\n",
       "      <td>0.000000</td>\n",
       "      <td>0.000000</td>\n",
       "      <td>0.078613</td>\n",
       "      <td>0.127093</td>\n",
       "      <td>0.147870</td>\n",
       "      <td>0.000000</td>\n",
       "      <td>0.427910</td>\n",
       "      <td>0.218515</td>\n",
       "      <td>0.000000</td>\n",
       "      <td>0.28</td>\n",
       "      <td>0.058123</td>\n",
       "      <td>1.224482</td>\n",
       "    </tr>\n",
       "  </tbody>\n",
       "</table>\n",
       "</div>"
      ],
      "text/plain": [
       "   Input Sample         0         1         2         3         4         5  \\\n",
       "0  TCGA-3C-AAAU  0.000000  0.203059  0.000000  0.555870  0.127736  0.000000   \n",
       "1  TCGA-3C-AALI  0.000000  0.000000  0.000000  0.000000  0.000000  0.244985   \n",
       "2  TCGA-3C-AALJ  0.045657  0.000000  0.000000  0.000000  0.018868  0.140649   \n",
       "3  TCGA-3C-AALK  0.000000  0.000000  0.145354  0.033669  0.279429  0.146970   \n",
       "4  TCGA-4H-AAAK  0.000000  0.000000  0.078613  0.127093  0.147870  0.000000   \n",
       "\n",
       "          6         7         8  P-value  Pearson Correlation      RMSE  \n",
       "0  0.000000  0.000000  0.113335     0.00             0.196128  1.180062  \n",
       "1  0.314795  0.000000  0.440220     0.00             0.159135  1.175190  \n",
       "2  0.329228  0.159412  0.306186     0.17             0.071365  1.216707  \n",
       "3  0.306368  0.000000  0.088209     0.17             0.069145  1.214726  \n",
       "4  0.427910  0.218515  0.000000     0.28             0.058123  1.224482  "
      ]
     },
     "execution_count": 7,
     "metadata": {},
     "output_type": "execute_result"
    }
   ],
   "source": [
    "CibersortDF.head()"
   ]
  },
  {
   "cell_type": "code",
   "execution_count": 8,
   "metadata": {},
   "outputs": [],
   "source": [
    "ClinicalDF.dropna(subset=['AJCC_PATHOLOGIC_TUMOR_STAGE'], inplace=True)"
   ]
  },
  {
   "cell_type": "code",
   "execution_count": 9,
   "metadata": {},
   "outputs": [],
   "source": [
    "UniqueCount = ClinicalDF.groupby('AJCC_PATHOLOGIC_TUMOR_STAGE')['CASE_ID'].nunique()"
   ]
  },
  {
   "cell_type": "code",
   "execution_count": 10,
   "metadata": {},
   "outputs": [
    {
     "name": "stdout",
     "output_type": "stream",
     "text": [
      "AJCC_PATHOLOGIC_TUMOR_STAGE\n",
      "Stage I        90\n",
      "Stage IA       86\n",
      "Stage IB        7\n",
      "Stage II        6\n",
      "Stage IIA     358\n",
      "Stage IIB     257\n",
      "Stage III       2\n",
      "Stage IIIA    155\n",
      "Stage IIIB     27\n",
      "Stage IIIC     65\n",
      "Stage IV       20\n",
      "Stage X        12\n",
      "Name: CASE_ID, dtype: int64\n"
     ]
    }
   ],
   "source": [
    "print(UniqueCount)"
   ]
  },
  {
   "cell_type": "code",
   "execution_count": 11,
   "metadata": {},
   "outputs": [],
   "source": [
    "CibersortDF = CibersortDF.rename(index=str, columns={\"Input Sample\": \"CASE_ID\"})"
   ]
  },
  {
   "cell_type": "code",
   "execution_count": 12,
   "metadata": {},
   "outputs": [],
   "source": [
    "joined_df = ClinicalDF.merge(CibersortDF, on='CASE_ID', how='inner')"
   ]
  },
  {
   "cell_type": "code",
   "execution_count": 13,
   "metadata": {},
   "outputs": [
    {
     "data": {
      "text/html": [
       "<div>\n",
       "<style scoped>\n",
       "    .dataframe tbody tr th:only-of-type {\n",
       "        vertical-align: middle;\n",
       "    }\n",
       "\n",
       "    .dataframe tbody tr th {\n",
       "        vertical-align: top;\n",
       "    }\n",
       "\n",
       "    .dataframe thead th {\n",
       "        text-align: right;\n",
       "    }\n",
       "</style>\n",
       "<table border=\"1\" class=\"dataframe\">\n",
       "  <thead>\n",
       "    <tr style=\"text-align: right;\">\n",
       "      <th></th>\n",
       "      <th>Unnamed: 0</th>\n",
       "      <th>CASE_ID</th>\n",
       "      <th>AGE</th>\n",
       "      <th>AJCC_METASTASIS_PATHOLOGIC_PM</th>\n",
       "      <th>AJCC_NODES_PATHOLOGIC_PN</th>\n",
       "      <th>AJCC_PATHOLOGIC_TUMOR_STAGE</th>\n",
       "      <th>AJCC_STAGING_EDITION</th>\n",
       "      <th>AJCC_TUMOR_PATHOLOGIC_PT</th>\n",
       "      <th>BRACHYTHERAPY_TOTAL_DOSE_POINT_A</th>\n",
       "      <th>CANCER_TYPE</th>\n",
       "      <th>...</th>\n",
       "      <th>2</th>\n",
       "      <th>3</th>\n",
       "      <th>4</th>\n",
       "      <th>5</th>\n",
       "      <th>6</th>\n",
       "      <th>7</th>\n",
       "      <th>8</th>\n",
       "      <th>P-value</th>\n",
       "      <th>Pearson Correlation</th>\n",
       "      <th>RMSE</th>\n",
       "    </tr>\n",
       "  </thead>\n",
       "  <tbody>\n",
       "    <tr>\n",
       "      <th>0</th>\n",
       "      <td>0</td>\n",
       "      <td>TCGA-A7-A3J0</td>\n",
       "      <td>62.0</td>\n",
       "      <td>M0</td>\n",
       "      <td>N0</td>\n",
       "      <td>Stage IIA</td>\n",
       "      <td>7th</td>\n",
       "      <td>T2</td>\n",
       "      <td>NaN</td>\n",
       "      <td>Breast Cancer</td>\n",
       "      <td>...</td>\n",
       "      <td>0.0</td>\n",
       "      <td>0.220304</td>\n",
       "      <td>0.090155</td>\n",
       "      <td>0.0</td>\n",
       "      <td>0.208059</td>\n",
       "      <td>0.067672</td>\n",
       "      <td>0.217802</td>\n",
       "      <td>0.06</td>\n",
       "      <td>0.099754</td>\n",
       "      <td>1.208116</td>\n",
       "    </tr>\n",
       "    <tr>\n",
       "      <th>1</th>\n",
       "      <td>1</td>\n",
       "      <td>TCGA-OL-A66N</td>\n",
       "      <td>59.0</td>\n",
       "      <td>MX</td>\n",
       "      <td>N3</td>\n",
       "      <td>Stage IIIC</td>\n",
       "      <td>7th</td>\n",
       "      <td>T3</td>\n",
       "      <td>NaN</td>\n",
       "      <td>Breast Cancer</td>\n",
       "      <td>...</td>\n",
       "      <td>0.0</td>\n",
       "      <td>0.000000</td>\n",
       "      <td>0.213037</td>\n",
       "      <td>0.0</td>\n",
       "      <td>0.307776</td>\n",
       "      <td>0.219662</td>\n",
       "      <td>0.114065</td>\n",
       "      <td>0.84</td>\n",
       "      <td>-0.026000</td>\n",
       "      <td>1.278954</td>\n",
       "    </tr>\n",
       "    <tr>\n",
       "      <th>2</th>\n",
       "      <td>2</td>\n",
       "      <td>TCGA-AQ-A0Y5</td>\n",
       "      <td>70.0</td>\n",
       "      <td>MX</td>\n",
       "      <td>N2a</td>\n",
       "      <td>Stage IIIA</td>\n",
       "      <td>7th</td>\n",
       "      <td>T2</td>\n",
       "      <td>NaN</td>\n",
       "      <td>Breast Cancer</td>\n",
       "      <td>...</td>\n",
       "      <td>0.0</td>\n",
       "      <td>0.017107</td>\n",
       "      <td>0.000000</td>\n",
       "      <td>0.0</td>\n",
       "      <td>0.347428</td>\n",
       "      <td>0.263257</td>\n",
       "      <td>0.000000</td>\n",
       "      <td>0.00</td>\n",
       "      <td>0.154885</td>\n",
       "      <td>1.185270</td>\n",
       "    </tr>\n",
       "    <tr>\n",
       "      <th>3</th>\n",
       "      <td>3</td>\n",
       "      <td>TCGA-E9-A22H</td>\n",
       "      <td>42.0</td>\n",
       "      <td>M0</td>\n",
       "      <td>N1</td>\n",
       "      <td>Stage IIB</td>\n",
       "      <td>7th</td>\n",
       "      <td>T2</td>\n",
       "      <td>NaN</td>\n",
       "      <td>Breast Cancer</td>\n",
       "      <td>...</td>\n",
       "      <td>0.0</td>\n",
       "      <td>0.417133</td>\n",
       "      <td>0.000000</td>\n",
       "      <td>0.0</td>\n",
       "      <td>0.218077</td>\n",
       "      <td>0.025879</td>\n",
       "      <td>0.156454</td>\n",
       "      <td>0.00</td>\n",
       "      <td>0.287383</td>\n",
       "      <td>1.090197</td>\n",
       "    </tr>\n",
       "    <tr>\n",
       "      <th>4</th>\n",
       "      <td>4</td>\n",
       "      <td>TCGA-BH-A0EB</td>\n",
       "      <td>69.0</td>\n",
       "      <td>M0</td>\n",
       "      <td>N0 (i-)</td>\n",
       "      <td>Stage IA</td>\n",
       "      <td>NaN</td>\n",
       "      <td>T1c</td>\n",
       "      <td>H-SCORE 300</td>\n",
       "      <td>Breast Cancer</td>\n",
       "      <td>...</td>\n",
       "      <td>0.0</td>\n",
       "      <td>0.212486</td>\n",
       "      <td>0.180682</td>\n",
       "      <td>0.0</td>\n",
       "      <td>0.187639</td>\n",
       "      <td>0.419193</td>\n",
       "      <td>0.000000</td>\n",
       "      <td>0.00</td>\n",
       "      <td>0.187649</td>\n",
       "      <td>1.148770</td>\n",
       "    </tr>\n",
       "  </tbody>\n",
       "</table>\n",
       "<p>5 rows × 121 columns</p>\n",
       "</div>"
      ],
      "text/plain": [
       "   Unnamed: 0       CASE_ID   AGE AJCC_METASTASIS_PATHOLOGIC_PM  \\\n",
       "0           0  TCGA-A7-A3J0  62.0                            M0   \n",
       "1           1  TCGA-OL-A66N  59.0                            MX   \n",
       "2           2  TCGA-AQ-A0Y5  70.0                            MX   \n",
       "3           3  TCGA-E9-A22H  42.0                            M0   \n",
       "4           4  TCGA-BH-A0EB  69.0                            M0   \n",
       "\n",
       "  AJCC_NODES_PATHOLOGIC_PN AJCC_PATHOLOGIC_TUMOR_STAGE AJCC_STAGING_EDITION  \\\n",
       "0                       N0                   Stage IIA                  7th   \n",
       "1                       N3                  Stage IIIC                  7th   \n",
       "2                      N2a                  Stage IIIA                  7th   \n",
       "3                       N1                   Stage IIB                  7th   \n",
       "4                  N0 (i-)                    Stage IA                  NaN   \n",
       "\n",
       "  AJCC_TUMOR_PATHOLOGIC_PT BRACHYTHERAPY_TOTAL_DOSE_POINT_A    CANCER_TYPE  \\\n",
       "0                       T2                              NaN  Breast Cancer   \n",
       "1                       T3                              NaN  Breast Cancer   \n",
       "2                       T2                              NaN  Breast Cancer   \n",
       "3                       T2                              NaN  Breast Cancer   \n",
       "4                      T1c                      H-SCORE 300  Breast Cancer   \n",
       "\n",
       "     ...       2         3         4    5         6         7         8  \\\n",
       "0    ...     0.0  0.220304  0.090155  0.0  0.208059  0.067672  0.217802   \n",
       "1    ...     0.0  0.000000  0.213037  0.0  0.307776  0.219662  0.114065   \n",
       "2    ...     0.0  0.017107  0.000000  0.0  0.347428  0.263257  0.000000   \n",
       "3    ...     0.0  0.417133  0.000000  0.0  0.218077  0.025879  0.156454   \n",
       "4    ...     0.0  0.212486  0.180682  0.0  0.187639  0.419193  0.000000   \n",
       "\n",
       "   P-value Pearson Correlation      RMSE  \n",
       "0     0.06            0.099754  1.208116  \n",
       "1     0.84           -0.026000  1.278954  \n",
       "2     0.00            0.154885  1.185270  \n",
       "3     0.00            0.287383  1.090197  \n",
       "4     0.00            0.187649  1.148770  \n",
       "\n",
       "[5 rows x 121 columns]"
      ]
     },
     "execution_count": 13,
     "metadata": {},
     "output_type": "execute_result"
    }
   ],
   "source": [
    "joined_df.head()"
   ]
  },
  {
   "cell_type": "code",
   "execution_count": 14,
   "metadata": {},
   "outputs": [
    {
     "data": {
      "text/plain": [
       "array(['Stage IIA', 'Stage IIIC', 'Stage IIIA', 'Stage IIB', 'Stage IA',\n",
       "       'Stage I', 'Stage III', 'Stage IIIB', 'Stage IV', 'Stage IB',\n",
       "       'Stage X', 'Stage II'], dtype=object)"
      ]
     },
     "execution_count": 14,
     "metadata": {},
     "output_type": "execute_result"
    }
   ],
   "source": [
    "joined_df.AJCC_PATHOLOGIC_TUMOR_STAGE.unique()"
   ]
  },
  {
   "cell_type": "code",
   "execution_count": 15,
   "metadata": {},
   "outputs": [
    {
     "data": {
      "text/plain": [
       "array(['Unnamed: 0', 'CASE_ID', 'AGE', 'AJCC_METASTASIS_PATHOLOGIC_PM',\n",
       "       'AJCC_NODES_PATHOLOGIC_PN', 'AJCC_PATHOLOGIC_TUMOR_STAGE',\n",
       "       'AJCC_STAGING_EDITION', 'AJCC_TUMOR_PATHOLOGIC_PT',\n",
       "       'BRACHYTHERAPY_TOTAL_DOSE_POINT_A', 'CANCER_TYPE',\n",
       "       'CANCER_TYPE_DETAILED', 'CENT17_COPY_NUMBER', 'DAYS_TO_BIRTH',\n",
       "       'DAYS_TO_COLLECTION', 'DAYS_TO_DEATH',\n",
       "       'DAYS_TO_INITIAL_PATHOLOGIC_DIAGNOSIS', 'DAYS_TO_LAST_FOLLOWUP',\n",
       "       'DFS_MONTHS', 'DFS_STATUS', 'DISEASE_CODE',\n",
       "       'ER_POSITIVITY_SCALE_OTHER', 'ER_POSITIVITY_SCALE_USED',\n",
       "       'ER_STATUS_BY_IHC', 'ER_STATUS_IHC_PERCENT_POSITIVE', 'ETHNICITY',\n",
       "       'FIRST_SURGICAL_PROCEDURE_OTHER', 'FORM_COMPLETION_DATE', 'GENDER',\n",
       "       'HER2_AND_CENT17_CELLS_COUNT', 'HER2_AND_CENT17_SCALE_OTHER',\n",
       "       'HER2_CENT17_RATIO', 'HER2_COPY_NUMBER', 'HER2_FISH_METHOD',\n",
       "       'HER2_FISH_STATUS', 'HER2_IHC_PERCENT_POSITIVE', 'HER2_IHC_SCORE',\n",
       "       'HER2_POSITIVITY_METHOD_TEXT', 'HER2_POSITIVITY_SCALE_OTHER',\n",
       "       'HISTOLOGICAL_DIAGNOSIS', 'HISTOLOGICAL_SUBTYPE',\n",
       "       'HISTORY_NEOADJUVANT_TRTYN', 'HISTORY_OTHER_MALIGNANCY', 'ICD_10',\n",
       "       'ICD_O_3_HISTOLOGY', 'ICD_O_3_SITE', 'IHC_HER2', 'IHC_SCORE',\n",
       "       'INFORMED_CONSENT_VERIFIED', 'INITIAL_PATHOLOGIC_DX_YEAR',\n",
       "       'INITIAL_WEIGHT', 'IS_FFPE', 'LYMPH_NODES_EXAMINED',\n",
       "       'LYMPH_NODES_EXAMINED_HE_COUNT', 'LYMPH_NODES_EXAMINED_IHC_COUNT',\n",
       "       'LYMPH_NODE_EXAMINED_COUNT', 'MARGIN_STATUS_REEXCISION',\n",
       "       'MENOPAUSE_STATUS', 'METASTATIC_SITE', 'METASTATIC_SITE_OTHER',\n",
       "       'METASTATIC_TUMOR_INDICATOR',\n",
       "       'METHOD_OF_INITIAL_SAMPLE_PROCUREMENT',\n",
       "       'METHOD_OF_INITIAL_SAMPLE_PROCUREMENT_OTHER',\n",
       "       'MICROMET_DETECTION_BY_IHC',\n",
       "       'NEW_TUMOR_EVENT_AFTER_INITIAL_TREATMENT',\n",
       "       'NTE_CENT_17_HER2_RATIO', 'NTE_ER_IHC_INTENSITY_SCORE',\n",
       "       'NTE_ER_STATUS', 'NTE_ER_STATUS_IHC__POSITIVE',\n",
       "       'NTE_HER2_FISH_STATUS', 'NTE_HER2_POSITIVITY_IHC_SCORE',\n",
       "       'NTE_HER2_STATUS', 'NTE_HER2_STATUS_IHC__POSITIVE',\n",
       "       'NTE_PR_IHC_INTENSITY_SCORE', 'NTE_PR_STATUS_BY_IHC',\n",
       "       'NTE_PR_STATUS_IHC__POSITIVE', 'OCT_EMBEDDED', 'ONCOTREE_CODE',\n",
       "       'OS_MONTHS', 'OS_STATUS', 'OTHER_PATIENT_ID', 'OTHER_SAMPLE_ID',\n",
       "       'PATHOLOGY_REPORT_FILE_NAME', 'PATHOLOGY_REPORT_UUID',\n",
       "       'PATH_MARGIN', 'PHARMACEUTICAL_TX_ADJUVANT', 'PRIMARY_SITE',\n",
       "       'PROJECT_CODE', 'PROSPECTIVE_COLLECTION',\n",
       "       'PR_POSITIVITY_DEFINE_METHOD', 'PR_POSITIVITY_IHC_INTENSITY_SCORE',\n",
       "       'PR_POSITIVITY_SCALE_OTHER', 'PR_POSITIVITY_SCALE_USED',\n",
       "       'PR_STATUS_BY_IHC', 'PR_STATUS_IHC_PERCENT_POSITIVE', 'RACE',\n",
       "       'RADIATION_TREATMENT_ADJUVANT', 'RETROSPECTIVE_COLLECTION',\n",
       "       'SAMPLE_TYPE', 'SAMPLE_TYPE_ID', 'STAGING_SYSTEM',\n",
       "       'STAGING_SYSTEM_OTHER', 'SURGERY_FOR_POSITIVE_MARGINS',\n",
       "       'SURGERY_FOR_POSITIVE_MARGINS_OTHER', 'SURGICAL_PROCEDURE_FIRST',\n",
       "       'TISSUE_SOURCE_SITE', 'TUMOR_STATUS', 'TUMOR_TISSUE_SITE',\n",
       "       'VIAL_NUMBER', 'VITAL_STATUS', '0', '1', '2', '3', '4', '5', '6',\n",
       "       '7', '8', 'P-value', 'Pearson Correlation', 'RMSE'], dtype=object)"
      ]
     },
     "execution_count": 15,
     "metadata": {},
     "output_type": "execute_result"
    }
   ],
   "source": [
    "joined_df.columns.values"
   ]
  },
  {
   "cell_type": "code",
   "execution_count": 16,
   "metadata": {},
   "outputs": [],
   "source": [
    "ClinicalDF = joined_df.loc[:,'CASE_ID':'VITAL_STATUS']"
   ]
  },
  {
   "cell_type": "code",
   "execution_count": 17,
   "metadata": {},
   "outputs": [
    {
     "data": {
      "text/html": [
       "<div>\n",
       "<style scoped>\n",
       "    .dataframe tbody tr th:only-of-type {\n",
       "        vertical-align: middle;\n",
       "    }\n",
       "\n",
       "    .dataframe tbody tr th {\n",
       "        vertical-align: top;\n",
       "    }\n",
       "\n",
       "    .dataframe thead th {\n",
       "        text-align: right;\n",
       "    }\n",
       "</style>\n",
       "<table border=\"1\" class=\"dataframe\">\n",
       "  <thead>\n",
       "    <tr style=\"text-align: right;\">\n",
       "      <th></th>\n",
       "      <th>CASE_ID</th>\n",
       "      <th>AGE</th>\n",
       "      <th>AJCC_METASTASIS_PATHOLOGIC_PM</th>\n",
       "      <th>AJCC_NODES_PATHOLOGIC_PN</th>\n",
       "      <th>AJCC_PATHOLOGIC_TUMOR_STAGE</th>\n",
       "      <th>AJCC_STAGING_EDITION</th>\n",
       "      <th>AJCC_TUMOR_PATHOLOGIC_PT</th>\n",
       "      <th>BRACHYTHERAPY_TOTAL_DOSE_POINT_A</th>\n",
       "      <th>CANCER_TYPE</th>\n",
       "      <th>CANCER_TYPE_DETAILED</th>\n",
       "      <th>...</th>\n",
       "      <th>STAGING_SYSTEM</th>\n",
       "      <th>STAGING_SYSTEM_OTHER</th>\n",
       "      <th>SURGERY_FOR_POSITIVE_MARGINS</th>\n",
       "      <th>SURGERY_FOR_POSITIVE_MARGINS_OTHER</th>\n",
       "      <th>SURGICAL_PROCEDURE_FIRST</th>\n",
       "      <th>TISSUE_SOURCE_SITE</th>\n",
       "      <th>TUMOR_STATUS</th>\n",
       "      <th>TUMOR_TISSUE_SITE</th>\n",
       "      <th>VIAL_NUMBER</th>\n",
       "      <th>VITAL_STATUS</th>\n",
       "    </tr>\n",
       "  </thead>\n",
       "  <tbody>\n",
       "    <tr>\n",
       "      <th>0</th>\n",
       "      <td>TCGA-A7-A3J0</td>\n",
       "      <td>62.0</td>\n",
       "      <td>M0</td>\n",
       "      <td>N0</td>\n",
       "      <td>Stage IIA</td>\n",
       "      <td>7th</td>\n",
       "      <td>T2</td>\n",
       "      <td>NaN</td>\n",
       "      <td>Breast Cancer</td>\n",
       "      <td>Breast Invasive Mixed Mucinous Carcinoma</td>\n",
       "      <td>...</td>\n",
       "      <td>Sentinel node biopsy alone</td>\n",
       "      <td>NaN</td>\n",
       "      <td>NaN</td>\n",
       "      <td>NaN</td>\n",
       "      <td>Lumpectomy</td>\n",
       "      <td>A7</td>\n",
       "      <td>TUMOR FREE</td>\n",
       "      <td>Breast</td>\n",
       "      <td>A</td>\n",
       "      <td>Alive</td>\n",
       "    </tr>\n",
       "    <tr>\n",
       "      <th>1</th>\n",
       "      <td>TCGA-OL-A66N</td>\n",
       "      <td>59.0</td>\n",
       "      <td>MX</td>\n",
       "      <td>N3</td>\n",
       "      <td>Stage IIIC</td>\n",
       "      <td>7th</td>\n",
       "      <td>T3</td>\n",
       "      <td>NaN</td>\n",
       "      <td>Breast Cancer</td>\n",
       "      <td>Breast Invasive Lobular Carcinoma</td>\n",
       "      <td>...</td>\n",
       "      <td>Sentinel node biopsy alone</td>\n",
       "      <td>NaN</td>\n",
       "      <td>NaN</td>\n",
       "      <td>NaN</td>\n",
       "      <td>Modified Radical Mastectomy</td>\n",
       "      <td>OL</td>\n",
       "      <td>TUMOR FREE</td>\n",
       "      <td>Breast</td>\n",
       "      <td>A</td>\n",
       "      <td>Alive</td>\n",
       "    </tr>\n",
       "    <tr>\n",
       "      <th>2</th>\n",
       "      <td>TCGA-AQ-A0Y5</td>\n",
       "      <td>70.0</td>\n",
       "      <td>MX</td>\n",
       "      <td>N2a</td>\n",
       "      <td>Stage IIIA</td>\n",
       "      <td>7th</td>\n",
       "      <td>T2</td>\n",
       "      <td>NaN</td>\n",
       "      <td>Breast Cancer</td>\n",
       "      <td>Breast Invasive Ductal Carcinoma</td>\n",
       "      <td>...</td>\n",
       "      <td>Sentinel lymph node biopsy plus axillary disse...</td>\n",
       "      <td>NaN</td>\n",
       "      <td>NaN</td>\n",
       "      <td>NaN</td>\n",
       "      <td>Modified Radical Mastectomy</td>\n",
       "      <td>AQ</td>\n",
       "      <td>TUMOR FREE</td>\n",
       "      <td>Breast</td>\n",
       "      <td>A</td>\n",
       "      <td>Dead</td>\n",
       "    </tr>\n",
       "    <tr>\n",
       "      <th>3</th>\n",
       "      <td>TCGA-E9-A22H</td>\n",
       "      <td>42.0</td>\n",
       "      <td>M0</td>\n",
       "      <td>N1</td>\n",
       "      <td>Stage IIB</td>\n",
       "      <td>7th</td>\n",
       "      <td>T2</td>\n",
       "      <td>NaN</td>\n",
       "      <td>Breast Cancer</td>\n",
       "      <td>Breast Invasive Ductal Carcinoma</td>\n",
       "      <td>...</td>\n",
       "      <td>Axillary lymph node dissection alone</td>\n",
       "      <td>NaN</td>\n",
       "      <td>NaN</td>\n",
       "      <td>NaN</td>\n",
       "      <td>Modified Radical Mastectomy</td>\n",
       "      <td>E9</td>\n",
       "      <td>TUMOR FREE</td>\n",
       "      <td>Breast</td>\n",
       "      <td>A</td>\n",
       "      <td>Alive</td>\n",
       "    </tr>\n",
       "    <tr>\n",
       "      <th>4</th>\n",
       "      <td>TCGA-BH-A0EB</td>\n",
       "      <td>69.0</td>\n",
       "      <td>M0</td>\n",
       "      <td>N0 (i-)</td>\n",
       "      <td>Stage IA</td>\n",
       "      <td>NaN</td>\n",
       "      <td>T1c</td>\n",
       "      <td>H-SCORE 300</td>\n",
       "      <td>Breast Cancer</td>\n",
       "      <td>Breast Invasive Ductal Carcinoma</td>\n",
       "      <td>...</td>\n",
       "      <td>Sentinel lymph node biopsy plus axillary disse...</td>\n",
       "      <td>NaN</td>\n",
       "      <td>NaN</td>\n",
       "      <td>NaN</td>\n",
       "      <td>Other</td>\n",
       "      <td>BH</td>\n",
       "      <td>TUMOR FREE</td>\n",
       "      <td>Breast</td>\n",
       "      <td>A</td>\n",
       "      <td>Alive</td>\n",
       "    </tr>\n",
       "  </tbody>\n",
       "</table>\n",
       "<p>5 rows × 108 columns</p>\n",
       "</div>"
      ],
      "text/plain": [
       "        CASE_ID   AGE AJCC_METASTASIS_PATHOLOGIC_PM AJCC_NODES_PATHOLOGIC_PN  \\\n",
       "0  TCGA-A7-A3J0  62.0                            M0                       N0   \n",
       "1  TCGA-OL-A66N  59.0                            MX                       N3   \n",
       "2  TCGA-AQ-A0Y5  70.0                            MX                      N2a   \n",
       "3  TCGA-E9-A22H  42.0                            M0                       N1   \n",
       "4  TCGA-BH-A0EB  69.0                            M0                  N0 (i-)   \n",
       "\n",
       "  AJCC_PATHOLOGIC_TUMOR_STAGE AJCC_STAGING_EDITION AJCC_TUMOR_PATHOLOGIC_PT  \\\n",
       "0                   Stage IIA                  7th                       T2   \n",
       "1                  Stage IIIC                  7th                       T3   \n",
       "2                  Stage IIIA                  7th                       T2   \n",
       "3                   Stage IIB                  7th                       T2   \n",
       "4                    Stage IA                  NaN                      T1c   \n",
       "\n",
       "  BRACHYTHERAPY_TOTAL_DOSE_POINT_A    CANCER_TYPE  \\\n",
       "0                              NaN  Breast Cancer   \n",
       "1                              NaN  Breast Cancer   \n",
       "2                              NaN  Breast Cancer   \n",
       "3                              NaN  Breast Cancer   \n",
       "4                      H-SCORE 300  Breast Cancer   \n",
       "\n",
       "                       CANCER_TYPE_DETAILED     ...       \\\n",
       "0  Breast Invasive Mixed Mucinous Carcinoma     ...        \n",
       "1         Breast Invasive Lobular Carcinoma     ...        \n",
       "2          Breast Invasive Ductal Carcinoma     ...        \n",
       "3          Breast Invasive Ductal Carcinoma     ...        \n",
       "4          Breast Invasive Ductal Carcinoma     ...        \n",
       "\n",
       "                                      STAGING_SYSTEM  STAGING_SYSTEM_OTHER  \\\n",
       "0                         Sentinel node biopsy alone                   NaN   \n",
       "1                         Sentinel node biopsy alone                   NaN   \n",
       "2  Sentinel lymph node biopsy plus axillary disse...                   NaN   \n",
       "3               Axillary lymph node dissection alone                   NaN   \n",
       "4  Sentinel lymph node biopsy plus axillary disse...                   NaN   \n",
       "\n",
       "   SURGERY_FOR_POSITIVE_MARGINS  SURGERY_FOR_POSITIVE_MARGINS_OTHER  \\\n",
       "0                           NaN                                 NaN   \n",
       "1                           NaN                                 NaN   \n",
       "2                           NaN                                 NaN   \n",
       "3                           NaN                                 NaN   \n",
       "4                           NaN                                 NaN   \n",
       "\n",
       "      SURGICAL_PROCEDURE_FIRST  TISSUE_SOURCE_SITE  TUMOR_STATUS  \\\n",
       "0                   Lumpectomy                  A7    TUMOR FREE   \n",
       "1  Modified Radical Mastectomy                  OL    TUMOR FREE   \n",
       "2  Modified Radical Mastectomy                  AQ    TUMOR FREE   \n",
       "3  Modified Radical Mastectomy                  E9    TUMOR FREE   \n",
       "4                        Other                  BH    TUMOR FREE   \n",
       "\n",
       "  TUMOR_TISSUE_SITE VIAL_NUMBER VITAL_STATUS  \n",
       "0            Breast           A        Alive  \n",
       "1            Breast           A        Alive  \n",
       "2            Breast           A         Dead  \n",
       "3            Breast           A        Alive  \n",
       "4            Breast           A        Alive  \n",
       "\n",
       "[5 rows x 108 columns]"
      ]
     },
     "execution_count": 17,
     "metadata": {},
     "output_type": "execute_result"
    }
   ],
   "source": [
    "ClinicalDF.head()"
   ]
  },
  {
   "cell_type": "code",
   "execution_count": 18,
   "metadata": {},
   "outputs": [],
   "source": [
    "CibersortDF = joined_df.loc[:,'0':'8']"
   ]
  },
  {
   "cell_type": "code",
   "execution_count": 19,
   "metadata": {},
   "outputs": [],
   "source": [
    "CibersortDF.insert(0, 'CASE_ID', joined_df.iloc[:,1])"
   ]
  },
  {
   "cell_type": "code",
   "execution_count": 20,
   "metadata": {},
   "outputs": [],
   "source": [
    "CibersortDF.insert(1, 'AJCC_PATHOLOGIC_TUMOR_STAGE', joined_df.iloc[:,5])"
   ]
  },
  {
   "cell_type": "code",
   "execution_count": 21,
   "metadata": {},
   "outputs": [
    {
     "data": {
      "text/html": [
       "<div>\n",
       "<style scoped>\n",
       "    .dataframe tbody tr th:only-of-type {\n",
       "        vertical-align: middle;\n",
       "    }\n",
       "\n",
       "    .dataframe tbody tr th {\n",
       "        vertical-align: top;\n",
       "    }\n",
       "\n",
       "    .dataframe thead th {\n",
       "        text-align: right;\n",
       "    }\n",
       "</style>\n",
       "<table border=\"1\" class=\"dataframe\">\n",
       "  <thead>\n",
       "    <tr style=\"text-align: right;\">\n",
       "      <th></th>\n",
       "      <th>CASE_ID</th>\n",
       "      <th>AJCC_PATHOLOGIC_TUMOR_STAGE</th>\n",
       "      <th>0</th>\n",
       "      <th>1</th>\n",
       "      <th>2</th>\n",
       "      <th>3</th>\n",
       "      <th>4</th>\n",
       "      <th>5</th>\n",
       "      <th>6</th>\n",
       "      <th>7</th>\n",
       "      <th>8</th>\n",
       "    </tr>\n",
       "  </thead>\n",
       "  <tbody>\n",
       "    <tr>\n",
       "      <th>0</th>\n",
       "      <td>TCGA-A7-A3J0</td>\n",
       "      <td>Stage IIA</td>\n",
       "      <td>0.000000</td>\n",
       "      <td>0.196007</td>\n",
       "      <td>0.0</td>\n",
       "      <td>0.220304</td>\n",
       "      <td>0.090155</td>\n",
       "      <td>0.0</td>\n",
       "      <td>0.208059</td>\n",
       "      <td>0.067672</td>\n",
       "      <td>0.217802</td>\n",
       "    </tr>\n",
       "    <tr>\n",
       "      <th>1</th>\n",
       "      <td>TCGA-OL-A66N</td>\n",
       "      <td>Stage IIIC</td>\n",
       "      <td>0.000000</td>\n",
       "      <td>0.145460</td>\n",
       "      <td>0.0</td>\n",
       "      <td>0.000000</td>\n",
       "      <td>0.213037</td>\n",
       "      <td>0.0</td>\n",
       "      <td>0.307776</td>\n",
       "      <td>0.219662</td>\n",
       "      <td>0.114065</td>\n",
       "    </tr>\n",
       "    <tr>\n",
       "      <th>2</th>\n",
       "      <td>TCGA-AQ-A0Y5</td>\n",
       "      <td>Stage IIIA</td>\n",
       "      <td>0.000000</td>\n",
       "      <td>0.372208</td>\n",
       "      <td>0.0</td>\n",
       "      <td>0.017107</td>\n",
       "      <td>0.000000</td>\n",
       "      <td>0.0</td>\n",
       "      <td>0.347428</td>\n",
       "      <td>0.263257</td>\n",
       "      <td>0.000000</td>\n",
       "    </tr>\n",
       "    <tr>\n",
       "      <th>3</th>\n",
       "      <td>TCGA-E9-A22H</td>\n",
       "      <td>Stage IIB</td>\n",
       "      <td>0.182456</td>\n",
       "      <td>0.000000</td>\n",
       "      <td>0.0</td>\n",
       "      <td>0.417133</td>\n",
       "      <td>0.000000</td>\n",
       "      <td>0.0</td>\n",
       "      <td>0.218077</td>\n",
       "      <td>0.025879</td>\n",
       "      <td>0.156454</td>\n",
       "    </tr>\n",
       "    <tr>\n",
       "      <th>4</th>\n",
       "      <td>TCGA-BH-A0EB</td>\n",
       "      <td>Stage IA</td>\n",
       "      <td>0.000000</td>\n",
       "      <td>0.000000</td>\n",
       "      <td>0.0</td>\n",
       "      <td>0.212486</td>\n",
       "      <td>0.180682</td>\n",
       "      <td>0.0</td>\n",
       "      <td>0.187639</td>\n",
       "      <td>0.419193</td>\n",
       "      <td>0.000000</td>\n",
       "    </tr>\n",
       "  </tbody>\n",
       "</table>\n",
       "</div>"
      ],
      "text/plain": [
       "        CASE_ID AJCC_PATHOLOGIC_TUMOR_STAGE         0         1    2  \\\n",
       "0  TCGA-A7-A3J0                   Stage IIA  0.000000  0.196007  0.0   \n",
       "1  TCGA-OL-A66N                  Stage IIIC  0.000000  0.145460  0.0   \n",
       "2  TCGA-AQ-A0Y5                  Stage IIIA  0.000000  0.372208  0.0   \n",
       "3  TCGA-E9-A22H                   Stage IIB  0.182456  0.000000  0.0   \n",
       "4  TCGA-BH-A0EB                    Stage IA  0.000000  0.000000  0.0   \n",
       "\n",
       "          3         4    5         6         7         8  \n",
       "0  0.220304  0.090155  0.0  0.208059  0.067672  0.217802  \n",
       "1  0.000000  0.213037  0.0  0.307776  0.219662  0.114065  \n",
       "2  0.017107  0.000000  0.0  0.347428  0.263257  0.000000  \n",
       "3  0.417133  0.000000  0.0  0.218077  0.025879  0.156454  \n",
       "4  0.212486  0.180682  0.0  0.187639  0.419193  0.000000  "
      ]
     },
     "execution_count": 21,
     "metadata": {},
     "output_type": "execute_result"
    }
   ],
   "source": [
    "CibersortDF.head()"
   ]
  },
  {
   "cell_type": "code",
   "execution_count": 22,
   "metadata": {},
   "outputs": [],
   "source": [
    "CibersortDF.to_csv('Predictors.csv', sep=',', index=False)"
   ]
  },
  {
   "cell_type": "code",
   "execution_count": 23,
   "metadata": {},
   "outputs": [],
   "source": [
    "#mapping = {'Stage I': 1, 'Stage IA': 2, 'Stage IB': 3, 'Stage II': 4, 'Stage IIA':5, 'Stage IIB':6, 'Stage III':7, 'Stage IIIA':8, 'Stage IIIB':9, 'Stage IIIC':10,'Stage IV':11,  'Stage X':12,}"
   ]
  },
  {
   "cell_type": "code",
   "execution_count": 24,
   "metadata": {},
   "outputs": [],
   "source": [
    "mapping = {'Stage I': 1, 'Stage IA': 1, 'Stage IB': 1, 'Stage II': 2, 'Stage IIA':2, 'Stage IIB':2, 'Stage III':3, 'Stage IIIA':3, 'Stage IIIB':3, 'Stage IIIC':3,'Stage IV':3,  'Stage X':3}"
   ]
  },
  {
   "cell_type": "code",
   "execution_count": 25,
   "metadata": {},
   "outputs": [],
   "source": [
    "CibersortDF = CibersortDF.replace({'AJCC_PATHOLOGIC_TUMOR_STAGE': mapping})"
   ]
  },
  {
   "cell_type": "code",
   "execution_count": 26,
   "metadata": {},
   "outputs": [
    {
     "name": "stdout",
     "output_type": "stream",
     "text": [
      "AJCC_PATHOLOGIC_TUMOR_STAGE\n",
      "1    182\n",
      "2    619\n",
      "3    281\n",
      "Name: CASE_ID, dtype: int64\n"
     ]
    }
   ],
   "source": [
    "UniqueCount = CibersortDF.groupby('AJCC_PATHOLOGIC_TUMOR_STAGE')['CASE_ID'].nunique()\n",
    "print(UniqueCount)"
   ]
  },
  {
   "cell_type": "code",
   "execution_count": 27,
   "metadata": {},
   "outputs": [],
   "source": [
    "CibersortDF = CibersortDF.drop(['CASE_ID'], axis=1)"
   ]
  },
  {
   "cell_type": "markdown",
   "metadata": {},
   "source": [
    "# HER2"
   ]
  },
  {
   "cell_type": "code",
   "execution_count": 28,
   "metadata": {},
   "outputs": [],
   "source": [
    "HER2DF = joined_df.loc[joined_df['IHC_HER2'] == 'Positive']"
   ]
  },
  {
   "cell_type": "code",
   "execution_count": 29,
   "metadata": {},
   "outputs": [
    {
     "data": {
      "text/html": [
       "<div>\n",
       "<style scoped>\n",
       "    .dataframe tbody tr th:only-of-type {\n",
       "        vertical-align: middle;\n",
       "    }\n",
       "\n",
       "    .dataframe tbody tr th {\n",
       "        vertical-align: top;\n",
       "    }\n",
       "\n",
       "    .dataframe thead th {\n",
       "        text-align: right;\n",
       "    }\n",
       "</style>\n",
       "<table border=\"1\" class=\"dataframe\">\n",
       "  <thead>\n",
       "    <tr style=\"text-align: right;\">\n",
       "      <th></th>\n",
       "      <th>Unnamed: 0</th>\n",
       "      <th>CASE_ID</th>\n",
       "      <th>AGE</th>\n",
       "      <th>AJCC_METASTASIS_PATHOLOGIC_PM</th>\n",
       "      <th>AJCC_NODES_PATHOLOGIC_PN</th>\n",
       "      <th>AJCC_PATHOLOGIC_TUMOR_STAGE</th>\n",
       "      <th>AJCC_STAGING_EDITION</th>\n",
       "      <th>AJCC_TUMOR_PATHOLOGIC_PT</th>\n",
       "      <th>BRACHYTHERAPY_TOTAL_DOSE_POINT_A</th>\n",
       "      <th>CANCER_TYPE</th>\n",
       "      <th>...</th>\n",
       "      <th>2</th>\n",
       "      <th>3</th>\n",
       "      <th>4</th>\n",
       "      <th>5</th>\n",
       "      <th>6</th>\n",
       "      <th>7</th>\n",
       "      <th>8</th>\n",
       "      <th>P-value</th>\n",
       "      <th>Pearson Correlation</th>\n",
       "      <th>RMSE</th>\n",
       "    </tr>\n",
       "  </thead>\n",
       "  <tbody>\n",
       "    <tr>\n",
       "      <th>2</th>\n",
       "      <td>2</td>\n",
       "      <td>TCGA-AQ-A0Y5</td>\n",
       "      <td>70.0</td>\n",
       "      <td>MX</td>\n",
       "      <td>N2a</td>\n",
       "      <td>Stage IIIA</td>\n",
       "      <td>7th</td>\n",
       "      <td>T2</td>\n",
       "      <td>NaN</td>\n",
       "      <td>Breast Cancer</td>\n",
       "      <td>...</td>\n",
       "      <td>0.000000</td>\n",
       "      <td>0.017107</td>\n",
       "      <td>0.000000</td>\n",
       "      <td>0.000000</td>\n",
       "      <td>0.347428</td>\n",
       "      <td>0.263257</td>\n",
       "      <td>0.000000</td>\n",
       "      <td>0.0</td>\n",
       "      <td>0.154885</td>\n",
       "      <td>1.185270</td>\n",
       "    </tr>\n",
       "    <tr>\n",
       "      <th>3</th>\n",
       "      <td>3</td>\n",
       "      <td>TCGA-E9-A22H</td>\n",
       "      <td>42.0</td>\n",
       "      <td>M0</td>\n",
       "      <td>N1</td>\n",
       "      <td>Stage IIB</td>\n",
       "      <td>7th</td>\n",
       "      <td>T2</td>\n",
       "      <td>NaN</td>\n",
       "      <td>Breast Cancer</td>\n",
       "      <td>...</td>\n",
       "      <td>0.000000</td>\n",
       "      <td>0.417133</td>\n",
       "      <td>0.000000</td>\n",
       "      <td>0.000000</td>\n",
       "      <td>0.218077</td>\n",
       "      <td>0.025879</td>\n",
       "      <td>0.156454</td>\n",
       "      <td>0.0</td>\n",
       "      <td>0.287383</td>\n",
       "      <td>1.090197</td>\n",
       "    </tr>\n",
       "    <tr>\n",
       "      <th>6</th>\n",
       "      <td>6</td>\n",
       "      <td>TCGA-AR-A254</td>\n",
       "      <td>50.0</td>\n",
       "      <td>M0</td>\n",
       "      <td>N2</td>\n",
       "      <td>Stage IIIA</td>\n",
       "      <td>6th</td>\n",
       "      <td>T2</td>\n",
       "      <td>NaN</td>\n",
       "      <td>Breast Cancer</td>\n",
       "      <td>...</td>\n",
       "      <td>0.000000</td>\n",
       "      <td>0.000000</td>\n",
       "      <td>0.000000</td>\n",
       "      <td>0.377563</td>\n",
       "      <td>0.179802</td>\n",
       "      <td>0.327699</td>\n",
       "      <td>0.001368</td>\n",
       "      <td>0.0</td>\n",
       "      <td>0.248536</td>\n",
       "      <td>1.095714</td>\n",
       "    </tr>\n",
       "    <tr>\n",
       "      <th>7</th>\n",
       "      <td>7</td>\n",
       "      <td>TCGA-EW-A1IW</td>\n",
       "      <td>80.0</td>\n",
       "      <td>MX</td>\n",
       "      <td>N1a</td>\n",
       "      <td>Stage IIB</td>\n",
       "      <td>7th</td>\n",
       "      <td>T2</td>\n",
       "      <td>NaN</td>\n",
       "      <td>Breast Cancer</td>\n",
       "      <td>...</td>\n",
       "      <td>0.000000</td>\n",
       "      <td>0.000000</td>\n",
       "      <td>0.206499</td>\n",
       "      <td>0.000000</td>\n",
       "      <td>0.582557</td>\n",
       "      <td>0.138397</td>\n",
       "      <td>0.000000</td>\n",
       "      <td>0.0</td>\n",
       "      <td>0.221818</td>\n",
       "      <td>1.138453</td>\n",
       "    </tr>\n",
       "    <tr>\n",
       "      <th>16</th>\n",
       "      <td>16</td>\n",
       "      <td>TCGA-E9-A1N9</td>\n",
       "      <td>58.0</td>\n",
       "      <td>M0</td>\n",
       "      <td>N0</td>\n",
       "      <td>Stage IIA</td>\n",
       "      <td>7th</td>\n",
       "      <td>T2</td>\n",
       "      <td>NaN</td>\n",
       "      <td>Breast Cancer</td>\n",
       "      <td>...</td>\n",
       "      <td>0.123073</td>\n",
       "      <td>0.000000</td>\n",
       "      <td>0.153186</td>\n",
       "      <td>0.016594</td>\n",
       "      <td>0.508520</td>\n",
       "      <td>0.000000</td>\n",
       "      <td>0.168292</td>\n",
       "      <td>0.0</td>\n",
       "      <td>0.188056</td>\n",
       "      <td>1.148403</td>\n",
       "    </tr>\n",
       "  </tbody>\n",
       "</table>\n",
       "<p>5 rows × 121 columns</p>\n",
       "</div>"
      ],
      "text/plain": [
       "    Unnamed: 0       CASE_ID   AGE AJCC_METASTASIS_PATHOLOGIC_PM  \\\n",
       "2            2  TCGA-AQ-A0Y5  70.0                            MX   \n",
       "3            3  TCGA-E9-A22H  42.0                            M0   \n",
       "6            6  TCGA-AR-A254  50.0                            M0   \n",
       "7            7  TCGA-EW-A1IW  80.0                            MX   \n",
       "16          16  TCGA-E9-A1N9  58.0                            M0   \n",
       "\n",
       "   AJCC_NODES_PATHOLOGIC_PN AJCC_PATHOLOGIC_TUMOR_STAGE AJCC_STAGING_EDITION  \\\n",
       "2                       N2a                  Stage IIIA                  7th   \n",
       "3                        N1                   Stage IIB                  7th   \n",
       "6                        N2                  Stage IIIA                  6th   \n",
       "7                       N1a                   Stage IIB                  7th   \n",
       "16                       N0                   Stage IIA                  7th   \n",
       "\n",
       "   AJCC_TUMOR_PATHOLOGIC_PT BRACHYTHERAPY_TOTAL_DOSE_POINT_A    CANCER_TYPE  \\\n",
       "2                        T2                              NaN  Breast Cancer   \n",
       "3                        T2                              NaN  Breast Cancer   \n",
       "6                        T2                              NaN  Breast Cancer   \n",
       "7                        T2                              NaN  Breast Cancer   \n",
       "16                       T2                              NaN  Breast Cancer   \n",
       "\n",
       "      ...            2         3         4         5         6         7  \\\n",
       "2     ...     0.000000  0.017107  0.000000  0.000000  0.347428  0.263257   \n",
       "3     ...     0.000000  0.417133  0.000000  0.000000  0.218077  0.025879   \n",
       "6     ...     0.000000  0.000000  0.000000  0.377563  0.179802  0.327699   \n",
       "7     ...     0.000000  0.000000  0.206499  0.000000  0.582557  0.138397   \n",
       "16    ...     0.123073  0.000000  0.153186  0.016594  0.508520  0.000000   \n",
       "\n",
       "           8  P-value Pearson Correlation      RMSE  \n",
       "2   0.000000      0.0            0.154885  1.185270  \n",
       "3   0.156454      0.0            0.287383  1.090197  \n",
       "6   0.001368      0.0            0.248536  1.095714  \n",
       "7   0.000000      0.0            0.221818  1.138453  \n",
       "16  0.168292      0.0            0.188056  1.148403  \n",
       "\n",
       "[5 rows x 121 columns]"
      ]
     },
     "execution_count": 29,
     "metadata": {},
     "output_type": "execute_result"
    }
   ],
   "source": [
    "HER2DF.head()"
   ]
  },
  {
   "cell_type": "code",
   "execution_count": 30,
   "metadata": {},
   "outputs": [],
   "source": [
    "HER2_temp = HER2DF[['0', '1', '2', '3', '4', '5', '6', '7', '8']]"
   ]
  },
  {
   "cell_type": "code",
   "execution_count": 57,
   "metadata": {},
   "outputs": [
    {
     "data": {
      "text/plain": [
       "Text(0,0.5,'Cell type Proportions')"
      ]
     },
     "execution_count": 57,
     "metadata": {},
     "output_type": "execute_result"
    },
    {
     "data": {
      "image/png": "[encoded data removed]",
      "text/plain": [
       "<matplotlib.figure.Figure at 0x1ce22e06438>"
      ]
     },
     "metadata": {},
     "output_type": "display_data"
    }
   ],
   "source": [
    "color = dict(boxes='DarkGreen', whiskers='DarkOrange',\n",
    "              medians='DarkBlue', caps='Gray')\n",
    "ax = HER2_temp.plot.box(color=color, sym='r+')\n",
    "ax.set_xlabel(\"Cell type\")\n",
    "ax.set_ylabel(\"Cell type Proportions\")"
   ]
  },
  {
   "cell_type": "markdown",
   "metadata": {},
   "source": [
    "# Survival "
   ]
  },
  {
   "cell_type": "code",
   "execution_count": 130,
   "metadata": {},
   "outputs": [],
   "source": [
    "sur = HER2DF.loc[:, '0':'8']"
   ]
  },
  {
   "cell_type": "code",
   "execution_count": 131,
   "metadata": {},
   "outputs": [],
   "source": [
    "sur.insert(0, 'DAYS_TO_DEATH', HER2DF.DAYS_TO_DEATH)"
   ]
  },
  {
   "cell_type": "code",
   "execution_count": 132,
   "metadata": {},
   "outputs": [],
   "source": [
    "sur = sur.dropna(axis=0, how='any')"
   ]
  },
  {
   "cell_type": "code",
   "execution_count": 133,
   "metadata": {},
   "outputs": [
    {
     "data": {
      "text/plain": [
       "116.0"
      ]
     },
     "execution_count": 133,
     "metadata": {},
     "output_type": "execute_result"
    }
   ],
   "source": [
    "sur.DAYS_TO_DEATH.min()"
   ]
  },
  {
   "cell_type": "code",
   "execution_count": 134,
   "metadata": {},
   "outputs": [
    {
     "data": {
      "text/plain": [
       "2207.0"
      ]
     },
     "execution_count": 134,
     "metadata": {},
     "output_type": "execute_result"
    }
   ],
   "source": [
    "sur.DAYS_TO_DEATH.max()"
   ]
  },
  {
   "cell_type": "code",
   "execution_count": 135,
   "metadata": {},
   "outputs": [
    {
     "data": {
      "text/html": [
       "<div>\n",
       "<style scoped>\n",
       "    .dataframe tbody tr th:only-of-type {\n",
       "        vertical-align: middle;\n",
       "    }\n",
       "\n",
       "    .dataframe tbody tr th {\n",
       "        vertical-align: top;\n",
       "    }\n",
       "\n",
       "    .dataframe thead th {\n",
       "        text-align: right;\n",
       "    }\n",
       "</style>\n",
       "<table border=\"1\" class=\"dataframe\">\n",
       "  <thead>\n",
       "    <tr style=\"text-align: right;\">\n",
       "      <th></th>\n",
       "      <th>DAYS_TO_DEATH</th>\n",
       "      <th>0</th>\n",
       "      <th>1</th>\n",
       "      <th>2</th>\n",
       "      <th>3</th>\n",
       "      <th>4</th>\n",
       "      <th>5</th>\n",
       "      <th>6</th>\n",
       "      <th>7</th>\n",
       "      <th>8</th>\n",
       "    </tr>\n",
       "  </thead>\n",
       "  <tbody>\n",
       "    <tr>\n",
       "      <th>0.25</th>\n",
       "      <td>792.0</td>\n",
       "      <td>0.000000</td>\n",
       "      <td>0.006346</td>\n",
       "      <td>0.000000</td>\n",
       "      <td>0.00000</td>\n",
       "      <td>0.000000</td>\n",
       "      <td>0.000000</td>\n",
       "      <td>0.228632</td>\n",
       "      <td>0.094744</td>\n",
       "      <td>0.000000</td>\n",
       "    </tr>\n",
       "    <tr>\n",
       "      <th>0.75</th>\n",
       "      <td>1488.5</td>\n",
       "      <td>0.054558</td>\n",
       "      <td>0.145282</td>\n",
       "      <td>0.321797</td>\n",
       "      <td>0.02005</td>\n",
       "      <td>0.140996</td>\n",
       "      <td>0.027176</td>\n",
       "      <td>0.431462</td>\n",
       "      <td>0.197011</td>\n",
       "      <td>0.110807</td>\n",
       "    </tr>\n",
       "  </tbody>\n",
       "</table>\n",
       "</div>"
      ],
      "text/plain": [
       "      DAYS_TO_DEATH         0         1         2        3         4  \\\n",
       "0.25          792.0  0.000000  0.006346  0.000000  0.00000  0.000000   \n",
       "0.75         1488.5  0.054558  0.145282  0.321797  0.02005  0.140996   \n",
       "\n",
       "             5         6         7         8  \n",
       "0.25  0.000000  0.228632  0.094744  0.000000  \n",
       "0.75  0.027176  0.431462  0.197011  0.110807  "
      ]
     },
     "execution_count": 135,
     "metadata": {},
     "output_type": "execute_result"
    }
   ],
   "source": [
    "sur.quantile([.25, .75])"
   ]
  },
  {
   "cell_type": "code",
   "execution_count": 136,
   "metadata": {},
   "outputs": [],
   "source": [
    "def mapping_daysToDeath(x):\n",
    "    if (x <= 793): return 0\n",
    "    elif (x <=1489): return 1\n",
    "    else: return 2"
   ]
  },
  {
   "cell_type": "code",
   "execution_count": 137,
   "metadata": {},
   "outputs": [],
   "source": [
    "sur['DD'] = sur.DAYS_TO_DEATH.apply(mapping_daysToDeath)"
   ]
  },
  {
   "cell_type": "code",
   "execution_count": 138,
   "metadata": {},
   "outputs": [],
   "source": [
    "days0 = sur.loc[sur['DD'] == 0]"
   ]
  },
  {
   "cell_type": "code",
   "execution_count": 139,
   "metadata": {},
   "outputs": [],
   "source": [
    "days0.set_index('DAYS_TO_DEATH', inplace=True)"
   ]
  },
  {
   "cell_type": "code",
   "execution_count": 140,
   "metadata": {},
   "outputs": [
    {
     "name": "stderr",
     "output_type": "stream",
     "text": [
      "C:\\Users\\Neha Mane\\Anaconda3\\lib\\site-packages\\ipykernel_launcher.py:1: SettingWithCopyWarning:\n",
      "\n",
      "\n",
      "A value is trying to be set on a copy of a slice from a DataFrame\n",
      "\n",
      "See the caveats in the documentation: http://pandas.pydata.org/pandas-docs/stable/indexing.html#indexing-view-versus-copy\n",
      "\n"
     ]
    }
   ],
   "source": [
    "days0.drop(columns=['DD'], inplace=True)"
   ]
  },
  {
   "cell_type": "code",
   "execution_count": 141,
   "metadata": {},
   "outputs": [
    {
     "data": {
      "text/plain": [
       "Text(33,0.5,'Days to Death')"
      ]
     },
     "execution_count": 141,
     "metadata": {},
     "output_type": "execute_result"
    },
    {
     "data": {
      "image/png": "[encoded data removed]",
      "text/plain": [
       "<matplotlib.figure.Figure at 0x1ce134b7ac8>"
      ]
     },
     "metadata": {},
     "output_type": "display_data"
    }
   ],
   "source": [
    "ax = sns.heatmap(days0, annot=True)\n",
    "ax.set_xlabel(\"Cell type\")\n",
    "ax.set_ylabel(\"Days to Death\")"
   ]
  },
  {
   "cell_type": "code",
   "execution_count": 142,
   "metadata": {},
   "outputs": [],
   "source": [
    "days1 = sur.loc[sur['DD'] == 1]"
   ]
  },
  {
   "cell_type": "code",
   "execution_count": 143,
   "metadata": {},
   "outputs": [],
   "source": [
    "days1.set_index('DAYS_TO_DEATH', inplace=True)"
   ]
  },
  {
   "cell_type": "code",
   "execution_count": 144,
   "metadata": {},
   "outputs": [
    {
     "name": "stderr",
     "output_type": "stream",
     "text": [
      "C:\\Users\\Neha Mane\\Anaconda3\\lib\\site-packages\\ipykernel_launcher.py:1: SettingWithCopyWarning:\n",
      "\n",
      "\n",
      "A value is trying to be set on a copy of a slice from a DataFrame\n",
      "\n",
      "See the caveats in the documentation: http://pandas.pydata.org/pandas-docs/stable/indexing.html#indexing-view-versus-copy\n",
      "\n"
     ]
    }
   ],
   "source": [
    "days1.drop(columns=['DD'], inplace=True)"
   ]
  },
  {
   "cell_type": "code",
   "execution_count": 145,
   "metadata": {},
   "outputs": [
    {
     "data": {
      "text/plain": [
       "Text(33,0.5,'Days to Death')"
      ]
     },
     "execution_count": 145,
     "metadata": {},
     "output_type": "execute_result"
    },
    {
     "data": {
      "image/png": "[encoded data removed]",
      "text/plain": [
       "<matplotlib.figure.Figure at 0x1ce253e9048>"
      ]
     },
     "metadata": {},
     "output_type": "display_data"
    }
   ],
   "source": [
    "ax = sns.heatmap(days1, annot=True)\n",
    "ax.set_xlabel(\"Cell type\")\n",
    "ax.set_ylabel(\"Days to Death\")"
   ]
  },
  {
   "cell_type": "code",
   "execution_count": 146,
   "metadata": {},
   "outputs": [
    {
     "name": "stderr",
     "output_type": "stream",
     "text": [
      "C:\\Users\\Neha Mane\\Anaconda3\\lib\\site-packages\\ipykernel_launcher.py:3: SettingWithCopyWarning:\n",
      "\n",
      "\n",
      "A value is trying to be set on a copy of a slice from a DataFrame\n",
      "\n",
      "See the caveats in the documentation: http://pandas.pydata.org/pandas-docs/stable/indexing.html#indexing-view-versus-copy\n",
      "\n"
     ]
    }
   ],
   "source": [
    "days2 = sur.loc[sur['DD'] == 2]\n",
    "days2.set_index('DAYS_TO_DEATH', inplace=True)\n",
    "days2.drop(columns=['DD'], inplace=True)"
   ]
  },
  {
   "cell_type": "code",
   "execution_count": 147,
   "metadata": {},
   "outputs": [
    {
     "data": {
      "text/plain": [
       "Text(33,0.5,'Days to Death')"
      ]
     },
     "execution_count": 147,
     "metadata": {},
     "output_type": "execute_result"
    },
    {
     "data": {
      "image/png": "[encoded data removed]",
      "text/plain": [
       "<matplotlib.figure.Figure at 0x1ce254a7b38>"
      ]
     },
     "metadata": {},
     "output_type": "display_data"
    }
   ],
   "source": [
    "ax = sns.heatmap(days2, annot=True)\n",
    "ax.set_xlabel(\"Cell type\")\n",
    "ax.set_ylabel(\"Days to Death\")"
   ]
  },
  {
   "cell_type": "markdown",
   "metadata": {},
   "source": [
    "# Healthy Patients"
   ]
  },
  {
   "cell_type": "code",
   "execution_count": 58,
   "metadata": {},
   "outputs": [],
   "source": [
    "HealthyDF = pd.read_csv('CIBERSORT.Output_Job33.csv', sep=',')"
   ]
  },
  {
   "cell_type": "code",
   "execution_count": 59,
   "metadata": {},
   "outputs": [
    {
     "data": {
      "text/html": [
       "<div>\n",
       "<style scoped>\n",
       "    .dataframe tbody tr th:only-of-type {\n",
       "        vertical-align: middle;\n",
       "    }\n",
       "\n",
       "    .dataframe tbody tr th {\n",
       "        vertical-align: top;\n",
       "    }\n",
       "\n",
       "    .dataframe thead th {\n",
       "        text-align: right;\n",
       "    }\n",
       "</style>\n",
       "<table border=\"1\" class=\"dataframe\">\n",
       "  <thead>\n",
       "    <tr style=\"text-align: right;\">\n",
       "      <th></th>\n",
       "      <th>Input Sample</th>\n",
       "      <th>0</th>\n",
       "      <th>1</th>\n",
       "      <th>2</th>\n",
       "      <th>3</th>\n",
       "      <th>4</th>\n",
       "      <th>5</th>\n",
       "      <th>6</th>\n",
       "      <th>7</th>\n",
       "      <th>8</th>\n",
       "      <th>P-value</th>\n",
       "      <th>Pearson Correlation</th>\n",
       "      <th>RMSE</th>\n",
       "    </tr>\n",
       "  </thead>\n",
       "  <tbody>\n",
       "    <tr>\n",
       "      <th>0</th>\n",
       "      <td>GTEX-1117F-2826-SM-5GZXL</td>\n",
       "      <td>0</td>\n",
       "      <td>0.06272</td>\n",
       "      <td>0.418983</td>\n",
       "      <td>0.159941</td>\n",
       "      <td>0.125015</td>\n",
       "      <td>0.000000</td>\n",
       "      <td>0.077580</td>\n",
       "      <td>0.155761</td>\n",
       "      <td>0.0</td>\n",
       "      <td>0.0</td>\n",
       "      <td>0.154578</td>\n",
       "      <td>1.169406</td>\n",
       "    </tr>\n",
       "    <tr>\n",
       "      <th>1</th>\n",
       "      <td>GTEX-111YS-1926-SM-5GICC</td>\n",
       "      <td>0</td>\n",
       "      <td>0.00000</td>\n",
       "      <td>0.350036</td>\n",
       "      <td>0.335290</td>\n",
       "      <td>0.122831</td>\n",
       "      <td>0.048968</td>\n",
       "      <td>0.074535</td>\n",
       "      <td>0.068340</td>\n",
       "      <td>0.0</td>\n",
       "      <td>0.0</td>\n",
       "      <td>0.165266</td>\n",
       "      <td>1.165780</td>\n",
       "    </tr>\n",
       "    <tr>\n",
       "      <th>2</th>\n",
       "      <td>GTEX-1122O-1226-SM-5H113</td>\n",
       "      <td>0</td>\n",
       "      <td>0.00000</td>\n",
       "      <td>0.322588</td>\n",
       "      <td>0.173319</td>\n",
       "      <td>0.102421</td>\n",
       "      <td>0.045735</td>\n",
       "      <td>0.156372</td>\n",
       "      <td>0.199565</td>\n",
       "      <td>0.0</td>\n",
       "      <td>0.0</td>\n",
       "      <td>0.178228</td>\n",
       "      <td>1.141630</td>\n",
       "    </tr>\n",
       "    <tr>\n",
       "      <th>3</th>\n",
       "      <td>GTEX-117XS-1926-SM-5GICO</td>\n",
       "      <td>0</td>\n",
       "      <td>0.00000</td>\n",
       "      <td>0.410090</td>\n",
       "      <td>0.134624</td>\n",
       "      <td>0.142091</td>\n",
       "      <td>0.044838</td>\n",
       "      <td>0.031373</td>\n",
       "      <td>0.236984</td>\n",
       "      <td>0.0</td>\n",
       "      <td>0.0</td>\n",
       "      <td>0.133122</td>\n",
       "      <td>1.183032</td>\n",
       "    </tr>\n",
       "    <tr>\n",
       "      <th>4</th>\n",
       "      <td>GTEX-117YX-1426-SM-5H12H</td>\n",
       "      <td>0</td>\n",
       "      <td>0.00000</td>\n",
       "      <td>0.127958</td>\n",
       "      <td>0.147830</td>\n",
       "      <td>0.178873</td>\n",
       "      <td>0.059507</td>\n",
       "      <td>0.181872</td>\n",
       "      <td>0.303961</td>\n",
       "      <td>0.0</td>\n",
       "      <td>0.0</td>\n",
       "      <td>0.113914</td>\n",
       "      <td>1.180969</td>\n",
       "    </tr>\n",
       "  </tbody>\n",
       "</table>\n",
       "</div>"
      ],
      "text/plain": [
       "               Input Sample  0        1         2         3         4  \\\n",
       "0  GTEX-1117F-2826-SM-5GZXL  0  0.06272  0.418983  0.159941  0.125015   \n",
       "1  GTEX-111YS-1926-SM-5GICC  0  0.00000  0.350036  0.335290  0.122831   \n",
       "2  GTEX-1122O-1226-SM-5H113  0  0.00000  0.322588  0.173319  0.102421   \n",
       "3  GTEX-117XS-1926-SM-5GICO  0  0.00000  0.410090  0.134624  0.142091   \n",
       "4  GTEX-117YX-1426-SM-5H12H  0  0.00000  0.127958  0.147830  0.178873   \n",
       "\n",
       "          5         6         7    8  P-value  Pearson Correlation      RMSE  \n",
       "0  0.000000  0.077580  0.155761  0.0      0.0             0.154578  1.169406  \n",
       "1  0.048968  0.074535  0.068340  0.0      0.0             0.165266  1.165780  \n",
       "2  0.045735  0.156372  0.199565  0.0      0.0             0.178228  1.141630  \n",
       "3  0.044838  0.031373  0.236984  0.0      0.0             0.133122  1.183032  \n",
       "4  0.059507  0.181872  0.303961  0.0      0.0             0.113914  1.180969  "
      ]
     },
     "execution_count": 59,
     "metadata": {},
     "output_type": "execute_result"
    }
   ],
   "source": [
    "HealthyDF.head()"
   ]
  },
  {
   "cell_type": "code",
   "execution_count": 60,
   "metadata": {},
   "outputs": [],
   "source": [
    "HealthyDF.drop(columns=['P-value','Pearson Correlation', 'RMSE'], inplace=True)"
   ]
  },
  {
   "cell_type": "code",
   "execution_count": 61,
   "metadata": {},
   "outputs": [
    {
     "data": {
      "text/plain": [
       "Text(0,0.5,'Cell type proportions')"
      ]
     },
     "execution_count": 61,
     "metadata": {},
     "output_type": "execute_result"
    },
    {
     "data": {
      "image/png": "[encoded data removed]",
      "text/plain": [
       "<matplotlib.figure.Figure at 0x1ce22f95438>"
      ]
     },
     "metadata": {},
     "output_type": "display_data"
    }
   ],
   "source": [
    "color = dict(boxes='DarkGreen', whiskers='DarkOrange',\n",
    "              medians='DarkBlue', caps='Gray')\n",
    "ax = HealthyDF.plot.box(color=color, sym='r+')\n",
    "ax.set_xlabel(\"Cell type\")\n",
    "ax.set_ylabel(\"Cell type proportions\")"
   ]
  },
  {
   "cell_type": "markdown",
   "metadata": {},
   "source": [
    "# ADASYN Sampling"
   ]
  },
  {
   "cell_type": "code",
   "execution_count": 32,
   "metadata": {},
   "outputs": [],
   "source": [
    "used_features = ['0', '1', '2', '3', '4', '5', '6', '7', '8']"
   ]
  },
  {
   "cell_type": "code",
   "execution_count": 33,
   "metadata": {},
   "outputs": [],
   "source": [
    "ada = ADASYN(random_state=42)"
   ]
  },
  {
   "cell_type": "code",
   "execution_count": 34,
   "metadata": {},
   "outputs": [],
   "source": [
    "X_res, y_res = ada.fit_sample(CibersortDF[used_features], CibersortDF['AJCC_PATHOLOGIC_TUMOR_STAGE'])"
   ]
  },
  {
   "cell_type": "markdown",
   "metadata": {},
   "source": [
    "# SMOTE Sampling"
   ]
  },
  {
   "cell_type": "code",
   "execution_count": 64,
   "metadata": {},
   "outputs": [],
   "source": [
    "sm = SMOTE(random_state=42)"
   ]
  },
  {
   "cell_type": "code",
   "execution_count": 65,
   "metadata": {},
   "outputs": [],
   "source": [
    "X_res, y_res = sm.fit_sample(CibersortDF[used_features], CibersortDF['AJCC_PATHOLOGIC_TUMOR_STAGE'])"
   ]
  },
  {
   "cell_type": "code",
   "execution_count": 66,
   "metadata": {},
   "outputs": [
    {
     "data": {
      "text/plain": [
       "array([2, 3, 3, ..., 1, 1, 1], dtype=int64)"
      ]
     },
     "execution_count": 66,
     "metadata": {},
     "output_type": "execute_result"
    }
   ],
   "source": [
    "y_res"
   ]
  },
  {
   "cell_type": "code",
   "execution_count": 67,
   "metadata": {},
   "outputs": [
    {
     "name": "stdout",
     "output_type": "stream",
     "text": [
      "[(1, 624), (2, 624), (3, 624)]\n"
     ]
    }
   ],
   "source": [
    "print(sorted(Counter(y_res).items()))"
   ]
  },
  {
   "cell_type": "markdown",
   "metadata": {},
   "source": [
    "# CNN with One hot encoding"
   ]
  },
  {
   "cell_type": "code",
   "execution_count": 418,
   "metadata": {},
   "outputs": [],
   "source": [
    "#Y = CibersortDF['AJCC_PATHOLOGIC_TUMOR_STAGE']"
   ]
  },
  {
   "cell_type": "code",
   "execution_count": 85,
   "metadata": {},
   "outputs": [],
   "source": [
    "Y = y_res"
   ]
  },
  {
   "cell_type": "code",
   "execution_count": 86,
   "metadata": {},
   "outputs": [
    {
     "name": "stdout",
     "output_type": "stream",
     "text": [
      "[1 2 2 ... 0 0 0]\n"
     ]
    }
   ],
   "source": [
    "encoder = LabelEncoder()\n",
    "encoder.fit(Y)\n",
    "encoded_Y = encoder.transform(Y)\n",
    "# convert integers to dummy variables (i.e. one hot encoded)\n",
    "dummy_y = np_utils.to_categorical(encoded_Y)\n",
    "print(encoded_Y)"
   ]
  },
  {
   "cell_type": "code",
   "execution_count": 87,
   "metadata": {},
   "outputs": [],
   "source": [
    "def baseline_model():\n",
    "    # create model\n",
    "    model = Sequential()\n",
    "    model.add(Dense(8, input_dim=9, activation='relu'))\n",
    "    model.add(Dense(3, activation='softmax'))\n",
    "    # Compile model\n",
    "    model.compile(loss='categorical_crossentropy', optimizer='adam', metrics=['accuracy'])\n",
    "    return model"
   ]
  },
  {
   "cell_type": "code",
   "execution_count": 88,
   "metadata": {},
   "outputs": [],
   "source": [
    "estimator = KerasClassifier(build_fn=baseline_model, epochs=200, batch_size=5, verbose=0)"
   ]
  },
  {
   "cell_type": "code",
   "execution_count": 89,
   "metadata": {},
   "outputs": [],
   "source": [
    "kfold = KFold(n_splits=5, shuffle=True, random_state=42)"
   ]
  },
  {
   "cell_type": "code",
   "execution_count": 91,
   "metadata": {},
   "outputs": [
    {
     "name": "stdout",
     "output_type": "stream",
     "text": [
      "Baseline: 44.66% (3.83%)\n"
     ]
    }
   ],
   "source": [
    "results = cross_val_score(estimator, X_res, dummy_y, cv=kfold)\n",
    "print(\"Baseline: %.2f%% (%.2f%%)\" % (results.mean()*100, results.std()*100))"
   ]
  },
  {
   "cell_type": "markdown",
   "metadata": {},
   "source": [
    "# Train test split + features "
   ]
  },
  {
   "cell_type": "code",
   "execution_count": 293,
   "metadata": {},
   "outputs": [],
   "source": [
    "#X_train, X_test = train_test_split(CibersortDF, test_size=0.2, random_state=42)"
   ]
  },
  {
   "cell_type": "code",
   "execution_count": 541,
   "metadata": {},
   "outputs": [],
   "source": [
    "X_train, X_test, y_train, y_test = train_test_split(X_res, y_res, test_size=0.2, random_state=42)"
   ]
  },
  {
   "cell_type": "markdown",
   "metadata": {},
   "source": [
    "# Decision Tress "
   ]
  },
  {
   "cell_type": "code",
   "execution_count": 68,
   "metadata": {},
   "outputs": [],
   "source": [
    "dtree_model = DecisionTreeClassifier(max_depth = 8)"
   ]
  },
  {
   "cell_type": "code",
   "execution_count": 69,
   "metadata": {},
   "outputs": [
    {
     "name": "stdout",
     "output_type": "stream",
     "text": [
      "Baseline: 54.76% (4.01%)\n"
     ]
    }
   ],
   "source": [
    "results = cross_val_score(dtree_model, X_res, y_res, cv=kfold)\n",
    "print(\"Baseline: %.2f%% (%.2f%%)\" % (results.mean()*100, results.std()*100))"
   ]
  },
  {
   "cell_type": "code",
   "execution_count": 543,
   "metadata": {},
   "outputs": [
    {
     "name": "stdout",
     "output_type": "stream",
     "text": [
      "Baseline: 48.58% (1.78%)\n"
     ]
    }
   ],
   "source": [
    "#results = cross_val_score(dtree_model, CibersortDF[used_features], Y, cv=kfold)\n",
    "#print(\"Baseline: %.2f%% (%.2f%%)\" % (results.mean()*100, results.std()*100))"
   ]
  },
  {
   "cell_type": "code",
   "execution_count": 544,
   "metadata": {},
   "outputs": [],
   "source": [
    "dtree_model.fit(X_train, y_train)\n",
    "dtree_predictions = dtree_model.predict(X_test)"
   ]
  },
  {
   "cell_type": "code",
   "execution_count": 545,
   "metadata": {},
   "outputs": [
    {
     "name": "stdout",
     "output_type": "stream",
     "text": [
      "0.5340599455040872\n"
     ]
    }
   ],
   "source": [
    "print(accuracy_score(y_test, dtree_predictions))"
   ]
  },
  {
   "cell_type": "code",
   "execution_count": 546,
   "metadata": {},
   "outputs": [
    {
     "name": "stdout",
     "output_type": "stream",
     "text": [
      "[[77 25 17]\n",
      " [24 63 25]\n",
      " [26 54 56]]\n"
     ]
    }
   ],
   "source": [
    "cm = confusion_matrix(y_test, dtree_predictions)\n",
    "print(cm)"
   ]
  },
  {
   "cell_type": "markdown",
   "metadata": {},
   "source": [
    "# Logistic Regression"
   ]
  },
  {
   "cell_type": "code",
   "execution_count": 70,
   "metadata": {},
   "outputs": [],
   "source": [
    "lr = linear_model.LogisticRegression()"
   ]
  },
  {
   "cell_type": "code",
   "execution_count": 71,
   "metadata": {},
   "outputs": [
    {
     "name": "stdout",
     "output_type": "stream",
     "text": [
      "Baseline: 40.44% (0.99%)\n"
     ]
    }
   ],
   "source": [
    "results = cross_val_score(lr, X_res,y_res, cv=kfold)\n",
    "print(\"Baseline: %.2f%% (%.2f%%)\" % (results.mean()*100, results.std()*100))"
   ]
  },
  {
   "cell_type": "code",
   "execution_count": 548,
   "metadata": {},
   "outputs": [
    {
     "name": "stdout",
     "output_type": "stream",
     "text": [
      "Baseline: 57.30% (2.29%)\n"
     ]
    }
   ],
   "source": [
    "#results = cross_val_score(lr, CibersortDF[used_features], Y, cv=kfold)\n",
    "#print(\"Baseline: %.2f%% (%.2f%%)\" % (results.mean()*100, results.std()*100))"
   ]
  },
  {
   "cell_type": "code",
   "execution_count": 549,
   "metadata": {},
   "outputs": [
    {
     "data": {
      "text/plain": [
       "LogisticRegression(C=1.0, class_weight=None, dual=False, fit_intercept=True,\n",
       "          intercept_scaling=1, max_iter=100, multi_class='ovr', n_jobs=1,\n",
       "          penalty='l2', random_state=None, solver='liblinear', tol=0.0001,\n",
       "          verbose=0, warm_start=False)"
      ]
     },
     "execution_count": 549,
     "metadata": {},
     "output_type": "execute_result"
    }
   ],
   "source": [
    "lr.fit(X_train, y_train)"
   ]
  },
  {
   "cell_type": "code",
   "execution_count": 550,
   "metadata": {},
   "outputs": [
    {
     "name": "stdout",
     "output_type": "stream",
     "text": [
      "[[ 0.923273    0.16994434 -0.51971669 -0.45288372 -0.54044157 -1.86311353\n",
      "  -0.19429152  2.20016769 -0.46871166 -0.36466274 -0.13501308  0.45150025\n",
      "   0.17378628]\n",
      " [-0.57901132  0.15304544 -0.64329148  0.59210752  0.93812407  0.12419988\n",
      "  -0.05851258 -1.00973263  0.06264886 -0.42109238 -0.23573154 -1.48496607\n",
      "   2.10734298]\n",
      " [-0.44818304 -0.4139596   1.08183016 -0.29883726 -0.5922558   1.49925309\n",
      "   0.14612084 -1.39198229  0.32726726  0.65329152  0.21935229  0.94070203\n",
      "  -2.61472867]]\n"
     ]
    }
   ],
   "source": [
    "#The estimated coefficients will all be around 1:\n",
    "print(lr.coef_)"
   ]
  },
  {
   "cell_type": "code",
   "execution_count": 551,
   "metadata": {},
   "outputs": [],
   "source": [
    "log_reg = lr.predict(X_test)"
   ]
  },
  {
   "cell_type": "code",
   "execution_count": 552,
   "metadata": {},
   "outputs": [
    {
     "name": "stdout",
     "output_type": "stream",
     "text": [
      "0.44959128065395093\n"
     ]
    }
   ],
   "source": [
    "print(accuracy_score(y_test, log_reg))"
   ]
  },
  {
   "cell_type": "code",
   "execution_count": 553,
   "metadata": {},
   "outputs": [
    {
     "name": "stdout",
     "output_type": "stream",
     "text": [
      "[[52 44 23]\n",
      " [33 49 30]\n",
      " [36 36 64]]\n"
     ]
    }
   ],
   "source": [
    "cm = confusion_matrix(y_test, log_reg)\n",
    "print(cm)"
   ]
  },
  {
   "cell_type": "code",
   "execution_count": 74,
   "metadata": {},
   "outputs": [],
   "source": [
    "mul_lr = linear_model.LogisticRegression(multi_class='multinomial', solver='newton-cg')"
   ]
  },
  {
   "cell_type": "code",
   "execution_count": 75,
   "metadata": {},
   "outputs": [],
   "source": [
    "#results = cross_val_score(mul_lr, CibersortDF[used_features], Y, cv=kfold)\n",
    "#print(\"Baseline: %.2f%% (%.2f%%)\" % (results.mean()*100, results.std()*100))"
   ]
  },
  {
   "cell_type": "code",
   "execution_count": 76,
   "metadata": {},
   "outputs": [
    {
     "name": "stdout",
     "output_type": "stream",
     "text": [
      "Baseline: 40.44% (1.12%)\n"
     ]
    }
   ],
   "source": [
    "results = cross_val_score(mul_lr, X_res,y_res, cv=kfold)\n",
    "print(\"Baseline: %.2f%% (%.2f%%)\" % (results.mean()*100, results.std()*100))"
   ]
  },
  {
   "cell_type": "code",
   "execution_count": 556,
   "metadata": {},
   "outputs": [
    {
     "data": {
      "text/plain": [
       "LogisticRegression(C=1.0, class_weight=None, dual=False, fit_intercept=True,\n",
       "          intercept_scaling=1, max_iter=100, multi_class='multinomial',\n",
       "          n_jobs=1, penalty='l2', random_state=None, solver='newton-cg',\n",
       "          tol=0.0001, verbose=0, warm_start=False)"
      ]
     },
     "execution_count": 556,
     "metadata": {},
     "output_type": "execute_result"
    }
   ],
   "source": [
    "mul_lr.fit(X_train, y_train)"
   ]
  },
  {
   "cell_type": "code",
   "execution_count": 557,
   "metadata": {},
   "outputs": [],
   "source": [
    "mul_log_reg = mul_lr.predict(X_test)"
   ]
  },
  {
   "cell_type": "code",
   "execution_count": 558,
   "metadata": {},
   "outputs": [
    {
     "name": "stdout",
     "output_type": "stream",
     "text": [
      "0.444141689373297\n"
     ]
    }
   ],
   "source": [
    "print(accuracy_score(y_test, mul_log_reg))"
   ]
  },
  {
   "cell_type": "code",
   "execution_count": 559,
   "metadata": {},
   "outputs": [
    {
     "name": "stdout",
     "output_type": "stream",
     "text": [
      "[[52 44 23]\n",
      " [33 49 30]\n",
      " [36 36 64]]\n"
     ]
    }
   ],
   "source": [
    "cm = confusion_matrix(y_test, log_reg)\n",
    "print(cm)"
   ]
  },
  {
   "cell_type": "markdown",
   "metadata": {},
   "source": [
    "# Random Forest"
   ]
  },
  {
   "cell_type": "code",
   "execution_count": 72,
   "metadata": {},
   "outputs": [],
   "source": [
    "clf = RandomForestClassifier(n_jobs=2, random_state=0)"
   ]
  },
  {
   "cell_type": "code",
   "execution_count": 73,
   "metadata": {},
   "outputs": [
    {
     "name": "stdout",
     "output_type": "stream",
     "text": [
      "Baseline: 64.91% (2.85%)\n"
     ]
    }
   ],
   "source": [
    "results = cross_val_score(clf, X_res,y_res, cv=kfold)\n",
    "print(\"Baseline: %.2f%% (%.2f%%)\" % (results.mean()*100, results.std()*100))"
   ]
  },
  {
   "cell_type": "code",
   "execution_count": 561,
   "metadata": {},
   "outputs": [
    {
     "name": "stdout",
     "output_type": "stream",
     "text": [
      "Baseline: 50.32% (1.29%)\n"
     ]
    }
   ],
   "source": [
    "#results = cross_val_score(clf, CibersortDF[used_features], Y, cv=kfold)\n",
    "#print(\"Baseline: %.2f%% (%.2f%%)\" % (results.mean()*100, results.std()*100))"
   ]
  },
  {
   "cell_type": "code",
   "execution_count": 518,
   "metadata": {},
   "outputs": [
    {
     "data": {
      "text/plain": [
       "RandomForestClassifier(bootstrap=True, class_weight=None, criterion='gini',\n",
       "            max_depth=None, max_features='auto', max_leaf_nodes=None,\n",
       "            min_impurity_decrease=0.0, min_impurity_split=None,\n",
       "            min_samples_leaf=1, min_samples_split=2,\n",
       "            min_weight_fraction_leaf=0.0, n_estimators=10, n_jobs=2,\n",
       "            oob_score=False, random_state=0, verbose=0, warm_start=False)"
      ]
     },
     "execution_count": 518,
     "metadata": {},
     "output_type": "execute_result"
    }
   ],
   "source": [
    "clf.fit(X_train, y_train)"
   ]
  },
  {
   "cell_type": "code",
   "execution_count": 519,
   "metadata": {},
   "outputs": [],
   "source": [
    "result = clf.predict(X_test)"
   ]
  },
  {
   "cell_type": "code",
   "execution_count": 520,
   "metadata": {},
   "outputs": [
    {
     "name": "stdout",
     "output_type": "stream",
     "text": [
      "0.6906666666666667\n"
     ]
    }
   ],
   "source": [
    "print(accuracy_score(y_test, result))"
   ]
  },
  {
   "cell_type": "code",
   "execution_count": 521,
   "metadata": {},
   "outputs": [
    {
     "data": {
      "text/html": [
       "<div>\n",
       "<style scoped>\n",
       "    .dataframe tbody tr th:only-of-type {\n",
       "        vertical-align: middle;\n",
       "    }\n",
       "\n",
       "    .dataframe tbody tr th {\n",
       "        vertical-align: top;\n",
       "    }\n",
       "\n",
       "    .dataframe thead th {\n",
       "        text-align: right;\n",
       "    }\n",
       "</style>\n",
       "<table border=\"1\" class=\"dataframe\">\n",
       "  <thead>\n",
       "    <tr style=\"text-align: right;\">\n",
       "      <th>Predicted Class</th>\n",
       "      <th>1</th>\n",
       "      <th>2</th>\n",
       "      <th>3</th>\n",
       "    </tr>\n",
       "    <tr>\n",
       "      <th>Actual Class</th>\n",
       "      <th></th>\n",
       "      <th></th>\n",
       "      <th></th>\n",
       "    </tr>\n",
       "  </thead>\n",
       "  <tbody>\n",
       "    <tr>\n",
       "      <th>1</th>\n",
       "      <td>98</td>\n",
       "      <td>23</td>\n",
       "      <td>6</td>\n",
       "    </tr>\n",
       "    <tr>\n",
       "      <th>2</th>\n",
       "      <td>23</td>\n",
       "      <td>79</td>\n",
       "      <td>17</td>\n",
       "    </tr>\n",
       "    <tr>\n",
       "      <th>3</th>\n",
       "      <td>15</td>\n",
       "      <td>32</td>\n",
       "      <td>82</td>\n",
       "    </tr>\n",
       "  </tbody>\n",
       "</table>\n",
       "</div>"
      ],
      "text/plain": [
       "Predicted Class   1   2   3\n",
       "Actual Class               \n",
       "1                98  23   6\n",
       "2                23  79  17\n",
       "3                15  32  82"
      ]
     },
     "execution_count": 521,
     "metadata": {},
     "output_type": "execute_result"
    }
   ],
   "source": [
    "pd.crosstab(y_test, result, rownames=['Actual Class'], colnames=['Predicted Class'])"
   ]
  },
  {
   "cell_type": "code",
   "execution_count": 522,
   "metadata": {},
   "outputs": [
    {
     "data": {
      "text/plain": [
       "[('BC_01', 0.09126995307184232),\n",
       " ('BC_02', 0.07296305732852709),\n",
       " ('BC_03', 0.07310309777303382),\n",
       " ('BC_03LN', 0.08743520802722232),\n",
       " ('BC_04', 0.06364561709314809),\n",
       " ('BC_05', 0.10211168354722266),\n",
       " ('BC_06', 0.04859353757945763),\n",
       " ('BC_07', 0.09286484353738626),\n",
       " ('BC_07LN', 0.047913808645784386),\n",
       " ('BC_08', 0.09745676182118602),\n",
       " ('BC_09', 0.09208357798605667),\n",
       " ('BC_10', 0.07820368233172538),\n",
       " ('BC_11', 0.05235517125740734)]"
      ]
     },
     "execution_count": 522,
     "metadata": {},
     "output_type": "execute_result"
    }
   ],
   "source": [
    "list(zip(CibersortDF[used_features], clf.feature_importances_))"
   ]
  },
  {
   "cell_type": "code",
   "execution_count": 333,
   "metadata": {},
   "outputs": [],
   "source": [
    "#clf.fit(X_train[used_features], X_train['AJCC_PATHOLOGIC_TUMOR_STAGE'])"
   ]
  },
  {
   "cell_type": "code",
   "execution_count": 335,
   "metadata": {},
   "outputs": [],
   "source": [
    "#result = clf.predict(X_test[used_features])"
   ]
  },
  {
   "cell_type": "code",
   "execution_count": 337,
   "metadata": {},
   "outputs": [],
   "source": [
    "#print(accuracy_score(X_test['AJCC_PATHOLOGIC_TUMOR_STAGE'], result))"
   ]
  },
  {
   "cell_type": "markdown",
   "metadata": {},
   "source": [
    "# Linear SVC"
   ]
  },
  {
   "cell_type": "code",
   "execution_count": 77,
   "metadata": {},
   "outputs": [],
   "source": [
    "model = LinearSVC()"
   ]
  },
  {
   "cell_type": "code",
   "execution_count": 78,
   "metadata": {},
   "outputs": [
    {
     "name": "stdout",
     "output_type": "stream",
     "text": [
      "Baseline: 40.65% (1.45%)\n"
     ]
    }
   ],
   "source": [
    "results = cross_val_score(model, X_res,y_res, cv=kfold)\n",
    "print(\"Baseline: %.2f%% (%.2f%%)\" % (results.mean()*100, results.std()*100))"
   ]
  },
  {
   "cell_type": "code",
   "execution_count": 505,
   "metadata": {},
   "outputs": [
    {
     "name": "stdout",
     "output_type": "stream",
     "text": [
      "Baseline: 57.02% (2.43%)\n"
     ]
    }
   ],
   "source": [
    "#results = cross_val_score(model, CibersortDF[used_features], Y, cv=kfold)\n",
    "#print(\"Baseline: %.2f%% (%.2f%%)\" % (results.mean()*100, results.std()*100))"
   ]
  },
  {
   "cell_type": "code",
   "execution_count": 343,
   "metadata": {},
   "outputs": [
    {
     "data": {
      "text/plain": [
       "LinearSVC(C=1.0, class_weight=None, dual=True, fit_intercept=True,\n",
       "     intercept_scaling=1, loss='squared_hinge', max_iter=1000,\n",
       "     multi_class='ovr', penalty='l2', random_state=None, tol=0.0001,\n",
       "     verbose=0)"
      ]
     },
     "execution_count": 343,
     "metadata": {},
     "output_type": "execute_result"
    }
   ],
   "source": [
    "model.fit(X_train,y_train)"
   ]
  },
  {
   "cell_type": "code",
   "execution_count": 345,
   "metadata": {},
   "outputs": [
    {
     "data": {
      "text/plain": [
       "0.47962591850367403"
      ]
     },
     "execution_count": 345,
     "metadata": {},
     "output_type": "execute_result"
    }
   ],
   "source": [
    "model.score(X_train,y_train)"
   ]
  },
  {
   "cell_type": "code",
   "execution_count": 347,
   "metadata": {},
   "outputs": [],
   "source": [
    "predicted = model.predict(X_test)"
   ]
  },
  {
   "cell_type": "code",
   "execution_count": 349,
   "metadata": {},
   "outputs": [
    {
     "name": "stdout",
     "output_type": "stream",
     "text": [
      "0.44\n"
     ]
    }
   ],
   "source": [
    "print(accuracy_score(y_test, predicted))"
   ]
  },
  {
   "cell_type": "code",
   "execution_count": 351,
   "metadata": {},
   "outputs": [
    {
     "name": "stdout",
     "output_type": "stream",
     "text": [
      "[[52 33 42]\n",
      " [34 42 43]\n",
      " [31 27 71]]\n"
     ]
    }
   ],
   "source": [
    "conf_mat = confusion_matrix(y_test, predicted)\n",
    "print(conf_mat)"
   ]
  },
  {
   "cell_type": "code",
   "execution_count": 340,
   "metadata": {},
   "outputs": [],
   "source": [
    "#model = svm.SVC(kernel='linear', C=1, gamma=1, multi_class='ovr')"
   ]
  },
  {
   "cell_type": "code",
   "execution_count": 342,
   "metadata": {},
   "outputs": [],
   "source": [
    "#model.fit(X_train[used_features],X_train['AJCC_PATHOLOGIC_TUMOR_STAGE'])"
   ]
  },
  {
   "cell_type": "code",
   "execution_count": 344,
   "metadata": {},
   "outputs": [],
   "source": [
    "#model.score(X_train[used_features].values,X_train['AJCC_PATHOLOGIC_TUMOR_STAGE'])"
   ]
  },
  {
   "cell_type": "code",
   "execution_count": 346,
   "metadata": {},
   "outputs": [],
   "source": [
    "#predicted = model.predict(X_test[])"
   ]
  },
  {
   "cell_type": "code",
   "execution_count": 348,
   "metadata": {},
   "outputs": [],
   "source": [
    "#print(accuracy_score(X_test['AJCC_PATHOLOGIC_TUMOR_STAGE'], predicted))"
   ]
  },
  {
   "cell_type": "markdown",
   "metadata": {},
   "source": [
    "# SVM Classifier"
   ]
  },
  {
   "cell_type": "code",
   "execution_count": 79,
   "metadata": {},
   "outputs": [],
   "source": [
    "svm_model_linear = SVC(kernel = 'rbf', C = 10, gamma=10)"
   ]
  },
  {
   "cell_type": "code",
   "execution_count": 80,
   "metadata": {},
   "outputs": [
    {
     "name": "stdout",
     "output_type": "stream",
     "text": [
      "Baseline: 60.63% (2.73%)\n"
     ]
    }
   ],
   "source": [
    "results = cross_val_score(svm_model_linear, X_res,y_res, cv=kfold)\n",
    "print(\"Baseline: %.2f%% (%.2f%%)\" % (results.mean()*100, results.std()*100))"
   ]
  },
  {
   "cell_type": "code",
   "execution_count": 507,
   "metadata": {},
   "outputs": [
    {
     "name": "stdout",
     "output_type": "stream",
     "text": [
      "Baseline: 46.83% (2.94%)\n"
     ]
    }
   ],
   "source": [
    "#results = cross_val_score(svm_model_linear, CibersortDF[used_features], Y, cv=kfold)\n",
    "#print(\"Baseline: %.2f%% (%.2f%%)\" % (results.mean()*100, results.std()*100))"
   ]
  },
  {
   "cell_type": "code",
   "execution_count": 480,
   "metadata": {},
   "outputs": [
    {
     "data": {
      "text/plain": [
       "SVC(C=10, cache_size=200, class_weight=None, coef0=0.0,\n",
       "  decision_function_shape='ovr', degree=3, gamma=10, kernel='rbf',\n",
       "  max_iter=-1, probability=False, random_state=None, shrinking=True,\n",
       "  tol=0.001, verbose=False)"
      ]
     },
     "execution_count": 480,
     "metadata": {},
     "output_type": "execute_result"
    }
   ],
   "source": [
    "svm_model_linear.fit(X_train,y_train)"
   ]
  },
  {
   "cell_type": "code",
   "execution_count": 355,
   "metadata": {},
   "outputs": [],
   "source": [
    "svm_predictions = svm_model_linear.predict(X_test)"
   ]
  },
  {
   "cell_type": "code",
   "execution_count": 356,
   "metadata": {},
   "outputs": [
    {
     "name": "stdout",
     "output_type": "stream",
     "text": [
      "0.704\n"
     ]
    }
   ],
   "source": [
    "accuracy = svm_model_linear.score(X_test,y_test)\n",
    "print(accuracy)"
   ]
  },
  {
   "cell_type": "code",
   "execution_count": 357,
   "metadata": {},
   "outputs": [],
   "source": [
    "cm = confusion_matrix(y_test, svm_predictions)"
   ]
  },
  {
   "cell_type": "code",
   "execution_count": 358,
   "metadata": {},
   "outputs": [
    {
     "name": "stdout",
     "output_type": "stream",
     "text": [
      "[[107  10  10]\n",
      " [ 30  62  27]\n",
      " [  8  26  95]]\n"
     ]
    }
   ],
   "source": [
    "print(cm)"
   ]
  },
  {
   "cell_type": "code",
   "execution_count": 294,
   "metadata": {},
   "outputs": [],
   "source": [
    "#svm_model_linear = SVC(kernel = 'rbf', C = 10, gamma=10).fit(X_train[used_features],X_train['AJCC_PATHOLOGIC_TUMOR_STAGE'])"
   ]
  },
  {
   "cell_type": "code",
   "execution_count": 295,
   "metadata": {},
   "outputs": [],
   "source": [
    "#svm_predictions = svm_model_linear.predict(X_test[used_features])"
   ]
  },
  {
   "cell_type": "code",
   "execution_count": 296,
   "metadata": {},
   "outputs": [
    {
     "name": "stdout",
     "output_type": "stream",
     "text": [
      "0.41284403669724773\n"
     ]
    }
   ],
   "source": [
    "#accuracy = svm_model_linear.score(X_test[used_features],X_test['AJCC_PATHOLOGIC_TUMOR_STAGE'])\n",
    "#print(accuracy)"
   ]
  },
  {
   "cell_type": "markdown",
   "metadata": {},
   "source": [
    "# Naive Bayes Classifier"
   ]
  },
  {
   "cell_type": "code",
   "execution_count": 81,
   "metadata": {},
   "outputs": [],
   "source": [
    "gnb = GaussianNB()"
   ]
  },
  {
   "cell_type": "code",
   "execution_count": 82,
   "metadata": {},
   "outputs": [
    {
     "name": "stdout",
     "output_type": "stream",
     "text": [
      "Baseline: 42.58% (2.25%)\n"
     ]
    }
   ],
   "source": [
    "results = cross_val_score(gnb, X_res,y_res, cv=kfold)\n",
    "print(\"Baseline: %.2f%% (%.2f%%)\" % (results.mean()*100, results.std()*100))"
   ]
  },
  {
   "cell_type": "code",
   "execution_count": 509,
   "metadata": {},
   "outputs": [
    {
     "name": "stdout",
     "output_type": "stream",
     "text": [
      "Baseline: 47.29% (3.81%)\n"
     ]
    }
   ],
   "source": [
    "#results = cross_val_score(gnb, CibersortDF[used_features], Y, cv=kfold)\n",
    "#print(\"Baseline: %.2f%% (%.2f%%)\" % (results.mean()*100, results.std()*100))"
   ]
  },
  {
   "cell_type": "code",
   "execution_count": 360,
   "metadata": {},
   "outputs": [
    {
     "data": {
      "text/plain": [
       "GaussianNB(priors=None)"
      ]
     },
     "execution_count": 360,
     "metadata": {},
     "output_type": "execute_result"
    }
   ],
   "source": [
    "gnb.fit(X_train,y_train)"
   ]
  },
  {
   "cell_type": "code",
   "execution_count": 361,
   "metadata": {},
   "outputs": [],
   "source": [
    "y_pred = gnb.predict(X_test)"
   ]
  },
  {
   "cell_type": "code",
   "execution_count": 365,
   "metadata": {},
   "outputs": [
    {
     "name": "stdout",
     "output_type": "stream",
     "text": [
      "0.464\n"
     ]
    }
   ],
   "source": [
    "print(accuracy_score(y_test, y_pred))"
   ]
  },
  {
   "cell_type": "code",
   "execution_count": 366,
   "metadata": {},
   "outputs": [
    {
     "name": "stdout",
     "output_type": "stream",
     "text": [
      "[[57 23 47]\n",
      " [33 45 41]\n",
      " [37 20 72]]\n"
     ]
    }
   ],
   "source": [
    "cm = confusion_matrix(y_test, y_pred)\n",
    "print(cm)"
   ]
  },
  {
   "cell_type": "code",
   "execution_count": 113,
   "metadata": {},
   "outputs": [
    {
     "data": {
      "text/plain": [
       "GaussianNB(priors=None)"
      ]
     },
     "execution_count": 113,
     "metadata": {},
     "output_type": "execute_result"
    }
   ],
   "source": [
    "#gnb.fit(X_train[used_features].values,X_train['AJCC_PATHOLOGIC_TUMOR_STAGE'])"
   ]
  },
  {
   "cell_type": "code",
   "execution_count": 362,
   "metadata": {},
   "outputs": [],
   "source": [
    "#y_pred = gnb.predict(X_test[used_features])"
   ]
  },
  {
   "cell_type": "code",
   "execution_count": 363,
   "metadata": {},
   "outputs": [
    {
     "data": {
      "text/plain": [
       "'print(\"Number of mislabeled points out of a total {} points : {}, performance {:05.2f}%\"\\n      .format(\\n          X_test.shape[0],\\n          (X_test[\"AJCC_PATHOLOGIC_TUMOR_STAGE\"] != y_pred).sum(),\\n          100*(1-(X_test[\"AJCC_PATHOLOGIC_TUMOR_STAGE\"] != y_pred).sum()/X_test.shape[0])\\n))'"
      ]
     },
     "execution_count": 363,
     "metadata": {},
     "output_type": "execute_result"
    }
   ],
   "source": [
    "'''print(\"Number of mislabeled points out of a total {} points : {}, performance {:05.2f}%\"\n",
    "      .format(\n",
    "          X_test.shape[0],\n",
    "          (X_test[\"AJCC_PATHOLOGIC_TUMOR_STAGE\"] != y_pred).sum(),\n",
    "          100*(1-(X_test[\"AJCC_PATHOLOGIC_TUMOR_STAGE\"] != y_pred).sum()/X_test.shape[0])\n",
    "))'''"
   ]
  },
  {
   "cell_type": "code",
   "execution_count": 364,
   "metadata": {},
   "outputs": [],
   "source": [
    "#print(accuracy_score(X_test['AJCC_PATHOLOGIC_TUMOR_STAGE'], y_pred))"
   ]
  },
  {
   "cell_type": "markdown",
   "metadata": {},
   "source": [
    "# KNN"
   ]
  },
  {
   "cell_type": "code",
   "execution_count": 83,
   "metadata": {},
   "outputs": [],
   "source": [
    "knn = KNeighborsClassifier(n_neighbors = 4)"
   ]
  },
  {
   "cell_type": "code",
   "execution_count": 84,
   "metadata": {},
   "outputs": [
    {
     "name": "stdout",
     "output_type": "stream",
     "text": [
      "Baseline: 64.10% (1.92%)\n"
     ]
    }
   ],
   "source": [
    "results = cross_val_score(knn, X_res,y_res, cv=kfold)\n",
    "print(\"Baseline: %.2f%% (%.2f%%)\" % (results.mean()*100, results.std()*100))"
   ]
  },
  {
   "cell_type": "code",
   "execution_count": 511,
   "metadata": {},
   "outputs": [
    {
     "name": "stdout",
     "output_type": "stream",
     "text": [
      "Baseline: 49.13% (1.96%)\n"
     ]
    }
   ],
   "source": [
    "#results = cross_val_score(knn, CibersortDF[used_features], Y, cv=kfold)\n",
    "#print(\"Baseline: %.2f%% (%.2f%%)\" % (results.mean()*100, results.std()*100))"
   ]
  },
  {
   "cell_type": "code",
   "execution_count": 483,
   "metadata": {},
   "outputs": [
    {
     "data": {
      "text/plain": [
       "KNeighborsClassifier(algorithm='auto', leaf_size=30, metric='minkowski',\n",
       "           metric_params=None, n_jobs=1, n_neighbors=4, p=2,\n",
       "           weights='uniform')"
      ]
     },
     "execution_count": 483,
     "metadata": {},
     "output_type": "execute_result"
    }
   ],
   "source": [
    "knn.fit(X_train, y_train)"
   ]
  },
  {
   "cell_type": "code",
   "execution_count": 484,
   "metadata": {},
   "outputs": [
    {
     "name": "stdout",
     "output_type": "stream",
     "text": [
      "0.648\n"
     ]
    }
   ],
   "source": [
    "accuracy = knn.score(X_test, y_test)\n",
    "print(accuracy)"
   ]
  },
  {
   "cell_type": "code",
   "execution_count": 485,
   "metadata": {},
   "outputs": [],
   "source": [
    "knn_predictions = knn.predict(X_test) "
   ]
  },
  {
   "cell_type": "code",
   "execution_count": 486,
   "metadata": {},
   "outputs": [
    {
     "name": "stdout",
     "output_type": "stream",
     "text": [
      "0.648\n"
     ]
    }
   ],
   "source": [
    "print(accuracy_score(y_test, knn_predictions))"
   ]
  },
  {
   "cell_type": "code",
   "execution_count": 387,
   "metadata": {},
   "outputs": [],
   "source": [
    "cm = confusion_matrix(y_test, knn_predictions)"
   ]
  },
  {
   "cell_type": "code",
   "execution_count": 388,
   "metadata": {},
   "outputs": [
    {
     "name": "stdout",
     "output_type": "stream",
     "text": [
      "[[115   6   6]\n",
      " [ 46  44  29]\n",
      " [ 16  29  84]]\n"
     ]
    }
   ],
   "source": [
    "print(cm)"
   ]
  },
  {
   "cell_type": "markdown",
   "metadata": {},
   "source": [
    "# Box plot"
   ]
  },
  {
   "cell_type": "code",
   "execution_count": 5,
   "metadata": {},
   "outputs": [],
   "source": [
    "df = pd.read_csv('result.csv', sep=',')"
   ]
  },
  {
   "cell_type": "code",
   "execution_count": 6,
   "metadata": {},
   "outputs": [
    {
     "data": {
      "text/html": [
       "<div>\n",
       "<style scoped>\n",
       "    .dataframe tbody tr th:only-of-type {\n",
       "        vertical-align: middle;\n",
       "    }\n",
       "\n",
       "    .dataframe tbody tr th {\n",
       "        vertical-align: top;\n",
       "    }\n",
       "\n",
       "    .dataframe thead th {\n",
       "        text-align: right;\n",
       "    }\n",
       "</style>\n",
       "<table border=\"1\" class=\"dataframe\">\n",
       "  <thead>\n",
       "    <tr style=\"text-align: right;\">\n",
       "      <th></th>\n",
       "      <th>Classifier</th>\n",
       "      <th>Accuracy</th>\n",
       "    </tr>\n",
       "  </thead>\n",
       "  <tbody>\n",
       "    <tr>\n",
       "      <th>0</th>\n",
       "      <td>LR</td>\n",
       "      <td>39.00</td>\n",
       "    </tr>\n",
       "    <tr>\n",
       "      <th>1</th>\n",
       "      <td>RF</td>\n",
       "      <td>63.18</td>\n",
       "    </tr>\n",
       "    <tr>\n",
       "      <th>2</th>\n",
       "      <td>SVC</td>\n",
       "      <td>39.00</td>\n",
       "    </tr>\n",
       "    <tr>\n",
       "      <th>3</th>\n",
       "      <td>SVM</td>\n",
       "      <td>61.82</td>\n",
       "    </tr>\n",
       "    <tr>\n",
       "      <th>4</th>\n",
       "      <td>KNN</td>\n",
       "      <td>60.90</td>\n",
       "    </tr>\n",
       "  </tbody>\n",
       "</table>\n",
       "</div>"
      ],
      "text/plain": [
       "  Classifier  Accuracy\n",
       "0         LR     39.00\n",
       "1         RF     63.18\n",
       "2        SVC     39.00\n",
       "3        SVM     61.82\n",
       "4        KNN     60.90"
      ]
     },
     "execution_count": 6,
     "metadata": {},
     "output_type": "execute_result"
    }
   ],
   "source": [
    "df.head()"
   ]
  },
  {
   "cell_type": "code",
   "execution_count": 7,
   "metadata": {},
   "outputs": [
    {
     "data": {
      "text/plain": [
       "[Text(0,0,'LR'),\n",
       " Text(0,0,'RF'),\n",
       " Text(0,0,'SVC'),\n",
       " Text(0,0,'SVM'),\n",
       " Text(0,0,'KNN'),\n",
       " Text(0,0,'NB'),\n",
       " Text(0,0,'CNN'),\n",
       " Text(0,0,'DT')]"
      ]
     },
     "execution_count": 7,
     "metadata": {},
     "output_type": "execute_result"
    },
    {
     "data": {
      "image/png": "[encoded data removed]",
      "text/plain": [
       "<matplotlib.figure.Figure at 0x1cff31072e8>"
      ]
     },
     "metadata": {},
     "output_type": "display_data"
    }
   ],
   "source": [
    "bplot = sns.boxplot(y='Accuracy', x='Classifier', \n",
    "                 data=df, \n",
    "                 width=0.5,\n",
    "                 palette=\"colorblind\")\n",
    "bplot.set_xticklabels(bplot.get_xticklabels(),rotation=30)"
   ]
  },
  {
   "cell_type": "code",
   "execution_count": null,
   "metadata": {},
   "outputs": [],
   "source": []
  },
  {
   "cell_type": "code",
   "execution_count": null,
   "metadata": {},
   "outputs": [],
   "source": []
  },
  {
   "cell_type": "code",
   "execution_count": null,
   "metadata": {},
   "outputs": [],
   "source": []
  },
  {
   "cell_type": "code",
   "execution_count": null,
   "metadata": {},
   "outputs": [],
   "source": []
  },
  {
   "cell_type": "code",
   "execution_count": null,
   "metadata": {},
   "outputs": [],
   "source": []
  },
  {
   "cell_type": "code",
   "execution_count": null,
   "metadata": {},
   "outputs": [],
   "source": []
  },
  {
   "cell_type": "markdown",
   "metadata": {},
   "source": [
    "# End"
   ]
  },
  {
   "cell_type": "markdown",
   "metadata": {},
   "source": [
    "# Other Trials"
   ]
  },
  {
   "cell_type": "markdown",
   "metadata": {},
   "source": [
    "# Linear Regression and Cross Validation Plot "
   ]
  },
  {
   "cell_type": "code",
   "execution_count": 368,
   "metadata": {},
   "outputs": [],
   "source": [
    "lr = linear_model.LinearRegression()"
   ]
  },
  {
   "cell_type": "code",
   "execution_count": 191,
   "metadata": {},
   "outputs": [],
   "source": [
    "#X = X_train[used_features]\n",
    "#y = X_train['AJCC_PATHOLOGIC_TUMOR_STAGE']"
   ]
  },
  {
   "cell_type": "code",
   "execution_count": 369,
   "metadata": {},
   "outputs": [],
   "source": [
    "predicted = cross_val_predict(lr, X_train , y_train, cv=10)"
   ]
  },
  {
   "cell_type": "code",
   "execution_count": 373,
   "metadata": {},
   "outputs": [
    {
     "data": {
      "text/plain": [
       "\"fig, ax = plt.subplots()\\nax.scatter(y_train, predicted, edgecolors=(0, 0, 0))\\nax.plot([y.min(), y.max()], [y.min(), y.max()], 'k--', lw=4)\\nax.set_xlabel('Measured')\\nax.set_ylabel('Predicted')\\nplt.show()\""
      ]
     },
     "execution_count": 373,
     "metadata": {},
     "output_type": "execute_result"
    }
   ],
   "source": [
    "'''fig, ax = plt.subplots()\n",
    "ax.scatter(y_train, predicted, edgecolors=(0, 0, 0))\n",
    "ax.plot([y.min(), y.max()], [y.min(), y.max()], 'k--', lw=4)\n",
    "ax.set_xlabel('Measured')\n",
    "ax.set_ylabel('Predicted')\n",
    "plt.show()'''"
   ]
  },
  {
   "cell_type": "markdown",
   "metadata": {},
   "source": [
    "# Predict Days to Death"
   ]
  },
  {
   "cell_type": "code",
   "execution_count": 192,
   "metadata": {},
   "outputs": [
    {
     "data": {
      "text/plain": [
       "(1105, 109)"
      ]
     },
     "execution_count": 192,
     "metadata": {},
     "output_type": "execute_result"
    }
   ],
   "source": [
    "ClinicalDF.shape"
   ]
  },
  {
   "cell_type": "code",
   "execution_count": 193,
   "metadata": {},
   "outputs": [],
   "source": [
    "ClinicalDF = ClinicalDF.fillna(ClinicalDF.mean()).dropna(axis=1, how='all')"
   ]
  },
  {
   "cell_type": "code",
   "execution_count": 194,
   "metadata": {},
   "outputs": [
    {
     "data": {
      "text/plain": [
       "(1101, 17)"
      ]
     },
     "execution_count": 194,
     "metadata": {},
     "output_type": "execute_result"
    }
   ],
   "source": [
    "CibersortDF.shape"
   ]
  },
  {
   "cell_type": "code",
   "execution_count": 195,
   "metadata": {},
   "outputs": [],
   "source": [
    "CibersortDF = CibersortDF.rename(index=str, columns={\"Input Sample\": \"CASE_ID\"})"
   ]
  },
  {
   "cell_type": "code",
   "execution_count": 196,
   "metadata": {},
   "outputs": [],
   "source": [
    "joined_df = ClinicalDF.merge(CibersortDF, on='CASE_ID', how='inner')"
   ]
  },
  {
   "cell_type": "code",
   "execution_count": 197,
   "metadata": {},
   "outputs": [
    {
     "data": {
      "text/plain": [
       "array([1640.27102804,  172.        , 1174.        ,  991.        ,\n",
       "       2551.        , 2798.        ,  785.        ,  943.        ,\n",
       "        959.        , 1692.        , 1920.        ,  754.        ,\n",
       "        749.        , 2373.        ,  860.        , 2965.        ,\n",
       "       2573.        , 1542.        , 1927.        ,  825.        ,\n",
       "       4267.        , 1688.        ,  558.        , 1034.        ,\n",
       "        573.        , 3462.        ,  116.        , 1993.        ,\n",
       "        426.        , 3063.        ,  811.        , 1759.        ,\n",
       "       2520.        , 2712.        , 1388.        , 2361.        ,\n",
       "       3669.        , 4456.        ,  365.        , 3461.        ,\n",
       "       1430.        , 1563.        , 2483.        , 2469.        ,\n",
       "        612.        ,  239.        , 2854.        ,  160.        ,\n",
       "       2009.        , 1009.        , 1508.        , 1142.        ,\n",
       "        571.        ,  322.        , 3736.        , 1642.        ,\n",
       "       2273.        , 1032.        , 3941.        , 2097.        ,\n",
       "        921.        ,  639.        , 1812.        , 1365.        ,\n",
       "       1699.        ,  883.        ,  362.        ,  879.        ,\n",
       "       2534.        ,  912.        , 3126.        , 2417.        ,\n",
       "       1781.        ,  967.        , 1148.        ,  723.        ,\n",
       "       1793.        , 1286.        , 1673.        , 1272.        ,\n",
       "       2207.        , 3945.        , 1556.        ,  548.        ,\n",
       "       2763.        ,  524.        ,  304.        , 3418.        ,\n",
       "       3472.        ,  616.        ,  266.        , 1694.        ,\n",
       "        763.        ,  255.        , 1127.        ,  538.        ,\n",
       "       2127.        ,  295.        ,  224.        , 2192.        ,\n",
       "       3959.        ,  158.        ,  792.        ])"
      ]
     },
     "execution_count": 197,
     "metadata": {},
     "output_type": "execute_result"
    }
   ],
   "source": [
    "joined_df.DAYS_TO_DEATH.unique()"
   ]
  },
  {
   "cell_type": "code",
   "execution_count": 198,
   "metadata": {},
   "outputs": [],
   "source": [
    "ClinicalDF = joined_df.loc[:,'CASE_ID':'VITAL_STATUS']"
   ]
  },
  {
   "cell_type": "code",
   "execution_count": 199,
   "metadata": {},
   "outputs": [],
   "source": [
    "CibersortDF = joined_df.loc[:,'BC_01':'BC_11']"
   ]
  },
  {
   "cell_type": "code",
   "execution_count": 200,
   "metadata": {},
   "outputs": [],
   "source": [
    "CibersortDF.insert(0, 'CASE_ID', joined_df.iloc[:,1])"
   ]
  },
  {
   "cell_type": "code",
   "execution_count": 201,
   "metadata": {},
   "outputs": [],
   "source": [
    "CibersortDF.insert(1, 'DAYS_TO_DEATH', joined_df.iloc[:,14])"
   ]
  },
  {
   "cell_type": "code",
   "execution_count": 202,
   "metadata": {},
   "outputs": [
    {
     "data": {
      "text/html": [
       "<div>\n",
       "<style scoped>\n",
       "    .dataframe tbody tr th:only-of-type {\n",
       "        vertical-align: middle;\n",
       "    }\n",
       "\n",
       "    .dataframe tbody tr th {\n",
       "        vertical-align: top;\n",
       "    }\n",
       "\n",
       "    .dataframe thead th {\n",
       "        text-align: right;\n",
       "    }\n",
       "</style>\n",
       "<table border=\"1\" class=\"dataframe\">\n",
       "  <thead>\n",
       "    <tr style=\"text-align: right;\">\n",
       "      <th></th>\n",
       "      <th>CASE_ID</th>\n",
       "      <th>DAYS_TO_DEATH</th>\n",
       "      <th>BC_01</th>\n",
       "      <th>BC_02</th>\n",
       "      <th>BC_03</th>\n",
       "      <th>BC_03LN</th>\n",
       "      <th>BC_04</th>\n",
       "      <th>BC_05</th>\n",
       "      <th>BC_06</th>\n",
       "      <th>BC_07</th>\n",
       "      <th>BC_07LN</th>\n",
       "      <th>BC_08</th>\n",
       "      <th>BC_09</th>\n",
       "      <th>BC_10</th>\n",
       "      <th>BC_11</th>\n",
       "    </tr>\n",
       "  </thead>\n",
       "  <tbody>\n",
       "    <tr>\n",
       "      <th>0</th>\n",
       "      <td>TCGA-A7-A3J0</td>\n",
       "      <td>1640.271028</td>\n",
       "      <td>0.354303</td>\n",
       "      <td>0.000000</td>\n",
       "      <td>0.000000</td>\n",
       "      <td>0.230454</td>\n",
       "      <td>0.031201</td>\n",
       "      <td>0.186856</td>\n",
       "      <td>0.000000</td>\n",
       "      <td>0.000000</td>\n",
       "      <td>0.0</td>\n",
       "      <td>0.000000</td>\n",
       "      <td>0.197185</td>\n",
       "      <td>0.000000</td>\n",
       "      <td>0.000000</td>\n",
       "    </tr>\n",
       "    <tr>\n",
       "      <th>1</th>\n",
       "      <td>TCGA-OL-A66N</td>\n",
       "      <td>1640.271028</td>\n",
       "      <td>0.193336</td>\n",
       "      <td>0.000000</td>\n",
       "      <td>0.000000</td>\n",
       "      <td>0.076339</td>\n",
       "      <td>0.000000</td>\n",
       "      <td>0.099043</td>\n",
       "      <td>0.302135</td>\n",
       "      <td>0.045239</td>\n",
       "      <td>0.0</td>\n",
       "      <td>0.262130</td>\n",
       "      <td>0.000000</td>\n",
       "      <td>0.021778</td>\n",
       "      <td>0.000000</td>\n",
       "    </tr>\n",
       "    <tr>\n",
       "      <th>2</th>\n",
       "      <td>TCGA-AQ-A0Y5</td>\n",
       "      <td>172.000000</td>\n",
       "      <td>0.048833</td>\n",
       "      <td>0.000000</td>\n",
       "      <td>0.128816</td>\n",
       "      <td>0.027748</td>\n",
       "      <td>0.250986</td>\n",
       "      <td>0.236943</td>\n",
       "      <td>0.000000</td>\n",
       "      <td>0.027265</td>\n",
       "      <td>0.0</td>\n",
       "      <td>0.200007</td>\n",
       "      <td>0.000000</td>\n",
       "      <td>0.079402</td>\n",
       "      <td>0.000000</td>\n",
       "    </tr>\n",
       "    <tr>\n",
       "      <th>3</th>\n",
       "      <td>TCGA-E9-A22H</td>\n",
       "      <td>1640.271028</td>\n",
       "      <td>0.175054</td>\n",
       "      <td>0.221322</td>\n",
       "      <td>0.000000</td>\n",
       "      <td>0.184788</td>\n",
       "      <td>0.000000</td>\n",
       "      <td>0.267790</td>\n",
       "      <td>0.000000</td>\n",
       "      <td>0.007576</td>\n",
       "      <td>0.0</td>\n",
       "      <td>0.000000</td>\n",
       "      <td>0.124782</td>\n",
       "      <td>0.000000</td>\n",
       "      <td>0.018688</td>\n",
       "    </tr>\n",
       "    <tr>\n",
       "      <th>4</th>\n",
       "      <td>TCGA-BH-A0EB</td>\n",
       "      <td>1640.271028</td>\n",
       "      <td>0.154803</td>\n",
       "      <td>0.048877</td>\n",
       "      <td>0.000000</td>\n",
       "      <td>0.138262</td>\n",
       "      <td>0.000000</td>\n",
       "      <td>0.052319</td>\n",
       "      <td>0.000000</td>\n",
       "      <td>0.147567</td>\n",
       "      <td>0.0</td>\n",
       "      <td>0.166245</td>\n",
       "      <td>0.291928</td>\n",
       "      <td>0.000000</td>\n",
       "      <td>0.000000</td>\n",
       "    </tr>\n",
       "  </tbody>\n",
       "</table>\n",
       "</div>"
      ],
      "text/plain": [
       "        CASE_ID  DAYS_TO_DEATH     BC_01     BC_02     BC_03   BC_03LN  \\\n",
       "0  TCGA-A7-A3J0    1640.271028  0.354303  0.000000  0.000000  0.230454   \n",
       "1  TCGA-OL-A66N    1640.271028  0.193336  0.000000  0.000000  0.076339   \n",
       "2  TCGA-AQ-A0Y5     172.000000  0.048833  0.000000  0.128816  0.027748   \n",
       "3  TCGA-E9-A22H    1640.271028  0.175054  0.221322  0.000000  0.184788   \n",
       "4  TCGA-BH-A0EB    1640.271028  0.154803  0.048877  0.000000  0.138262   \n",
       "\n",
       "      BC_04     BC_05     BC_06     BC_07  BC_07LN     BC_08     BC_09  \\\n",
       "0  0.031201  0.186856  0.000000  0.000000      0.0  0.000000  0.197185   \n",
       "1  0.000000  0.099043  0.302135  0.045239      0.0  0.262130  0.000000   \n",
       "2  0.250986  0.236943  0.000000  0.027265      0.0  0.200007  0.000000   \n",
       "3  0.000000  0.267790  0.000000  0.007576      0.0  0.000000  0.124782   \n",
       "4  0.000000  0.052319  0.000000  0.147567      0.0  0.166245  0.291928   \n",
       "\n",
       "      BC_10     BC_11  \n",
       "0  0.000000  0.000000  \n",
       "1  0.021778  0.000000  \n",
       "2  0.079402  0.000000  \n",
       "3  0.000000  0.018688  \n",
       "4  0.000000  0.000000  "
      ]
     },
     "execution_count": 202,
     "metadata": {},
     "output_type": "execute_result"
    }
   ],
   "source": [
    "CibersortDF.head()"
   ]
  },
  {
   "cell_type": "code",
   "execution_count": 203,
   "metadata": {},
   "outputs": [],
   "source": [
    "X_train, X_test = train_test_split(CibersortDF, test_size=0.3, random_state=42)"
   ]
  },
  {
   "cell_type": "code",
   "execution_count": 204,
   "metadata": {},
   "outputs": [],
   "source": [
    "lr = linear_model.LinearRegression()"
   ]
  },
  {
   "cell_type": "code",
   "execution_count": 205,
   "metadata": {},
   "outputs": [],
   "source": [
    "X = X_train[used_features]\n",
    "y = X_train['DAYS_TO_DEATH']"
   ]
  },
  {
   "cell_type": "code",
   "execution_count": 206,
   "metadata": {},
   "outputs": [],
   "source": [
    "predicted = cross_val_predict(lr, X , y, cv=10)"
   ]
  },
  {
   "cell_type": "code",
   "execution_count": 209,
   "metadata": {},
   "outputs": [
    {
     "data": {
      "image/png": "[encoded data removed]",
      "text/plain": [
       "<matplotlib.figure.Figure at 0x131e1806b00>"
      ]
     },
     "metadata": {},
     "output_type": "display_data"
    }
   ],
   "source": [
    "fig, ax = plt.subplots()\n",
    "ax.scatter(y, predicted, edgecolors=(0, 0, 0))\n",
    "ax.plot([y.min(), y.max()], [y.min(), y.max()], 'k--', lw=4)\n",
    "ax.set_xlabel('Measured')\n",
    "ax.set_ylabel('Predicted')\n",
    "plt.show()"
   ]
  }
 ],
 "metadata": {
  "kernelspec": {
   "display_name": "Python 3",
   "language": "python",
   "name": "python3"
  },
  "language_info": {
   "codemirror_mode": {
    "name": "ipython",
    "version": 3
   },
   "file_extension": ".py",
   "mimetype": "text/x-python",
   "name": "python",
   "nbconvert_exporter": "python",
   "pygments_lexer": "ipython3",
   "version": "3.6.4"
  }
 },
 "nbformat": 4,
 "nbformat_minor": 2
}
