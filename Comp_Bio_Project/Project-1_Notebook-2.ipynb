{
 "cells": [
  {
   "cell_type": "markdown",
   "metadata": {},
   "source": [
    "### Code for reading the Equivalence Classes and storing them in a dictionary."
   ]
  },
  {
   "cell_type": "code",
   "execution_count": 430,
   "metadata": {
    "collapsed": true
   },
   "outputs": [],
   "source": [
    "import sys\n",
    "import re\n",
    "import os\n",
    "import pandas as pd\n",
    "import csv\n",
    "import numpy as np\n",
    "import matplotlib as plt\n",
    "from scipy import linalg \n",
    "import pickle\n",
    "%matplotlib inline\n",
    "\n",
    "eqClasses_dict = {}\n",
    "\n",
    "def storeInDict(line, person):\n",
    "    \n",
    "    s= line.split()\n",
    "    n=len(s)\n",
    "    eqClassLength = int(s[0])\n",
    "    tup = list()\n",
    "    \n",
    "    #Storing length 1 equivalence class as a string instead of a tuple in the dictionary\n",
    "    if(eqClassLength == 1):\n",
    "        t_name = s[1]\n",
    "        if t_name not in eqClasses_dict:\n",
    "            eqClasses_dict[t_name] = [0 for i in range(369)]\n",
    "            eqClasses_dict[t_name][person] = int(s[n-1])\n",
    "        else:\n",
    "            eqClasses_dict[t_name][person] = int(s[n-1])\n",
    "\n",
    "    else:\n",
    "        #Create the tuple of transcript IDs which will be the key\n",
    "        for i in range(1,eqClassLength+1):\n",
    "            tup.append(s[i])\n",
    "        tup = tuple(tup)\n",
    "\n",
    "        if tup not in eqClasses_dict:\n",
    "            eqClasses_dict[tup] = [0 for i in range(369)]\n",
    "            eqClasses_dict[tup][person] = int(s[n-1])\n",
    "        else:\n",
    "            eqClasses_dict[tup][person] = int(s[n-1])\n"
   ]
  },
  {
   "cell_type": "code",
   "execution_count": 2,
   "metadata": {
    "collapsed": true
   },
   "outputs": [],
   "source": [
    "def parseInput(path, personCount):\n",
    "\n",
    "    file = open(path,\"r\")\n",
    "\n",
    "    lineCount = 0\n",
    "    for line in file:\n",
    "        if lineCount == 0:\n",
    "            num_transcripts = int(line)\n",
    "            lineCount+=1\n",
    "            continue\n",
    "        if lineCount == 1:\n",
    "            num_eqClasses = int(line)\n",
    "            lineCount+=1\n",
    "            continue\n",
    "        if lineCount < 2+ num_transcripts:\n",
    "            lineCount+=1\n",
    "            continue\n",
    "        else:\n",
    "            storeInDict(line, personCount)\n",
    "            lineCount+=1\n",
    "            continue\n"
   ]
  },
  {
   "cell_type": "code",
   "execution_count": 4,
   "metadata": {
    "collapsed": true
   },
   "outputs": [],
   "source": [
    "def parseAllFiles():\n",
    "    \n",
    "    traincsv = pd.read_csv(\"/Users/jatingarg/Desktop/CompBioData/project1/p1_train.csv\",low_memory=False)\n",
    "    accessionList = traincsv['accession'].values\n",
    "    \n",
    "    for i in range(len(accessionList)):\n",
    "        name = accessionList[i]\n",
    "        s=\"/Users/jatingarg/Desktop/CompBioData/project1/train/\"+str(name)+\"/bias/aux_info/eq_classes.txt\"\n",
    "        parseInput(s, i)\n",
    "\n",
    "    print (len(eqClasses_dict))\n",
    "    count =0\n",
    "#     for key in eqClasses_dict.keys():\n",
    "#         print (key)\n",
    "#         print (eqClasses_dict[key])\n",
    "#         count+=1\n",
    "#         if count>20:\n",
    "#             break\n"
   ]
  },
  {
   "cell_type": "markdown",
   "metadata": {},
   "source": [
    "### Resultant vector showing the numReads in each equivalence class that has existed in any of the individuals"
   ]
  },
  {
   "cell_type": "code",
   "execution_count": 5,
   "metadata": {
    "scrolled": true
   },
   "outputs": [
    {
     "name": "stdout",
     "output_type": "stream",
     "text": [
      "1235738\n"
     ]
    }
   ],
   "source": [
    "parseAllFiles()"
   ]
  },
  {
   "cell_type": "code",
   "execution_count": 6,
   "metadata": {
    "collapsed": true
   },
   "outputs": [],
   "source": [
    "df = pd.DataFrame.from_dict(eqClasses_dict)"
   ]
  },
  {
   "cell_type": "markdown",
   "metadata": {},
   "source": [
    "### The dataframe showing the equivalence class name as columns and numReads in each equivalence class for every individual"
   ]
  },
  {
   "cell_type": "code",
   "execution_count": 7,
   "metadata": {
    "scrolled": true
   },
   "outputs": [
    {
     "data": {
      "text/html": [
       "<div>\n",
       "<style>\n",
       "    .dataframe thead tr:only-child th {\n",
       "        text-align: right;\n",
       "    }\n",
       "\n",
       "    .dataframe thead th {\n",
       "        text-align: left;\n",
       "    }\n",
       "\n",
       "    .dataframe tbody tr th {\n",
       "        vertical-align: top;\n",
       "    }\n",
       "</style>\n",
       "<table border=\"1\" class=\"dataframe\">\n",
       "  <thead>\n",
       "    <tr style=\"text-align: right;\">\n",
       "      <th></th>\n",
       "      <th>61539</th>\n",
       "      <th>186119</th>\n",
       "      <th>16960</th>\n",
       "      <th>(44665, 44668, 44669, 44672, 44674, 44678, 44680, 44681, 44683)</th>\n",
       "      <th>(82049, 82050, 82056, 82061, 82063, 82068, 82069, 82070, 82074)</th>\n",
       "      <th>(56737, 56738, 56739, 56740, 56743, 56744, 56745, 56746, 56749, 56751, 56752, 56754, 56755, 56757, 56759, 56760)</th>\n",
       "      <th>106069</th>\n",
       "      <th>(127881, 127882, 127883, 127884, 127885)</th>\n",
       "      <th>156843</th>\n",
       "      <th>(191532, 191533, 191534, 191535, 191537, 191538)</th>\n",
       "      <th>...</th>\n",
       "      <th>(39639, 39640, 44721, 79517)</th>\n",
       "      <th>(165171, 166136)</th>\n",
       "      <th>(1501, 4045, 50960, 75802, 75803, 75806, 79178, 110698, 123461, 123832, 128244, 129055, 129284, 131828, 138901, 144453, 149193, 149197, 149765, 149766, 151313, 152018, 156317, 158365, 166801, 170646, 173148, 186464, 187632, 190852)</th>\n",
       "      <th>(9801, 43148, 43149, 43150, 120089, 129795)</th>\n",
       "      <th>(110263, 136032)</th>\n",
       "      <th>29140</th>\n",
       "      <th>(105612, 198584)</th>\n",
       "      <th>(168761, 168762, 168763, 168764, 168765, 168766, 168767, 168770, 168771, 168776, 168777, 168778, 168779, 168780, 168782, 168783)</th>\n",
       "      <th>(2645, 2646, 2647, 12488, 154130, 181508, 190921, 190922, 193000)</th>\n",
       "      <th>(29950, 29951, 29953, 29954, 29955, 29956, 29957, 29958)</th>\n",
       "    </tr>\n",
       "  </thead>\n",
       "  <tbody>\n",
       "    <tr>\n",
       "      <th>0</th>\n",
       "      <td>1</td>\n",
       "      <td>8</td>\n",
       "      <td>2</td>\n",
       "      <td>1</td>\n",
       "      <td>6</td>\n",
       "      <td>1</td>\n",
       "      <td>2</td>\n",
       "      <td>16</td>\n",
       "      <td>3</td>\n",
       "      <td>228</td>\n",
       "      <td>...</td>\n",
       "      <td>0</td>\n",
       "      <td>0</td>\n",
       "      <td>0</td>\n",
       "      <td>0</td>\n",
       "      <td>0</td>\n",
       "      <td>0</td>\n",
       "      <td>0</td>\n",
       "      <td>0</td>\n",
       "      <td>0</td>\n",
       "      <td>0</td>\n",
       "    </tr>\n",
       "    <tr>\n",
       "      <th>1</th>\n",
       "      <td>0</td>\n",
       "      <td>0</td>\n",
       "      <td>0</td>\n",
       "      <td>0</td>\n",
       "      <td>3</td>\n",
       "      <td>0</td>\n",
       "      <td>9</td>\n",
       "      <td>43</td>\n",
       "      <td>1</td>\n",
       "      <td>229</td>\n",
       "      <td>...</td>\n",
       "      <td>0</td>\n",
       "      <td>0</td>\n",
       "      <td>0</td>\n",
       "      <td>0</td>\n",
       "      <td>0</td>\n",
       "      <td>0</td>\n",
       "      <td>0</td>\n",
       "      <td>0</td>\n",
       "      <td>0</td>\n",
       "      <td>0</td>\n",
       "    </tr>\n",
       "    <tr>\n",
       "      <th>2</th>\n",
       "      <td>0</td>\n",
       "      <td>1</td>\n",
       "      <td>0</td>\n",
       "      <td>0</td>\n",
       "      <td>5</td>\n",
       "      <td>0</td>\n",
       "      <td>6</td>\n",
       "      <td>28</td>\n",
       "      <td>5</td>\n",
       "      <td>256</td>\n",
       "      <td>...</td>\n",
       "      <td>0</td>\n",
       "      <td>0</td>\n",
       "      <td>0</td>\n",
       "      <td>0</td>\n",
       "      <td>0</td>\n",
       "      <td>0</td>\n",
       "      <td>0</td>\n",
       "      <td>0</td>\n",
       "      <td>0</td>\n",
       "      <td>0</td>\n",
       "    </tr>\n",
       "    <tr>\n",
       "      <th>3</th>\n",
       "      <td>0</td>\n",
       "      <td>1</td>\n",
       "      <td>1</td>\n",
       "      <td>0</td>\n",
       "      <td>2</td>\n",
       "      <td>0</td>\n",
       "      <td>5</td>\n",
       "      <td>36</td>\n",
       "      <td>1</td>\n",
       "      <td>322</td>\n",
       "      <td>...</td>\n",
       "      <td>0</td>\n",
       "      <td>0</td>\n",
       "      <td>0</td>\n",
       "      <td>0</td>\n",
       "      <td>0</td>\n",
       "      <td>0</td>\n",
       "      <td>0</td>\n",
       "      <td>0</td>\n",
       "      <td>0</td>\n",
       "      <td>0</td>\n",
       "    </tr>\n",
       "    <tr>\n",
       "      <th>4</th>\n",
       "      <td>0</td>\n",
       "      <td>0</td>\n",
       "      <td>0</td>\n",
       "      <td>0</td>\n",
       "      <td>3</td>\n",
       "      <td>0</td>\n",
       "      <td>5</td>\n",
       "      <td>11</td>\n",
       "      <td>1</td>\n",
       "      <td>336</td>\n",
       "      <td>...</td>\n",
       "      <td>0</td>\n",
       "      <td>0</td>\n",
       "      <td>0</td>\n",
       "      <td>0</td>\n",
       "      <td>0</td>\n",
       "      <td>0</td>\n",
       "      <td>0</td>\n",
       "      <td>0</td>\n",
       "      <td>0</td>\n",
       "      <td>0</td>\n",
       "    </tr>\n",
       "    <tr>\n",
       "      <th>5</th>\n",
       "      <td>0</td>\n",
       "      <td>6</td>\n",
       "      <td>0</td>\n",
       "      <td>0</td>\n",
       "      <td>11</td>\n",
       "      <td>0</td>\n",
       "      <td>11</td>\n",
       "      <td>90</td>\n",
       "      <td>9</td>\n",
       "      <td>380</td>\n",
       "      <td>...</td>\n",
       "      <td>0</td>\n",
       "      <td>0</td>\n",
       "      <td>0</td>\n",
       "      <td>0</td>\n",
       "      <td>0</td>\n",
       "      <td>0</td>\n",
       "      <td>0</td>\n",
       "      <td>0</td>\n",
       "      <td>0</td>\n",
       "      <td>0</td>\n",
       "    </tr>\n",
       "    <tr>\n",
       "      <th>6</th>\n",
       "      <td>0</td>\n",
       "      <td>1</td>\n",
       "      <td>0</td>\n",
       "      <td>0</td>\n",
       "      <td>10</td>\n",
       "      <td>0</td>\n",
       "      <td>7</td>\n",
       "      <td>7</td>\n",
       "      <td>4</td>\n",
       "      <td>326</td>\n",
       "      <td>...</td>\n",
       "      <td>0</td>\n",
       "      <td>0</td>\n",
       "      <td>0</td>\n",
       "      <td>0</td>\n",
       "      <td>0</td>\n",
       "      <td>0</td>\n",
       "      <td>0</td>\n",
       "      <td>0</td>\n",
       "      <td>0</td>\n",
       "      <td>0</td>\n",
       "    </tr>\n",
       "    <tr>\n",
       "      <th>7</th>\n",
       "      <td>0</td>\n",
       "      <td>1</td>\n",
       "      <td>1</td>\n",
       "      <td>0</td>\n",
       "      <td>3</td>\n",
       "      <td>0</td>\n",
       "      <td>7</td>\n",
       "      <td>62</td>\n",
       "      <td>4</td>\n",
       "      <td>189</td>\n",
       "      <td>...</td>\n",
       "      <td>0</td>\n",
       "      <td>0</td>\n",
       "      <td>0</td>\n",
       "      <td>0</td>\n",
       "      <td>0</td>\n",
       "      <td>0</td>\n",
       "      <td>0</td>\n",
       "      <td>0</td>\n",
       "      <td>0</td>\n",
       "      <td>0</td>\n",
       "    </tr>\n",
       "    <tr>\n",
       "      <th>8</th>\n",
       "      <td>0</td>\n",
       "      <td>2</td>\n",
       "      <td>0</td>\n",
       "      <td>0</td>\n",
       "      <td>11</td>\n",
       "      <td>0</td>\n",
       "      <td>6</td>\n",
       "      <td>57</td>\n",
       "      <td>6</td>\n",
       "      <td>219</td>\n",
       "      <td>...</td>\n",
       "      <td>0</td>\n",
       "      <td>0</td>\n",
       "      <td>0</td>\n",
       "      <td>0</td>\n",
       "      <td>0</td>\n",
       "      <td>0</td>\n",
       "      <td>0</td>\n",
       "      <td>0</td>\n",
       "      <td>0</td>\n",
       "      <td>0</td>\n",
       "    </tr>\n",
       "    <tr>\n",
       "      <th>9</th>\n",
       "      <td>0</td>\n",
       "      <td>3</td>\n",
       "      <td>1</td>\n",
       "      <td>0</td>\n",
       "      <td>4</td>\n",
       "      <td>0</td>\n",
       "      <td>3</td>\n",
       "      <td>16</td>\n",
       "      <td>0</td>\n",
       "      <td>88</td>\n",
       "      <td>...</td>\n",
       "      <td>0</td>\n",
       "      <td>0</td>\n",
       "      <td>0</td>\n",
       "      <td>0</td>\n",
       "      <td>0</td>\n",
       "      <td>0</td>\n",
       "      <td>0</td>\n",
       "      <td>0</td>\n",
       "      <td>0</td>\n",
       "      <td>0</td>\n",
       "    </tr>\n",
       "  </tbody>\n",
       "</table>\n",
       "<p>10 rows × 1235738 columns</p>\n",
       "</div>"
      ],
      "text/plain": [
       "   61539  186119  16960  \\\n",
       "0      1       8      2   \n",
       "1      0       0      0   \n",
       "2      0       1      0   \n",
       "3      0       1      1   \n",
       "4      0       0      0   \n",
       "5      0       6      0   \n",
       "6      0       1      0   \n",
       "7      0       1      1   \n",
       "8      0       2      0   \n",
       "9      0       3      1   \n",
       "\n",
       "   (44665, 44668, 44669, 44672, 44674, 44678, 44680, 44681, 44683)  \\\n",
       "0                                                  1                 \n",
       "1                                                  0                 \n",
       "2                                                  0                 \n",
       "3                                                  0                 \n",
       "4                                                  0                 \n",
       "5                                                  0                 \n",
       "6                                                  0                 \n",
       "7                                                  0                 \n",
       "8                                                  0                 \n",
       "9                                                  0                 \n",
       "\n",
       "   (82049, 82050, 82056, 82061, 82063, 82068, 82069, 82070, 82074)  \\\n",
       "0                                                  6                 \n",
       "1                                                  3                 \n",
       "2                                                  5                 \n",
       "3                                                  2                 \n",
       "4                                                  3                 \n",
       "5                                                 11                 \n",
       "6                                                 10                 \n",
       "7                                                  3                 \n",
       "8                                                 11                 \n",
       "9                                                  4                 \n",
       "\n",
       "   (56737, 56738, 56739, 56740, 56743, 56744, 56745, 56746, 56749, 56751, 56752, 56754, 56755, 56757, 56759, 56760)  \\\n",
       "0                                                  1                                                                  \n",
       "1                                                  0                                                                  \n",
       "2                                                  0                                                                  \n",
       "3                                                  0                                                                  \n",
       "4                                                  0                                                                  \n",
       "5                                                  0                                                                  \n",
       "6                                                  0                                                                  \n",
       "7                                                  0                                                                  \n",
       "8                                                  0                                                                  \n",
       "9                                                  0                                                                  \n",
       "\n",
       "   106069  (127881, 127882, 127883, 127884, 127885)  156843  \\\n",
       "0       2                                        16       3   \n",
       "1       9                                        43       1   \n",
       "2       6                                        28       5   \n",
       "3       5                                        36       1   \n",
       "4       5                                        11       1   \n",
       "5      11                                        90       9   \n",
       "6       7                                         7       4   \n",
       "7       7                                        62       4   \n",
       "8       6                                        57       6   \n",
       "9       3                                        16       0   \n",
       "\n",
       "   (191532, 191533, 191534, 191535, 191537, 191538)  \\\n",
       "0                                               228   \n",
       "1                                               229   \n",
       "2                                               256   \n",
       "3                                               322   \n",
       "4                                               336   \n",
       "5                                               380   \n",
       "6                                               326   \n",
       "7                                               189   \n",
       "8                                               219   \n",
       "9                                                88   \n",
       "\n",
       "                             ...                             \\\n",
       "0                            ...                              \n",
       "1                            ...                              \n",
       "2                            ...                              \n",
       "3                            ...                              \n",
       "4                            ...                              \n",
       "5                            ...                              \n",
       "6                            ...                              \n",
       "7                            ...                              \n",
       "8                            ...                              \n",
       "9                            ...                              \n",
       "\n",
       "   (39639, 39640, 44721, 79517)  (165171, 166136)  \\\n",
       "0                             0                 0   \n",
       "1                             0                 0   \n",
       "2                             0                 0   \n",
       "3                             0                 0   \n",
       "4                             0                 0   \n",
       "5                             0                 0   \n",
       "6                             0                 0   \n",
       "7                             0                 0   \n",
       "8                             0                 0   \n",
       "9                             0                 0   \n",
       "\n",
       "   (1501, 4045, 50960, 75802, 75803, 75806, 79178, 110698, 123461, 123832, 128244, 129055, 129284, 131828, 138901, 144453, 149193, 149197, 149765, 149766, 151313, 152018, 156317, 158365, 166801, 170646, 173148, 186464, 187632, 190852)  \\\n",
       "0                                                  0                                                                                                                                                                                         \n",
       "1                                                  0                                                                                                                                                                                         \n",
       "2                                                  0                                                                                                                                                                                         \n",
       "3                                                  0                                                                                                                                                                                         \n",
       "4                                                  0                                                                                                                                                                                         \n",
       "5                                                  0                                                                                                                                                                                         \n",
       "6                                                  0                                                                                                                                                                                         \n",
       "7                                                  0                                                                                                                                                                                         \n",
       "8                                                  0                                                                                                                                                                                         \n",
       "9                                                  0                                                                                                                                                                                         \n",
       "\n",
       "   (9801, 43148, 43149, 43150, 120089, 129795)  (110263, 136032)  29140  \\\n",
       "0                                            0                 0      0   \n",
       "1                                            0                 0      0   \n",
       "2                                            0                 0      0   \n",
       "3                                            0                 0      0   \n",
       "4                                            0                 0      0   \n",
       "5                                            0                 0      0   \n",
       "6                                            0                 0      0   \n",
       "7                                            0                 0      0   \n",
       "8                                            0                 0      0   \n",
       "9                                            0                 0      0   \n",
       "\n",
       "   (105612, 198584)  \\\n",
       "0                 0   \n",
       "1                 0   \n",
       "2                 0   \n",
       "3                 0   \n",
       "4                 0   \n",
       "5                 0   \n",
       "6                 0   \n",
       "7                 0   \n",
       "8                 0   \n",
       "9                 0   \n",
       "\n",
       "   (168761, 168762, 168763, 168764, 168765, 168766, 168767, 168770, 168771, 168776, 168777, 168778, 168779, 168780, 168782, 168783)  \\\n",
       "0                                                  0                                                                                  \n",
       "1                                                  0                                                                                  \n",
       "2                                                  0                                                                                  \n",
       "3                                                  0                                                                                  \n",
       "4                                                  0                                                                                  \n",
       "5                                                  0                                                                                  \n",
       "6                                                  0                                                                                  \n",
       "7                                                  0                                                                                  \n",
       "8                                                  0                                                                                  \n",
       "9                                                  0                                                                                  \n",
       "\n",
       "   (2645, 2646, 2647, 12488, 154130, 181508, 190921, 190922, 193000)  \\\n",
       "0                                                  0                   \n",
       "1                                                  0                   \n",
       "2                                                  0                   \n",
       "3                                                  0                   \n",
       "4                                                  0                   \n",
       "5                                                  0                   \n",
       "6                                                  0                   \n",
       "7                                                  0                   \n",
       "8                                                  0                   \n",
       "9                                                  0                   \n",
       "\n",
       "   (29950, 29951, 29953, 29954, 29955, 29956, 29957, 29958)  \n",
       "0                                                  0         \n",
       "1                                                  0         \n",
       "2                                                  0         \n",
       "3                                                  0         \n",
       "4                                                  0         \n",
       "5                                                  0         \n",
       "6                                                  0         \n",
       "7                                                  0         \n",
       "8                                                  0         \n",
       "9                                                  0         \n",
       "\n",
       "[10 rows x 1235738 columns]"
      ]
     },
     "execution_count": 7,
     "metadata": {},
     "output_type": "execute_result"
    }
   ],
   "source": [
    "df.head(10)"
   ]
  },
  {
   "cell_type": "code",
   "execution_count": 146,
   "metadata": {
    "collapsed": true
   },
   "outputs": [],
   "source": [
    "df.to_csv(\"eq.csv\",index=False)"
   ]
  },
  {
   "cell_type": "code",
   "execution_count": 8,
   "metadata": {
    "collapsed": true
   },
   "outputs": [],
   "source": [
    "colList = df.columns"
   ]
  },
  {
   "cell_type": "code",
   "execution_count": 9,
   "metadata": {},
   "outputs": [
    {
     "data": {
      "text/plain": [
       "(369, 1235738)"
      ]
     },
     "execution_count": 9,
     "metadata": {},
     "output_type": "execute_result"
    }
   ],
   "source": [
    "df.shape"
   ]
  },
  {
   "cell_type": "code",
   "execution_count": 10,
   "metadata": {
    "collapsed": true
   },
   "outputs": [],
   "source": [
    "readList = list()\n",
    "for i in range(df.shape[1]):\n",
    "    num = (df[colList[i]] != 0).sum()\n",
    "    tup = tuple([num,i])\n",
    "    readList.append(tup)"
   ]
  },
  {
   "cell_type": "code",
   "execution_count": 11,
   "metadata": {
    "collapsed": true
   },
   "outputs": [],
   "source": [
    "sortedList = list()\n",
    "revSortedList = list()"
   ]
  },
  {
   "cell_type": "code",
   "execution_count": 12,
   "metadata": {
    "collapsed": true
   },
   "outputs": [],
   "source": [
    "sortedList = sorted(readList, key=lambda x:x[0])"
   ]
  },
  {
   "cell_type": "code",
   "execution_count": 13,
   "metadata": {
    "collapsed": true
   },
   "outputs": [],
   "source": [
    "revSortedList = sorted(readList, key=lambda x:x[0], reverse=True)"
   ]
  },
  {
   "cell_type": "code",
   "execution_count": 14,
   "metadata": {},
   "outputs": [
    {
     "data": {
      "text/plain": [
       "(1, 12874)"
      ]
     },
     "execution_count": 14,
     "metadata": {},
     "output_type": "execute_result"
    }
   ],
   "source": [
    "sortedList[10]"
   ]
  },
  {
   "cell_type": "markdown",
   "metadata": {},
   "source": [
    "### Here we have sorted the the class according to whether the class is present in how many of the individuals"
   ]
  },
  {
   "cell_type": "code",
   "execution_count": 15,
   "metadata": {
    "collapsed": true
   },
   "outputs": [],
   "source": [
    "sortedNp = np.array(sortedList)"
   ]
  },
  {
   "cell_type": "code",
   "execution_count": 16,
   "metadata": {
    "collapsed": true
   },
   "outputs": [],
   "source": [
    "reverseSortedNp = np.array(revSortedList)"
   ]
  },
  {
   "cell_type": "code",
   "execution_count": 17,
   "metadata": {},
   "outputs": [
    {
     "data": {
      "text/plain": [
       "308982.72644767741"
      ]
     },
     "execution_count": 17,
     "metadata": {},
     "output_type": "execute_result"
    }
   ],
   "source": [
    "sortedNp.mean()"
   ]
  },
  {
   "cell_type": "code",
   "execution_count": 18,
   "metadata": {
    "collapsed": true
   },
   "outputs": [],
   "source": [
    "sortedDF = pd.DataFrame(sortedNp)"
   ]
  },
  {
   "cell_type": "code",
   "execution_count": 19,
   "metadata": {},
   "outputs": [
    {
     "data": {
      "text/html": [
       "<div>\n",
       "<style>\n",
       "    .dataframe thead tr:only-child th {\n",
       "        text-align: right;\n",
       "    }\n",
       "\n",
       "    .dataframe thead th {\n",
       "        text-align: left;\n",
       "    }\n",
       "\n",
       "    .dataframe tbody tr th {\n",
       "        vertical-align: top;\n",
       "    }\n",
       "</style>\n",
       "<table border=\"1\" class=\"dataframe\">\n",
       "  <thead>\n",
       "    <tr style=\"text-align: right;\">\n",
       "      <th></th>\n",
       "      <th>0</th>\n",
       "      <th>1</th>\n",
       "    </tr>\n",
       "  </thead>\n",
       "  <tbody>\n",
       "    <tr>\n",
       "      <th>0</th>\n",
       "      <td>1</td>\n",
       "      <td>2708</td>\n",
       "    </tr>\n",
       "    <tr>\n",
       "      <th>1</th>\n",
       "      <td>1</td>\n",
       "      <td>3122</td>\n",
       "    </tr>\n",
       "  </tbody>\n",
       "</table>\n",
       "</div>"
      ],
      "text/plain": [
       "   0     1\n",
       "0  1  2708\n",
       "1  1  3122"
      ]
     },
     "execution_count": 19,
     "metadata": {},
     "output_type": "execute_result"
    }
   ],
   "source": [
    "sortedDF.head(2)"
   ]
  },
  {
   "cell_type": "markdown",
   "metadata": {},
   "source": [
    "### Below result shows that there are some common Equivalence classes that are present in all 369 individuals and some are uniquely mapped to 1 person"
   ]
  },
  {
   "cell_type": "code",
   "execution_count": 20,
   "metadata": {},
   "outputs": [
    {
     "data": {
      "text/plain": [
       "count    1.235738e+06\n",
       "mean     6.178685e+05\n",
       "std      3.567270e+05\n",
       "min      0.000000e+00\n",
       "25%      3.089342e+05\n",
       "50%      6.178685e+05\n",
       "75%      9.268028e+05\n",
       "max      1.235737e+06\n",
       "Name: 1, dtype: float64"
      ]
     },
     "execution_count": 20,
     "metadata": {},
     "output_type": "execute_result"
    }
   ],
   "source": [
    "sortedDF[1].describe()"
   ]
  },
  {
   "cell_type": "code",
   "execution_count": 22,
   "metadata": {
    "collapsed": true
   },
   "outputs": [],
   "source": [
    "tempDF = sortedDF.copy()"
   ]
  },
  {
   "cell_type": "code",
   "execution_count": 24,
   "metadata": {
    "collapsed": true
   },
   "outputs": [],
   "source": [
    "tempDF = SVD(tempDF)"
   ]
  },
  {
   "cell_type": "code",
   "execution_count": 23,
   "metadata": {
    "collapsed": true
   },
   "outputs": [],
   "source": [
    "def SVD(tempDF):\n",
    "    featureMatrix=np.array(tempDF)    \n",
    "\n",
    "    U, s, Vh = linalg.svd( featureMatrix, full_matrices=1, compute_uv=1 )\n",
    "    low_dim_p = 10000\n",
    "    return U[:,0:low_dim_p]"
   ]
  },
  {
   "cell_type": "code",
   "execution_count": 412,
   "metadata": {
    "collapsed": true
   },
   "outputs": [],
   "source": [
    "sortedDF = tempDF[tempDF[0] >= 350]\n",
    "sortedDF = sortedDF[sortedDF[0] <= 369]"
   ]
  },
  {
   "cell_type": "code",
   "execution_count": 413,
   "metadata": {},
   "outputs": [
    {
     "data": {
      "text/plain": [
       "(160343, 2)"
      ]
     },
     "execution_count": 413,
     "metadata": {},
     "output_type": "execute_result"
    }
   ],
   "source": [
    "sortedDF.shape"
   ]
  },
  {
   "cell_type": "code",
   "execution_count": 414,
   "metadata": {
    "collapsed": true
   },
   "outputs": [],
   "source": [
    "uniqueDF = sortedDF"
   ]
  },
  {
   "cell_type": "code",
   "execution_count": 415,
   "metadata": {
    "scrolled": true
   },
   "outputs": [
    {
     "data": {
      "text/html": [
       "<div>\n",
       "<style>\n",
       "    .dataframe thead tr:only-child th {\n",
       "        text-align: right;\n",
       "    }\n",
       "\n",
       "    .dataframe thead th {\n",
       "        text-align: left;\n",
       "    }\n",
       "\n",
       "    .dataframe tbody tr th {\n",
       "        vertical-align: top;\n",
       "    }\n",
       "</style>\n",
       "<table border=\"1\" class=\"dataframe\">\n",
       "  <thead>\n",
       "    <tr style=\"text-align: right;\">\n",
       "      <th></th>\n",
       "      <th>0</th>\n",
       "      <th>1</th>\n",
       "    </tr>\n",
       "  </thead>\n",
       "  <tbody>\n",
       "    <tr>\n",
       "      <th>1075395</th>\n",
       "      <td>350</td>\n",
       "      <td>418</td>\n",
       "    </tr>\n",
       "    <tr>\n",
       "      <th>1075396</th>\n",
       "      <td>350</td>\n",
       "      <td>826</td>\n",
       "    </tr>\n",
       "  </tbody>\n",
       "</table>\n",
       "</div>"
      ],
      "text/plain": [
       "           0    1\n",
       "1075395  350  418\n",
       "1075396  350  826"
      ]
     },
     "execution_count": 415,
     "metadata": {},
     "output_type": "execute_result"
    }
   ],
   "source": [
    "uniqueDF.head(2)"
   ]
  },
  {
   "cell_type": "code",
   "execution_count": 416,
   "metadata": {},
   "outputs": [
    {
     "data": {
      "text/plain": [
       "(160343, 2)"
      ]
     },
     "execution_count": 416,
     "metadata": {},
     "output_type": "execute_result"
    }
   ],
   "source": [
    "uniqueDF.shape"
   ]
  },
  {
   "cell_type": "code",
   "execution_count": 417,
   "metadata": {
    "collapsed": true
   },
   "outputs": [],
   "source": [
    "colIndex = uniqueDF[1].tolist()"
   ]
  },
  {
   "cell_type": "code",
   "execution_count": 418,
   "metadata": {},
   "outputs": [
    {
     "data": {
      "text/plain": [
       "418"
      ]
     },
     "execution_count": 418,
     "metadata": {},
     "output_type": "execute_result"
    }
   ],
   "source": [
    "colIndex[0]"
   ]
  },
  {
   "cell_type": "code",
   "execution_count": 419,
   "metadata": {
    "collapsed": true
   },
   "outputs": [],
   "source": [
    "colNames = list()"
   ]
  },
  {
   "cell_type": "code",
   "execution_count": 420,
   "metadata": {
    "collapsed": true
   },
   "outputs": [],
   "source": [
    "for i in range(len(colIndex)):\n",
    "    colNames.append(colList[colIndex[i]])"
   ]
  },
  {
   "cell_type": "code",
   "execution_count": 421,
   "metadata": {
    "collapsed": true
   },
   "outputs": [],
   "source": [
    "dfTest1 = df.filter(colNames)"
   ]
  },
  {
   "cell_type": "code",
   "execution_count": 422,
   "metadata": {},
   "outputs": [
    {
     "data": {
      "text/plain": [
       "(369, 160343)"
      ]
     },
     "execution_count": 422,
     "metadata": {},
     "output_type": "execute_result"
    }
   ],
   "source": [
    "dfTest1 = dfTest1.head(369)\n",
    "dfTest1.shape"
   ]
  },
  {
   "cell_type": "markdown",
   "metadata": {},
   "source": [
    "### Here we have made a visual representation showing number of equivalence classes present on y-axis and the number of persons having those number of equivalence classes common to them."
   ]
  },
  {
   "cell_type": "markdown",
   "metadata": {},
   "source": [
    "#### So this shows more than .2 million equivalence classes are uniquely mapped to single persons while around 90K are common in all persons"
   ]
  },
  {
   "cell_type": "code",
   "execution_count": 246,
   "metadata": {},
   "outputs": [
    {
     "data": {
      "text/plain": [
       "<matplotlib.axes._subplots.AxesSubplot at 0x3bf0a9400>"
      ]
     },
     "execution_count": 246,
     "metadata": {},
     "output_type": "execute_result"
    },
    {
     "data": {
      "image/png": "[encoded data removed]",
      "text/plain": [
       "<matplotlib.figure.Figure at 0x3bec727b8>"
      ]
     },
     "metadata": {},
     "output_type": "display_data"
    }
   ],
   "source": [
    "sortedDF[0].hist(figsize=(10,10),bins=500)"
   ]
  },
  {
   "cell_type": "markdown",
   "metadata": {},
   "source": [
    "## Population Label Model"
   ]
  },
  {
   "cell_type": "code",
   "execution_count": 423,
   "metadata": {
    "collapsed": true
   },
   "outputs": [],
   "source": [
    "traincsv = pd.read_csv(\"/Users/jatingarg/Desktop/CompBioData/project1/p1_train_pop_lab.csv\",low_memory=False)\n",
    "accessionList = traincsv['accession'].values\n",
    "countryList = traincsv['population'].values"
   ]
  },
  {
   "cell_type": "code",
   "execution_count": 424,
   "metadata": {},
   "outputs": [
    {
     "data": {
      "text/plain": [
       "Index(['accession', 'population', 'sequencing_center'], dtype='object')"
      ]
     },
     "execution_count": 424,
     "metadata": {},
     "output_type": "execute_result"
    }
   ],
   "source": [
    "traincsv.columns"
   ]
  },
  {
   "cell_type": "code",
   "execution_count": 425,
   "metadata": {},
   "outputs": [
    {
     "data": {
      "text/plain": [
       "369"
      ]
     },
     "execution_count": 425,
     "metadata": {},
     "output_type": "execute_result"
    }
   ],
   "source": [
    "len(countryList)"
   ]
  },
  {
   "cell_type": "code",
   "execution_count": 426,
   "metadata": {},
   "outputs": [
    {
     "data": {
      "text/plain": [
       "'GBR'"
      ]
     },
     "execution_count": 426,
     "metadata": {},
     "output_type": "execute_result"
    }
   ],
   "source": [
    "countryList[200]"
   ]
  },
  {
   "cell_type": "code",
   "execution_count": 427,
   "metadata": {
    "collapsed": true
   },
   "outputs": [],
   "source": [
    "dfTest1[\"Country\"] = countryList"
   ]
  },
  {
   "cell_type": "markdown",
   "metadata": {},
   "source": [
    "### So here we choose only those equivalence classes that are common in most of the persons to train our model that is Random Forest and we applied 5 fold Cross Validation"
   ]
  },
  {
   "cell_type": "code",
   "execution_count": 38,
   "metadata": {
    "collapsed": true
   },
   "outputs": [],
   "source": [
    "from sklearn.ensemble import RandomForestClassifier"
   ]
  },
  {
   "cell_type": "code",
   "execution_count": 428,
   "metadata": {},
   "outputs": [
    {
     "name": "stderr",
     "output_type": "stream",
     "text": [
      "/Users/jatingarg/anaconda/lib/python3.6/site-packages/ipykernel_launcher.py:15: DataConversionWarning: A column-vector y was passed when a 1d array was expected. Please change the shape of y to (n_samples,), for example using ravel().\n",
      "  from ipykernel import kernelapp as app\n"
     ]
    },
    {
     "name": "stdout",
     "output_type": "stream",
     "text": [
      "0.8552631578947368\n"
     ]
    },
    {
     "name": "stderr",
     "output_type": "stream",
     "text": [
      "/Users/jatingarg/anaconda/lib/python3.6/site-packages/ipykernel_launcher.py:15: DataConversionWarning: A column-vector y was passed when a 1d array was expected. Please change the shape of y to (n_samples,), for example using ravel().\n",
      "  from ipykernel import kernelapp as app\n"
     ]
    },
    {
     "name": "stdout",
     "output_type": "stream",
     "text": [
      "1.7146381578947367\n"
     ]
    },
    {
     "name": "stderr",
     "output_type": "stream",
     "text": [
      "/Users/jatingarg/anaconda/lib/python3.6/site-packages/ipykernel_launcher.py:15: DataConversionWarning: A column-vector y was passed when a 1d array was expected. Please change the shape of y to (n_samples,), for example using ravel().\n",
      "  from ipykernel import kernelapp as app\n"
     ]
    },
    {
     "name": "stdout",
     "output_type": "stream",
     "text": [
      "2.6529097628330085\n"
     ]
    },
    {
     "name": "stderr",
     "output_type": "stream",
     "text": [
      "/Users/jatingarg/anaconda/lib/python3.6/site-packages/ipykernel_launcher.py:15: DataConversionWarning: A column-vector y was passed when a 1d array was expected. Please change the shape of y to (n_samples,), for example using ravel().\n",
      "  from ipykernel import kernelapp as app\n"
     ]
    },
    {
     "name": "stdout",
     "output_type": "stream",
     "text": [
      "3.537525147448393\n"
     ]
    },
    {
     "name": "stderr",
     "output_type": "stream",
     "text": [
      "/Users/jatingarg/anaconda/lib/python3.6/site-packages/ipykernel_launcher.py:15: DataConversionWarning: A column-vector y was passed when a 1d array was expected. Please change the shape of y to (n_samples,), for example using ravel().\n",
      "  from ipykernel import kernelapp as app\n"
     ]
    },
    {
     "name": "stdout",
     "output_type": "stream",
     "text": [
      "4.381680991604237\n",
      "F1-Score For Population label is :  0.876336198321\n",
      "Average Accuracy of model is 0.8763361983208474\n"
     ]
    }
   ],
   "source": [
    "cross_val = 5\n",
    "averageAccuracyScore = 0\n",
    "f1pop = 0\n",
    "rf_modelPop = RandomForestClassifier(n_estimators=100, # Number of trees\n",
    "                                    max_features=dfTest1.shape[1]-10,    # Num features considered\n",
    "                                    oob_score=False)    # Use OOB scoring*\n",
    "for i in range(cross_val):\n",
    "    msk = np.random.rand(len(dfTest1)) < 0.80\n",
    "\n",
    "    train = dfTest1[msk]\n",
    "    \n",
    "    test = dfTest1[~msk]\n",
    "    \n",
    "    # Train the model\n",
    "    rf_modelPop.fit(train.filter(dfTest1.columns[:-1]), train.filter(dfTest1.columns[-1:]))\n",
    "\n",
    "    predictedDF = rf_modelPop.predict(test.filter(dfTest1.columns[:-1]))\n",
    "    ansList = test['Country'].tolist()\n",
    "    averageAccuracyScore += printAccuracy(ansList,predictedDF)\n",
    "    f1pop += fScore(ansList,predictedDF)\n",
    "    print(averageAccuracyScore)\n",
    "print(\"F1-Score For Population label is : \",f1pop/float(cross_val))\n",
    "print(\"Average Accuracy of model is \" + str(averageAccuracyScore/cross_val))"
   ]
  },
  {
   "cell_type": "markdown",
   "metadata": {},
   "source": [
    "### The results shows the average accuracy for the test data set i.e around 84.5 %"
   ]
  },
  {
   "cell_type": "code",
   "execution_count": 377,
   "metadata": {},
   "outputs": [
    {
     "data": {
      "text/plain": [
       "array(['CEU', 'FIN', 'FIN', 'GBR', 'YRI', 'FIN', 'TSI', 'GBR', 'GBR',\n",
       "       'GBR', 'CEU', 'YRI', 'GBR', 'CEU', 'YRI', 'TSI', 'GBR', 'GBR',\n",
       "       'TSI', 'CEU', 'GBR', 'FIN', 'GBR', 'FIN', 'CEU', 'TSI', 'CEU',\n",
       "       'GBR', 'TSI', 'FIN', 'TSI', 'GBR', 'YRI', 'TSI', 'GBR', 'GBR',\n",
       "       'GBR', 'GBR', 'TSI', 'TSI', 'TSI', 'FIN', 'CEU', 'CEU', 'CEU',\n",
       "       'TSI', 'FIN', 'TSI', 'FIN', 'CEU', 'CEU', 'TSI', 'TSI', 'FIN',\n",
       "       'YRI', 'GBR', 'CEU', 'FIN', 'GBR', 'FIN', 'FIN', 'FIN', 'CEU',\n",
       "       'CEU', 'CEU', 'YRI', 'FIN', 'GBR', 'CEU', 'GBR', 'YRI', 'FIN',\n",
       "       'YRI', 'YRI', 'GBR', 'TSI', 'TSI', 'CEU', 'CEU'], dtype=object)"
      ]
     },
     "execution_count": 377,
     "metadata": {},
     "output_type": "execute_result"
    }
   ],
   "source": [
    "predictedDF"
   ]
  },
  {
   "cell_type": "code",
   "execution_count": 56,
   "metadata": {
    "collapsed": true
   },
   "outputs": [],
   "source": [
    "from sklearn.metrics import confusion_matrix\n",
    "import sklearn.metrics"
   ]
  },
  {
   "cell_type": "markdown",
   "metadata": {},
   "source": [
    "### This shows the confusion matrix for the classes i.e number of classes(countries) predicted correctly/incorrectly\n",
    "####                    [[ 7,  1,  0,  0,  2],\n",
    "####                    [ 0, 12,  1,  4,  1],\n",
    "####                    [ 0,  0,  9,  0,  0],\n",
    "####                    [ 7,  0,  0,  9,  0],\n",
    "####                    [ 0,  0,  0,  0, 12]])\n",
    "#### Here we can see this model is not performing well specifically for the \"TSI\""
   ]
  },
  {
   "cell_type": "code",
   "execution_count": 379,
   "metadata": {},
   "outputs": [
    {
     "data": {
      "text/plain": [
       "array([[13,  2,  0,  3,  0],\n",
       "       [ 1,  9,  2,  2,  1],\n",
       "       [ 0,  0, 15,  1,  0],\n",
       "       [ 5,  4,  0, 10,  1],\n",
       "       [ 1,  1,  1,  0,  7]])"
      ]
     },
     "execution_count": 379,
     "metadata": {},
     "output_type": "execute_result"
    }
   ],
   "source": [
    "confusion_matrix(ansList,predictedDF,labels=['GBR','FIN','CEU','TSI','YRI'])"
   ]
  },
  {
   "cell_type": "code",
   "execution_count": 403,
   "metadata": {
    "collapsed": true
   },
   "outputs": [],
   "source": [
    "def printAccuracy(ansList,predictedDF):\n",
    "    count = 0\n",
    "    for i in range(len(ansList)):\n",
    "        if ansList[i] == predictedDF[i]:\n",
    "            count += 1\n",
    "    return (count/len(ansList))"
   ]
  },
  {
   "cell_type": "markdown",
   "metadata": {},
   "source": [
    "## Sequencing Center Model"
   ]
  },
  {
   "cell_type": "code",
   "execution_count": 405,
   "metadata": {},
   "outputs": [],
   "source": [
    "traincsv = pd.read_csv(\"/Users/jatingarg/Desktop/CompBioData/project1/p1_train_pop_lab.csv\",low_memory=False)\n",
    "accessionList = traincsv['accession'].values\n",
    "sequencingCenterList = traincsv['sequencing_center'].values"
   ]
  },
  {
   "cell_type": "code",
   "execution_count": 406,
   "metadata": {},
   "outputs": [
    {
     "data": {
      "text/plain": [
       "Index(['accession', 'population', 'sequencing_center'], dtype='object')"
      ]
     },
     "execution_count": 406,
     "metadata": {},
     "output_type": "execute_result"
    }
   ],
   "source": [
    "traincsv.columns"
   ]
  },
  {
   "cell_type": "code",
   "execution_count": 407,
   "metadata": {},
   "outputs": [],
   "source": [
    "dfTest1[\"SequencingCenter\"] = sequencingCenterList"
   ]
  },
  {
   "cell_type": "code",
   "execution_count": 408,
   "metadata": {
    "collapsed": true
   },
   "outputs": [],
   "source": [
    "def fScore(y_true,y_pred):\n",
    "    return sklearn.metrics.f1_score(y_true, y_pred,average='micro')"
   ]
  },
  {
   "cell_type": "code",
   "execution_count": 411,
   "metadata": {},
   "outputs": [
    {
     "name": "stderr",
     "output_type": "stream",
     "text": [
      "/Users/jatingarg/anaconda/lib/python3.6/site-packages/ipykernel_launcher.py:15: DataConversionWarning: A column-vector y was passed when a 1d array was expected. Please change the shape of y to (n_samples,), for example using ravel().\n",
      "  from ipykernel import kernelapp as app\n"
     ]
    },
    {
     "name": "stdout",
     "output_type": "stream",
     "text": [
      "0.9210526315789473\n"
     ]
    },
    {
     "name": "stderr",
     "output_type": "stream",
     "text": [
      "/Users/jatingarg/anaconda/lib/python3.6/site-packages/ipykernel_launcher.py:15: DataConversionWarning: A column-vector y was passed when a 1d array was expected. Please change the shape of y to (n_samples,), for example using ravel().\n",
      "  from ipykernel import kernelapp as app\n"
     ]
    },
    {
     "name": "stdout",
     "output_type": "stream",
     "text": [
      "1.8506300963676798\n"
     ]
    },
    {
     "name": "stderr",
     "output_type": "stream",
     "text": [
      "/Users/jatingarg/anaconda/lib/python3.6/site-packages/ipykernel_launcher.py:15: DataConversionWarning: A column-vector y was passed when a 1d array was expected. Please change the shape of y to (n_samples,), for example using ravel().\n",
      "  from ipykernel import kernelapp as app\n"
     ]
    },
    {
     "name": "stdout",
     "output_type": "stream",
     "text": [
      "2.788901701305951\n"
     ]
    },
    {
     "name": "stderr",
     "output_type": "stream",
     "text": [
      "/Users/jatingarg/anaconda/lib/python3.6/site-packages/ipykernel_launcher.py:15: DataConversionWarning: A column-vector y was passed when a 1d array was expected. Please change the shape of y to (n_samples,), for example using ravel().\n",
      "  from ipykernel import kernelapp as app\n"
     ]
    },
    {
     "name": "stdout",
     "output_type": "stream",
     "text": [
      "3.710776701305951\n"
     ]
    },
    {
     "name": "stderr",
     "output_type": "stream",
     "text": [
      "/Users/jatingarg/anaconda/lib/python3.6/site-packages/ipykernel_launcher.py:15: DataConversionWarning: A column-vector y was passed when a 1d array was expected. Please change the shape of y to (n_samples,), for example using ravel().\n",
      "  from ipykernel import kernelapp as app\n"
     ]
    },
    {
     "name": "stdout",
     "output_type": "stream",
     "text": [
      "4.64923823976749\n",
      "F1-Score For Sequencing Center:  0.929847647953\n",
      "Average Accuracy of model is 0.929847647953498\n"
     ]
    }
   ],
   "source": [
    "cross_val = 5\n",
    "averageAccuracyScore = 0\n",
    "f1Seq = 0\n",
    "rf_modelSeq = RandomForestClassifier(n_estimators=100, # Number of trees\n",
    "                                    max_features=dfTest1.shape[1]-10,    # Num features considered\n",
    "                                    oob_score=False)    # Use OOB scoring*\n",
    "for i in range(cross_val):\n",
    "    msk = np.random.rand(len(dfTest1)) < 0.80\n",
    "\n",
    "    train = dfTest1[msk]\n",
    "    \n",
    "    test = dfTest1[~msk]\n",
    "    \n",
    "    # Train the model\n",
    "    rf_modelSeq.fit(train.filter(dfTest1.columns[:-1]), train.filter(dfTest1.columns[-1:]))\n",
    "\n",
    "    predictedDF = rf_modelSeq.predict(test.filter(dfTest1.columns[:-1]))\n",
    "    ansList = test['SequencingCenter'].tolist()\n",
    "    averageAccuracyScore += printAccuracy(ansList,predictedDF)\n",
    "    f1Seq += fScore(ansList,predictedDF)\n",
    "    print(averageAccuracyScore)\n",
    "print(\"F1-Score For Sequencing Center: \",f1Seq/float(cross_val))\n",
    "print(\"Average Accuracy of model is \" + str(averageAccuracyScore/cross_val))"
   ]
  },
  {
   "cell_type": "markdown",
   "metadata": {},
   "source": [
    "## Multi Target Model"
   ]
  },
  {
   "cell_type": "code",
   "execution_count": 382,
   "metadata": {
    "collapsed": true
   },
   "outputs": [],
   "source": [
    "traincsv = pd.read_csv(\"/Users/jatingarg/Desktop/CompBioData/project1/p1_train_pop_lab.csv\",low_memory=False)\n",
    "accessionList = traincsv['accession'].values\n",
    "sequencingCenterList = np.array(traincsv['sequencing_center'].values)\n",
    "sequencingCenterList = sequencingCenterList.astype(str)\n",
    "countryList = traincsv['population'].values"
   ]
  },
  {
   "cell_type": "code",
   "execution_count": 383,
   "metadata": {
    "collapsed": true
   },
   "outputs": [],
   "source": [
    "dfTest1[\"SequencingCenter\"] = sequencingCenterList"
   ]
  },
  {
   "cell_type": "code",
   "execution_count": 384,
   "metadata": {
    "collapsed": true
   },
   "outputs": [],
   "source": [
    "dfTest1[\"Population\"] = countryList"
   ]
  },
  {
   "cell_type": "code",
   "execution_count": 385,
   "metadata": {},
   "outputs": [
    {
     "data": {
      "text/html": [
       "<div>\n",
       "<style>\n",
       "    .dataframe thead tr:only-child th {\n",
       "        text-align: right;\n",
       "    }\n",
       "\n",
       "    .dataframe thead th {\n",
       "        text-align: left;\n",
       "    }\n",
       "\n",
       "    .dataframe tbody tr th {\n",
       "        vertical-align: top;\n",
       "    }\n",
       "</style>\n",
       "<table border=\"1\" class=\"dataframe\">\n",
       "  <thead>\n",
       "    <tr style=\"text-align: right;\">\n",
       "      <th></th>\n",
       "      <th>(108499, 108500, 108503, 108505, 108506, 108508, 108509, 108510, 108511, 108515, 108516)</th>\n",
       "      <th>(33496, 33499, 33503, 33504, 33505)</th>\n",
       "      <th>164514</th>\n",
       "      <th>(181357, 181358)</th>\n",
       "      <th>(62067, 191737, 191738, 191748, 191751, 191754, 191755)</th>\n",
       "      <th>(54562, 54563, 54564, 54565, 54566, 54568, 54569, 54570, 54571)</th>\n",
       "      <th>(84115, 84117, 84118, 84119, 84122)</th>\n",
       "      <th>(112842, 112843)</th>\n",
       "      <th>92040</th>\n",
       "      <th>(35305, 35306)</th>\n",
       "      <th>...</th>\n",
       "      <th>(141520, 141521, 141533, 141541, 141542, 141544, 141545)</th>\n",
       "      <th>(86016, 86017, 86020, 86021, 86027, 86028)</th>\n",
       "      <th>(68163, 68164, 68165, 68167, 68168, 68169, 68170, 68173, 68174, 68177, 68182, 68183, 147290)</th>\n",
       "      <th>(33495, 33496, 33497, 33498, 33499, 33500, 33501, 33502, 33503, 33504, 33505, 33506, 33507, 33508)</th>\n",
       "      <th>(50869, 50870, 50873, 50874)</th>\n",
       "      <th>(114888, 114894, 114896, 114897, 114898, 114901, 114902, 114906)</th>\n",
       "      <th>(42713, 42715, 42718, 42719, 42721)</th>\n",
       "      <th>146444</th>\n",
       "      <th>SequencingCenter</th>\n",
       "      <th>Population</th>\n",
       "    </tr>\n",
       "  </thead>\n",
       "  <tbody>\n",
       "    <tr>\n",
       "      <th>0</th>\n",
       "      <td>1</td>\n",
       "      <td>3</td>\n",
       "      <td>1</td>\n",
       "      <td>4</td>\n",
       "      <td>3</td>\n",
       "      <td>2</td>\n",
       "      <td>1</td>\n",
       "      <td>1</td>\n",
       "      <td>4</td>\n",
       "      <td>2</td>\n",
       "      <td>...</td>\n",
       "      <td>3</td>\n",
       "      <td>19</td>\n",
       "      <td>9</td>\n",
       "      <td>5</td>\n",
       "      <td>52</td>\n",
       "      <td>482</td>\n",
       "      <td>3</td>\n",
       "      <td>2</td>\n",
       "      <td>3</td>\n",
       "      <td>CEU</td>\n",
       "    </tr>\n",
       "    <tr>\n",
       "      <th>1</th>\n",
       "      <td>0</td>\n",
       "      <td>2</td>\n",
       "      <td>7</td>\n",
       "      <td>0</td>\n",
       "      <td>5</td>\n",
       "      <td>8</td>\n",
       "      <td>8</td>\n",
       "      <td>7</td>\n",
       "      <td>7</td>\n",
       "      <td>4</td>\n",
       "      <td>...</td>\n",
       "      <td>13</td>\n",
       "      <td>35</td>\n",
       "      <td>36</td>\n",
       "      <td>14</td>\n",
       "      <td>90</td>\n",
       "      <td>411</td>\n",
       "      <td>2</td>\n",
       "      <td>23</td>\n",
       "      <td>4</td>\n",
       "      <td>FIN</td>\n",
       "    </tr>\n",
       "  </tbody>\n",
       "</table>\n",
       "<p>2 rows × 160345 columns</p>\n",
       "</div>"
      ],
      "text/plain": [
       "   (108499, 108500, 108503, 108505, 108506, 108508, 108509, 108510, 108511, 108515, 108516)  \\\n",
       "0                                                  1                                          \n",
       "1                                                  0                                          \n",
       "\n",
       "   (33496, 33499, 33503, 33504, 33505)  164514  (181357, 181358)  \\\n",
       "0                                    3       1                 4   \n",
       "1                                    2       7                 0   \n",
       "\n",
       "   (62067, 191737, 191738, 191748, 191751, 191754, 191755)  \\\n",
       "0                                                  3         \n",
       "1                                                  5         \n",
       "\n",
       "   (54562, 54563, 54564, 54565, 54566, 54568, 54569, 54570, 54571)  \\\n",
       "0                                                  2                 \n",
       "1                                                  8                 \n",
       "\n",
       "   (84115, 84117, 84118, 84119, 84122)  (112842, 112843)  92040  \\\n",
       "0                                    1                 1      4   \n",
       "1                                    8                 7      7   \n",
       "\n",
       "   (35305, 35306)     ...      \\\n",
       "0               2     ...       \n",
       "1               4     ...       \n",
       "\n",
       "   (141520, 141521, 141533, 141541, 141542, 141544, 141545)  \\\n",
       "0                                                  3          \n",
       "1                                                 13          \n",
       "\n",
       "   (86016, 86017, 86020, 86021, 86027, 86028)  \\\n",
       "0                                          19   \n",
       "1                                          35   \n",
       "\n",
       "   (68163, 68164, 68165, 68167, 68168, 68169, 68170, 68173, 68174, 68177, 68182, 68183, 147290)  \\\n",
       "0                                                  9                                              \n",
       "1                                                 36                                              \n",
       "\n",
       "   (33495, 33496, 33497, 33498, 33499, 33500, 33501, 33502, 33503, 33504, 33505, 33506, 33507, 33508)  \\\n",
       "0                                                  5                                                    \n",
       "1                                                 14                                                    \n",
       "\n",
       "   (50869, 50870, 50873, 50874)  \\\n",
       "0                            52   \n",
       "1                            90   \n",
       "\n",
       "   (114888, 114894, 114896, 114897, 114898, 114901, 114902, 114906)  \\\n",
       "0                                                482                  \n",
       "1                                                411                  \n",
       "\n",
       "   (42713, 42715, 42718, 42719, 42721)  146444  SequencingCenter  Population  \n",
       "0                                    3       2                 3         CEU  \n",
       "1                                    2      23                 4         FIN  \n",
       "\n",
       "[2 rows x 160345 columns]"
      ]
     },
     "execution_count": 385,
     "metadata": {},
     "output_type": "execute_result"
    }
   ],
   "source": [
    "dfTest1.head(2)"
   ]
  },
  {
   "cell_type": "code",
   "execution_count": 386,
   "metadata": {},
   "outputs": [],
   "source": [
    "from sklearn.multioutput import MultiOutputClassifier\n",
    "from sklearn.linear_model import LogisticRegression"
   ]
  },
  {
   "cell_type": "code",
   "execution_count": 391,
   "metadata": {},
   "outputs": [
    {
     "name": "stdout",
     "output_type": "stream",
     "text": [
      "0.8571428571428571\n",
      "1.7049689440993787\n",
      "2.4255571793934965\n",
      "3.2450016238379407\n",
      "4.030715909552226\n",
      "F1-Score For Population:  0.843919132871\n",
      "F1-Score For Sequencing Center:  0.952077553024\n",
      "Average Accuracy of model is 0.8061431819104452\n"
     ]
    }
   ],
   "source": [
    "cross_val = 5\n",
    "averageAccuracyScore = 0\n",
    "f1Pop,f1Seq = 0,0\n",
    "rf_model_M = RandomForestClassifier(n_estimators=100, # Number of trees\n",
    "                                  max_features=dfTest1.shape[1]-10,\n",
    "                                    oob_score=False)    # Use OOB scoring*\n",
    "# rf_model = LogisticRegression(penalty='l2')\n",
    "multi_target_forest = MultiOutputClassifier(rf_model_M, n_jobs=-1)\n",
    "for i in range(cross_val):\n",
    "    msk = np.random.rand(len(dfTest1)) < 0.80\n",
    "\n",
    "    train = dfTest1[msk]\n",
    "    \n",
    "    test = dfTest1[~msk]\n",
    "\n",
    "    trainList = dfTest1.columns\n",
    "    trainList = trainList[0:-1]\n",
    "\n",
    "    features = trainList\n",
    "    \n",
    "    # Train the model\n",
    "    multi_target_forest.fit(train.filter(dfTest1.columns[:-2]), train.filter(dfTest1.columns[-2:]))\n",
    "\n",
    "    predictedDF = multi_target_forest.predict(test.filter(dfTest1.columns[:-2]))\n",
    "    ansListSeq = test['SequencingCenter'].tolist()\n",
    "    ansListPop = test['Population'].tolist()\n",
    "\n",
    "    averageAccuracyScore += printAccuracy(ansListSeq,ansListPop,predictedDF)\n",
    "    f1Pop += fScoreMulti(ansListPop,predictedDF[:,1:2].flatten())\n",
    "    f1Seq += fScoreMulti(ansListSeq,predictedDF[:,0:1].flatten())\n",
    "\n",
    "    print(averageAccuracyScore)\n",
    "print(\"F1-Score For Population: \",f1Pop/float(cross_val))\n",
    "print(\"F1-Score For Sequencing Center: \",f1Seq/float(cross_val))\n",
    "print(\"Average Accuracy of model is \" + str(averageAccuracyScore/cross_val))"
   ]
  },
  {
   "cell_type": "code",
   "execution_count": 388,
   "metadata": {
    "collapsed": true
   },
   "outputs": [],
   "source": [
    "def printAccuracy(ansListSeq,ansListPop,predictedDF):\n",
    "    count = 0\n",
    "    for i in range(len(ansListSeq)):\n",
    "        if ansListSeq[i] == predictedDF[i][0] and ansListPop[i] == predictedDF[i][1]:\n",
    "            count += 1\n",
    "#     print(countSeq/len(ansListSeq),countPop/len(ansListSeq))\n",
    "    return count/float(len(ansListSeq))"
   ]
  },
  {
   "cell_type": "code",
   "execution_count": 389,
   "metadata": {},
   "outputs": [],
   "source": [
    "def fScoreMulti(y_true,y_pred):\n",
    "    return sklearn.metrics.f1_score(y_true, y_pred,average='micro')"
   ]
  },
  {
   "cell_type": "code",
   "execution_count": 432,
   "metadata": {},
   "outputs": [],
   "source": [
    "# save the model to disk as pickle files\n",
    "filename = '/Users/jatingarg/Desktop/CompBioData/project1/multi_target_forest.pickle'\n",
    "pickle.dump(multi_target_forest, open(filename, 'wb'))"
   ]
  },
  {
   "cell_type": "code",
   "execution_count": 433,
   "metadata": {
    "collapsed": true
   },
   "outputs": [],
   "source": [
    "filename = '/Users/jatingarg/Desktop/CompBioData/project1/rf_modelSeq.pickle'\n",
    "pickle.dump(rf_modelSeq, open(filename, 'wb'))"
   ]
  },
  {
   "cell_type": "code",
   "execution_count": 434,
   "metadata": {
    "collapsed": true
   },
   "outputs": [],
   "source": [
    "filename = '/Users/jatingarg/Desktop/CompBioData/project1/rf_modelPop.pickle'\n",
    "pickle.dump(rf_modelPop, open(filename, 'wb'))"
   ]
  },
  {
   "cell_type": "markdown",
   "metadata": {
    "collapsed": true
   },
   "source": [
    "### Finish"
   ]
  }
 ],
 "metadata": {
  "kernelspec": {
   "display_name": "Python 3",
   "language": "python",
   "name": "python3"
  },
  "language_info": {
   "codemirror_mode": {
    "name": "ipython",
    "version": 3
   },
   "file_extension": ".py",
   "mimetype": "text/x-python",
   "name": "python",
   "nbconvert_exporter": "python",
   "pygments_lexer": "ipython3",
   "version": "3.6.1"
  }
 },
 "nbformat": 4,
 "nbformat_minor": 2
}
